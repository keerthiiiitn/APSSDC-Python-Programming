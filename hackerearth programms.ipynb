{
 "cells": [
  {
   "cell_type": "code",
   "execution_count": 24,
   "metadata": {},
   "outputs": [
    {
     "name": "stdout",
     "output_type": "stream",
     "text": [
      "1\n",
      "23 July 1914\n",
      "['23', 'July', '1914']\n",
      "[22, 'July', '1914']\n"
     ]
    }
   ],
   "source": [
    "# t --> 3\n",
    "# 23 July 1914\n",
    "# 2 August 2000\n",
    "# 5 November 1999\n",
    "\n",
    "def sherlockAndDate(n):\n",
    "    li = []\n",
    "    sentence = n.split()\n",
    "    print(sentence)\n",
    "    for i in sentence:\n",
    "        if sentence[0].isdigit():\n",
    "            res = int(sentence[0])-1\n",
    "        else:\n",
    "            continue\n",
    "    sentence[0] = res\n",
    "    print(sentence)\n",
    "    li.append(sentence)\n",
    "\n",
    "t = int(input())\n",
    "for i in range(1,t+1):\n",
    "    n = input()\n",
    "    sherlockAndDate(n)\n",
    "    "
   ]
  },
  {
   "cell_type": "code",
   "execution_count": 32,
   "metadata": {},
   "outputs": [
    {
     "name": "stdout",
     "output_type": "stream",
     "text": [
      "2\n",
      "10\n",
      "23\n",
      "100\n",
      "2318\n"
     ]
    }
   ],
   "source": [
    "def easyMultiple(n):\n",
    "    s = 0\n",
    "    for i in range(1, n):\n",
    "        if(i%3==0 or i%5==0):\n",
    "            s += i\n",
    "    print(s)\n",
    "    \n",
    "    \n",
    "t = int(input())\n",
    "for i in range(1,t+1):\n",
    "    n = int(input())\n",
    "    easyMultiple(n)"
   ]
  },
  {
   "cell_type": "code",
   "execution_count": null,
   "metadata": {},
   "outputs": [],
   "source": [
    "def mobilePattern(m):\n",
    "    p = '^[+91||91||0][6-9][0-9]{9}'\n",
    "    if m == p:\n",
    "        print('+91'+'-'+m[]\n",
    "\n",
    "\n",
    "\n",
    "n = int(input())\n",
    "for i in range(n):\n",
    "    m = int(input())\n",
    "    mobilePattern(m)"
   ]
  },
  {
   "cell_type": "code",
   "execution_count": 10,
   "metadata": {},
   "outputs": [
    {
     "name": "stdout",
     "output_type": "stream",
     "text": [
      "917897654340\n",
      "+91-(178)-976-5434\n"
     ]
    }
   ],
   "source": [
    "s=input()\n",
    "if len(s) == 11:\n",
    "    print(\"+91\"+\"-\"+\"(\"+s[1:4]+\")\"+\"-\"+s[4:7]+\"-\"+s[7:11])\n",
    "elif len(s) == 12:\n",
    "    print(\"+91\"+\"-\"+\"(\"+s[1:4]+\")\"+\"-\"+s[4:7]+\"-\"+s[7:11])\n",
    "else:\n",
    "    print(\"+91\"+\"-\"+\"(\"+s[0:3]+\")\"+\"-\"+s[3:6]+\"-\"+s[6:10])"
   ]
  },
  {
   "cell_type": "code",
   "execution_count": 7,
   "metadata": {},
   "outputs": [
    {
     "name": "stdout",
     "output_type": "stream",
     "text": [
      "2\n",
      "3456709876123\n",
      "True\n",
      "86754321345\n",
      "False\n"
     ]
    }
   ],
   "source": [
    "## pandigital\n",
    "# 3456798765123456 --> in given digit if it contains 0-9 \n",
    "\n",
    "def panDigital(s):\n",
    "    c = 0\n",
    "    for i in range(0,10):\n",
    "        if str(i) in s:\n",
    "            c += 1\n",
    "    if c == 10:\n",
    "        print('True')\n",
    "    else:\n",
    "        print('False')\n",
    "\n",
    "t = int(input())\n",
    "for i in range(t):\n",
    "    s = input()\n",
    "    panDigital(s)"
   ]
  },
  {
   "cell_type": "code",
   "execution_count": 10,
   "metadata": {},
   "outputs": [
    {
     "name": "stdout",
     "output_type": "stream",
     "text": [
      "1\n",
      "-78 9 8 -10 100 -32\n",
      "3\n"
     ]
    }
   ],
   "source": [
    "# inverse sum\n",
    "\n",
    "def inverseSum(n):\n",
    "    s = 0\n",
    "    for i in n:\n",
    "        s += i\n",
    "    print(abs(s))\n",
    "\n",
    "t = int(input())\n",
    "for i in range(t):\n",
    "    n = map(int,input().split())\n",
    "    inverseSum(n)"
   ]
  },
  {
   "cell_type": "code",
   "execution_count": 12,
   "metadata": {},
   "outputs": [
    {
     "name": "stdout",
     "output_type": "stream",
     "text": [
      "1\n",
      "Hi Keerthi!\n",
      "Ij Lffsuij!"
     ]
    }
   ],
   "source": [
    "# Hai --> Ibj\n",
    "# Hi Keerthi! --> Ij Lffsuij\n",
    "\n",
    "def messageEncryption(s):\n",
    "    for i in s:\n",
    "        if i.isalpha():\n",
    "            print(chr(ord(i)+1),end=\"\")\n",
    "        else:\n",
    "            print(i,end=\"\")\n",
    "    \n",
    "t = int(input())\n",
    "for i in range(t):\n",
    "    s = input()\n",
    "    messageEncryption(s)"
   ]
  },
  {
   "cell_type": "code",
   "execution_count": 18,
   "metadata": {},
   "outputs": [
    {
     "data": {
      "text/plain": [
       "72"
      ]
     },
     "execution_count": 18,
     "metadata": {},
     "output_type": "execute_result"
    }
   ],
   "source": [
    "ord('H')"
   ]
  },
  {
   "cell_type": "code",
   "execution_count": 20,
   "metadata": {},
   "outputs": [
    {
     "data": {
      "text/plain": [
       "'j'"
      ]
     },
     "execution_count": 20,
     "metadata": {},
     "output_type": "execute_result"
    }
   ],
   "source": [
    "chr(106)"
   ]
  },
  {
   "cell_type": "code",
   "execution_count": 11,
   "metadata": {},
   "outputs": [
    {
     "name": "stdout",
     "output_type": "stream",
     "text": [
      "H\n",
      "i\n",
      " \n",
      "K\n",
      "e\n",
      "e\n",
      "r\n",
      "t\n",
      "h\n",
      "i\n",
      "!\n"
     ]
    }
   ],
   "source": [
    "s = 'Hi Keerthi!'\n",
    "for i in s:\n",
    "    print(i)"
   ]
  },
  {
   "cell_type": "code",
   "execution_count": 32,
   "metadata": {},
   "outputs": [
    {
     "name": "stdout",
     "output_type": "stream",
     "text": [
      "3 3\n",
      "1 2\n"
     ]
    },
    {
     "ename": "TypeError",
     "evalue": "cannot unpack non-iterable int object",
     "output_type": "error",
     "traceback": [
      "\u001b[1;31m---------------------------------------------------------------------------\u001b[0m",
      "\u001b[1;31mTypeError\u001b[0m                                 Traceback (most recent call last)",
      "\u001b[1;32m<ipython-input-32-5ada58b7c9f1>\u001b[0m in \u001b[0;36m<module>\u001b[1;34m\u001b[0m\n\u001b[0;32m     16\u001b[0m \u001b[1;32mfor\u001b[0m \u001b[0mi\u001b[0m \u001b[1;32min\u001b[0m \u001b[0mrange\u001b[0m\u001b[1;33m(\u001b[0m\u001b[0mn\u001b[0m\u001b[1;33m)\u001b[0m\u001b[1;33m:\u001b[0m\u001b[1;33m\u001b[0m\u001b[1;33m\u001b[0m\u001b[0m\n\u001b[0;32m     17\u001b[0m     \u001b[0mn1\u001b[0m\u001b[1;33m,\u001b[0m\u001b[0mm1\u001b[0m \u001b[1;33m=\u001b[0m \u001b[0mmap\u001b[0m\u001b[1;33m(\u001b[0m\u001b[0mint\u001b[0m\u001b[1;33m,\u001b[0m\u001b[0minput\u001b[0m\u001b[1;33m(\u001b[0m\u001b[1;33m)\u001b[0m\u001b[1;33m.\u001b[0m\u001b[0msplit\u001b[0m\u001b[1;33m(\u001b[0m\u001b[1;33m)\u001b[0m\u001b[1;33m)\u001b[0m\u001b[1;33m\u001b[0m\u001b[1;33m\u001b[0m\u001b[0m\n\u001b[1;32m---> 18\u001b[1;33m     \u001b[0mkilljeeAndEasyProblem\u001b[0m\u001b[1;33m(\u001b[0m\u001b[0mn1\u001b[0m\u001b[1;33m,\u001b[0m\u001b[0mm1\u001b[0m\u001b[1;33m)\u001b[0m\u001b[1;33m\u001b[0m\u001b[1;33m\u001b[0m\u001b[0m\n\u001b[0m",
      "\u001b[1;32m<ipython-input-32-5ada58b7c9f1>\u001b[0m in \u001b[0;36mkilljeeAndEasyProblem\u001b[1;34m(n1, m1)\u001b[0m\n\u001b[0;32m      4\u001b[0m     \u001b[0mli\u001b[0m \u001b[1;33m=\u001b[0m \u001b[1;33m[\u001b[0m\u001b[1;33m]\u001b[0m\u001b[1;33m\u001b[0m\u001b[1;33m\u001b[0m\u001b[0m\n\u001b[0;32m      5\u001b[0m     \u001b[0mc\u001b[0m \u001b[1;33m=\u001b[0m \u001b[1;36m0\u001b[0m\u001b[1;33m\u001b[0m\u001b[1;33m\u001b[0m\u001b[0m\n\u001b[1;32m----> 6\u001b[1;33m     \u001b[1;32mfor\u001b[0m \u001b[0mi\u001b[0m\u001b[1;33m,\u001b[0m\u001b[0mj\u001b[0m \u001b[1;32min\u001b[0m \u001b[0mn1\u001b[0m\u001b[1;33m,\u001b[0m\u001b[0mm1\u001b[0m\u001b[1;33m:\u001b[0m\u001b[1;33m\u001b[0m\u001b[1;33m\u001b[0m\u001b[0m\n\u001b[0m\u001b[0;32m      7\u001b[0m         \u001b[0mc\u001b[0m \u001b[1;33m+=\u001b[0m \u001b[1;36m1\u001b[0m\u001b[1;33m\u001b[0m\u001b[1;33m\u001b[0m\u001b[0m\n\u001b[0;32m      8\u001b[0m         \u001b[1;32mif\u001b[0m \u001b[1;32mnot\u001b[0m\u001b[1;33m(\u001b[0m\u001b[1;33m(\u001b[0m\u001b[0mi\u001b[0m \u001b[1;32min\u001b[0m \u001b[0mli\u001b[0m\u001b[1;33m)\u001b[0m \u001b[1;32mor\u001b[0m \u001b[1;33m(\u001b[0m\u001b[0mj\u001b[0m \u001b[1;32min\u001b[0m \u001b[0mli\u001b[0m\u001b[1;33m)\u001b[0m\u001b[1;33m)\u001b[0m\u001b[1;33m:\u001b[0m\u001b[1;33m\u001b[0m\u001b[1;33m\u001b[0m\u001b[0m\n",
      "\u001b[1;31mTypeError\u001b[0m: cannot unpack non-iterable int object"
     ]
    }
   ],
   "source": [
    "# killjee and easy problem\n",
    "\n",
    "def killjeeAndEasyProblem(n1,m1):\n",
    "    li = []\n",
    "    c = 0\n",
    "    for i,j in n1,m1:\n",
    "        c += 1\n",
    "        if not((i in li) or (j in li)):\n",
    "            li.append(i,j)\n",
    "    print(c)\n",
    "    print(li)\n",
    "\n",
    "\n",
    "\n",
    "n,m = map(int,input().split())\n",
    "for i in range(n):\n",
    "    n1,m1 = map(int,input().split())\n",
    "    killjeeAndEasyProblem(n1,m1)"
   ]
  },
  {
   "cell_type": "code",
   "execution_count": 4,
   "metadata": {},
   "outputs": [
    {
     "name": "stdout",
     "output_type": "stream",
     "text": [
      "3 3\n"
     ]
    },
    {
     "ename": "TypeError",
     "evalue": "'map' object cannot be interpreted as an integer",
     "output_type": "error",
     "traceback": [
      "\u001b[1;31m---------------------------------------------------------------------------\u001b[0m",
      "\u001b[1;31mTypeError\u001b[0m                                 Traceback (most recent call last)",
      "\u001b[1;32m<ipython-input-4-ca44b62ed24e>\u001b[0m in \u001b[0;36m<module>\u001b[1;34m\u001b[0m\n\u001b[0;32m     17\u001b[0m \u001b[1;33m\u001b[0m\u001b[0m\n\u001b[0;32m     18\u001b[0m \u001b[0mn\u001b[0m \u001b[1;33m=\u001b[0m \u001b[0mmap\u001b[0m\u001b[1;33m(\u001b[0m\u001b[0mint\u001b[0m\u001b[1;33m,\u001b[0m\u001b[0minput\u001b[0m\u001b[1;33m(\u001b[0m\u001b[1;33m)\u001b[0m\u001b[1;33m.\u001b[0m\u001b[0msplit\u001b[0m\u001b[1;33m(\u001b[0m\u001b[1;33m)\u001b[0m\u001b[1;33m)\u001b[0m\u001b[1;33m\u001b[0m\u001b[1;33m\u001b[0m\u001b[0m\n\u001b[1;32m---> 19\u001b[1;33m \u001b[1;32mfor\u001b[0m \u001b[0mi\u001b[0m \u001b[1;32min\u001b[0m \u001b[0mrange\u001b[0m\u001b[1;33m(\u001b[0m\u001b[0mn\u001b[0m\u001b[1;33m)\u001b[0m\u001b[1;33m:\u001b[0m\u001b[1;33m\u001b[0m\u001b[1;33m\u001b[0m\u001b[0m\n\u001b[0m\u001b[0;32m     20\u001b[0m     \u001b[0mt\u001b[0m \u001b[1;33m=\u001b[0m \u001b[0mlist\u001b[0m\u001b[1;33m(\u001b[0m\u001b[0mmap\u001b[0m\u001b[1;33m(\u001b[0m\u001b[0mint\u001b[0m\u001b[1;33m,\u001b[0m\u001b[0minput\u001b[0m\u001b[1;33m(\u001b[0m\u001b[1;33m)\u001b[0m\u001b[1;33m.\u001b[0m\u001b[0msplit\u001b[0m\u001b[1;33m(\u001b[0m\u001b[1;33m)\u001b[0m\u001b[1;33m)\u001b[0m\u001b[1;33m)\u001b[0m\u001b[1;33m\u001b[0m\u001b[1;33m\u001b[0m\u001b[0m\n\u001b[0;32m     21\u001b[0m     \u001b[0mkilljeeAndEasyProblem\u001b[0m\u001b[1;33m(\u001b[0m\u001b[0mt\u001b[0m\u001b[1;33m)\u001b[0m\u001b[1;33m\u001b[0m\u001b[1;33m\u001b[0m\u001b[0m\n",
      "\u001b[1;31mTypeError\u001b[0m: 'map' object cannot be interpreted as an integer"
     ]
    }
   ],
   "source": [
    "# killjee and easy problem\n",
    "\n",
    "def killjeeAndEasyProblem(t):\n",
    "    \n",
    "    for i in t:\n",
    "        li = []\n",
    "        if i not in li:\n",
    "            li.append(i)\n",
    "    print(li)\n",
    "#         if i not in li:\n",
    "#             li.append(i)\n",
    "#         if j not in li:\n",
    "#             li.append(j)\n",
    "#     print(li)\n",
    "\n",
    "\n",
    "\n",
    "n = map(int,input().split())\n",
    "for i in range(n):\n",
    "    t = list(map(int,input().split()))\n",
    "    killjeeAndEasyProblem(t)"
   ]
  },
  {
   "cell_type": "code",
   "execution_count": 9,
   "metadata": {},
   "outputs": [
    {
     "name": "stdout",
     "output_type": "stream",
     "text": [
      "1\n",
      "suma samu\n",
      "['s', 'u', 'm', 'a']\n",
      "['s', 'a', 'm', 'u']\n",
      "YES\n",
      "NO\n",
      "NO\n",
      "NO\n",
      "NO\n",
      "NO\n",
      "NO\n",
      "YES\n",
      "NO\n",
      "NO\n",
      "YES\n",
      "NO\n",
      "NO\n",
      "YES\n",
      "NO\n",
      "NO\n"
     ]
    }
   ],
   "source": [
    "def twoStrings(s1,s2):\n",
    "    li = []\n",
    "    li2 = []\n",
    "    for i in s1:\n",
    "        li.append(i)\n",
    "    print(li)\n",
    "    for j in s2:\n",
    "        li2.append(j)\n",
    "    print(li2)\n",
    "    for i in range(0,len(li)):\n",
    "        for j in range(0,len(li2)):\n",
    "            if li[i] in li2[j]:\n",
    "                print('YES')\n",
    "            else:\n",
    "                print('NO')\n",
    "    \n",
    "    \n",
    "n = int(input())\n",
    "for i in range(n):\n",
    "    s1,s2 = map(str,input().split())\n",
    "    twoStrings(s1,s2)"
   ]
  },
  {
   "cell_type": "code",
   "execution_count": null,
   "metadata": {},
   "outputs": [],
   "source": []
  }
 ],
 "metadata": {
  "kernelspec": {
   "display_name": "Python 3",
   "language": "python",
   "name": "python3"
  },
  "language_info": {
   "codemirror_mode": {
    "name": "ipython",
    "version": 3
   },
   "file_extension": ".py",
   "mimetype": "text/x-python",
   "name": "python",
   "nbconvert_exporter": "python",
   "pygments_lexer": "ipython3",
   "version": "3.7.3"
  }
 },
 "nbformat": 4,
 "nbformat_minor": 2
}
