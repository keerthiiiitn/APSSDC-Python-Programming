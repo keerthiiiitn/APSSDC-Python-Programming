{
 "cells": [
  {
   "cell_type": "code",
   "execution_count": 1,
   "metadata": {
    "scrolled": true
   },
   "outputs": [
    {
     "name": "stdout",
     "output_type": "stream",
     "text": [
      "5 5\n",
      "1 2 3 4 5\n",
      "[1, 2, 3, 4, 5]\n"
     ]
    }
   ],
   "source": [
    "# Array Insert\n",
    "\n",
    "li = input().split()\n",
    "n = int(li[0])\n",
    "q = int(li[1])\n",
    "arr = input().split()\n",
    "li = []\n",
    "for i in range(1, n+1):\n",
    "    li.append(i)\n",
    "print(li)\n",
    "#for i in range(1, n+1):\n",
    "    \n",
    "\n"
   ]
  },
  {
   "cell_type": "code",
   "execution_count": 34,
   "metadata": {},
   "outputs": [
    {
     "name": "stdout",
     "output_type": "stream",
     "text": [
      "4\n",
      "3 2 2 1\n"
     ]
    },
    {
     "ename": "SyntaxError",
     "evalue": "'return' outside function (<ipython-input-34-88d7e0d48470>, line 14)",
     "output_type": "error",
     "traceback": [
      "\u001b[1;36m  File \u001b[1;32m\"<ipython-input-34-88d7e0d48470>\"\u001b[1;36m, line \u001b[1;32m14\u001b[0m\n\u001b[1;33m    return item[1]\u001b[0m\n\u001b[1;37m    ^\u001b[0m\n\u001b[1;31mSyntaxError\u001b[0m\u001b[1;31m:\u001b[0m 'return' outside function\n"
     ]
    }
   ],
   "source": [
    "n = int(input())\n",
    "arr = input().split()\n",
    "li = []\n",
    "dic={}\n",
    "# print(arr)\n",
    "for i in range(0, len(arr)):\n",
    "    li.append(int(arr[i]))\n",
    "#print(li)\n",
    "for i in li:\n",
    "    dic[i] = li.count(i)\n",
    "#print(dic)\n",
    "for item in dic.items():\n",
    "    if(item[0] == 3):\n",
    "        return item[1]\n",
    "return('not present')\n",
    "    "
   ]
  },
  {
   "cell_type": "code",
   "execution_count": null,
   "metadata": {},
   "outputs": [],
   "source": [
    "# Binary Queries\n",
    "\n",
    "def binaryQueries(q, q1):\n",
    "    for i in range(0, len(q1)):\n",
    "        if q[i] == 1:\n",
    "            continue\n",
    "        else:\n",
    "            q[i] = 1\n",
    "print(str(q,2))\n",
    "    \n",
    "\n",
    "\n",
    "li = input().split()\n",
    "n = int(li[0])\n",
    "q = int(li[1])\n",
    "arr = list(map(int,input().split()))\n",
    "for i in range(1,q+1):\n",
    "    q1 = list(map(int,input().split()))\n",
    "    binaryQueries(q, q1)"
   ]
  },
  {
   "cell_type": "code",
   "execution_count": 14,
   "metadata": {},
   "outputs": [
    {
     "name": "stdout",
     "output_type": "stream",
     "text": [
      "1 2\n",
      "[1, 1, 1, 1, 1]\n"
     ]
    }
   ],
   "source": [
    "q = [1, 0, 1, 1, 1]\n",
    "q1 = list(map(int, input().split()))\n",
    "for i in range(0, len(q1)):\n",
    "    if q[i] == 1:\n",
    "        continue\n",
    "    else:\n",
    "        q[i] = 1\n",
    "print(q)"
   ]
  },
  {
   "cell_type": "code",
   "execution_count": 17,
   "metadata": {},
   "outputs": [
    {
     "name": "stdout",
     "output_type": "stream",
     "text": [
      "6\n"
     ]
    }
   ],
   "source": [
    "n = '110'\n",
    "print(int(n,2))"
   ]
  },
  {
   "cell_type": "markdown",
   "metadata": {},
   "source": []
  }
 ],
 "metadata": {
  "kernelspec": {
   "display_name": "Python 3",
   "language": "python",
   "name": "python3"
  },
  "language_info": {
   "codemirror_mode": {
    "name": "ipython",
    "version": 3
   },
   "file_extension": ".py",
   "mimetype": "text/x-python",
   "name": "python",
   "nbconvert_exporter": "python",
   "pygments_lexer": "ipython3",
   "version": "3.7.3"
  }
 },
 "nbformat": 4,
 "nbformat_minor": 2
}
