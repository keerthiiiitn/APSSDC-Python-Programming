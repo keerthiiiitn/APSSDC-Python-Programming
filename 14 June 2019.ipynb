{
 "cells": [
  {
   "cell_type": "markdown",
   "metadata": {},
   "source": [
    "### Programming Solving and Programming in Python - Day 4\n",
    "\n",
    "\n",
    "### Date - 14 June 2019\n",
    "\n",
    "### Day Objectives\n",
    "      \n",
    "  - Python Data Structures\n",
    "       - List\n",
    "       - Tuple\n",
    "       - Dictionaries\n",
    "  - Basic problem set on data structures\n",
    "  - Advanced problem set\n",
    "  - Packages and modules in python"
   ]
  },
  {
   "cell_type": "code",
   "execution_count": null,
   "metadata": {},
   "outputs": [],
   "source": []
  },
  {
   "cell_type": "markdown",
   "metadata": {},
   "source": [
    "# Python Date Structures\n",
    "\n",
    "## Lists"
   ]
  },
  {
   "cell_type": "code",
   "execution_count": 101,
   "metadata": {},
   "outputs": [
    {
     "data": {
      "text/plain": [
       "788"
      ]
     },
     "execution_count": 101,
     "metadata": {},
     "output_type": "execute_result"
    }
   ],
   "source": [
    "# How to initiate list\n",
    "\n",
    "li = [123, 978, 654]\n",
    "li # Accessing the entire list\n",
    "\n",
    "li[1] # Accessing an element with index in a list\n",
    "\n",
    "# All string slicing operations will works on list\n",
    "\n",
    "li[1:] # Access all elements from second element to last element\n",
    "\n",
    "li[::-1] # Access all elements in reverse order\n",
    "\n",
    "li # Access original list\n",
    "\n",
    "li = li[::-1] # reverse order is updated to list\n",
    "li\n",
    "\n",
    "li = li[::-1]\n",
    "li # It is back to original list\n",
    "\n",
    "li[::2] # Accessing even index elements\n",
    "\n",
    "li[1::2]\n",
    "\n",
    "# Lists can be accessed, manipulated in two different way\n",
    "    # Direct Referencing -> [index] if we perform operations throrugh index then it is called Direct Referencing\n",
    "    # Indirect Referencing -> Through Functions\n",
    "    \n",
    "    \n",
    "li.append(345) # Adding an element to end of the list.\n",
    "li\n",
    "\n",
    "li.insert(1,234) # Inserting an element at a particular position.\n",
    "li\n",
    "\n",
    "li.sort() # Sort elements in ascending order.\n",
    "li\n",
    "\n",
    "# Remove the last element in a list\n",
    "\n",
    "li.pop() # Remove the last element in a list\n",
    "li.pop(len(li)-1) # Another way to remove the last element in a list\n",
    "\n",
    "li.pop(1) # Remove an element at a particular index\n",
    "li\n",
    "\n",
    "li2 = [234, 456, 789]\n",
    "li2\n",
    "\n",
    "li.extend(li2) # Merge list 2 into list 1\n",
    "li\n",
    "\n",
    "li.insert(2,654) # Inserting an element at a particular position.\n",
    "li\n",
    "\n",
    "sum(li) # Sum of all elements in a list\n",
    "max(li) # Accessing the maximum element in a list\n",
    "min(li) # Accessing the minimum element in a list\n",
    "len(li) # Number of elements in a list\n",
    "\n",
    "\n",
    "sum(li)/len(li) # Average of list elements\n",
    "\n",
    "sum(li[::2])/len(li[::2]) # Average of alternative elements\n",
    "\n",
    "max(li)-1\n",
    "try:\n",
    "    li.index()\n"
   ]
  },
  {
   "cell_type": "code",
   "execution_count": 84,
   "metadata": {},
   "outputs": [
    {
     "data": {
      "text/plain": [
       "[123, 234, 345, 456, 654, 789]"
      ]
     },
     "execution_count": 84,
     "metadata": {},
     "output_type": "execute_result"
    }
   ],
   "source": [
    "li"
   ]
  },
  {
   "cell_type": "code",
   "execution_count": null,
   "metadata": {},
   "outputs": [],
   "source": []
  },
  {
   "cell_type": "code",
   "execution_count": 85,
   "metadata": {},
   "outputs": [
    {
     "data": {
      "text/plain": [
       "234"
      ]
     },
     "execution_count": 85,
     "metadata": {},
     "output_type": "execute_result"
    }
   ],
   "source": [
    "# Function to identify second largest element in a list\n",
    "\n",
    "def secondLargest(li):\n",
    "    li.sort()\n",
    "    return li[-2]\n",
    "\n",
    "# Function that returns the nth largest\n",
    "def gnericLargest(li, n):\n",
    "    li.sort()\n",
    "    return li[-n]\n",
    "\n",
    "secondLargest(li)\n",
    "gnericLargest(li, 5)"
   ]
  },
  {
   "cell_type": "code",
   "execution_count": null,
   "metadata": {},
   "outputs": [],
   "source": []
  },
  {
   "cell_type": "code",
   "execution_count": 89,
   "metadata": {},
   "outputs": [
    {
     "data": {
      "text/plain": [
       "[123, 234, 345, 456, 654, 789]"
      ]
     },
     "execution_count": 89,
     "metadata": {},
     "output_type": "execute_result"
    }
   ],
   "source": [
    "li"
   ]
  },
  {
   "cell_type": "code",
   "execution_count": null,
   "metadata": {},
   "outputs": [],
   "source": []
  },
  {
   "cell_type": "code",
   "execution_count": 109,
   "metadata": {
    "scrolled": false
   },
   "outputs": [
    {
     "data": {
      "text/plain": [
       "4"
      ]
     },
     "execution_count": 109,
     "metadata": {},
     "output_type": "execute_result"
    }
   ],
   "source": [
    "# Function to search for data in a list\n",
    "# Search for the key in the list and return the index of the key. Return -1 if key is not found\n",
    "\n",
    "def linearSearch(li, key):\n",
    "    for index in range(0, len(li)):\n",
    "        if li[index] == key:\n",
    "            return index + 1\n",
    "    return -1\n",
    "\n",
    "def linearSearch2(li, key):\n",
    "    for element in li:\n",
    "        if element == key:\n",
    "            return li.index(element)\n",
    "    return -1\n",
    "\n",
    "def linearSearch3(li, key):\n",
    "    if key in li:\n",
    "        return li.index(key)\n",
    "    return -1\n",
    "\n",
    "linearSearch3(li, 456)"
   ]
  },
  {
   "cell_type": "code",
   "execution_count": null,
   "metadata": {},
   "outputs": [],
   "source": []
  },
  {
   "cell_type": "code",
   "execution_count": 118,
   "metadata": {},
   "outputs": [
    {
     "data": {
      "text/plain": [
       "[123, 234, 345, 456, 654, 789]"
      ]
     },
     "execution_count": 118,
     "metadata": {},
     "output_type": "execute_result"
    }
   ],
   "source": [
    "li = [123, 234, 345, 456, 654, 789]\n",
    "li"
   ]
  },
  {
   "cell_type": "code",
   "execution_count": null,
   "metadata": {},
   "outputs": [],
   "source": []
  },
  {
   "cell_type": "code",
   "execution_count": 20,
   "metadata": {},
   "outputs": [
    {
     "data": {
      "text/plain": [
       "1"
      ]
     },
     "execution_count": 20,
     "metadata": {},
     "output_type": "execute_result"
    }
   ],
   "source": [
    "# Function to count the occurance of a character in a string\n",
    "# \"Python Programming\", m --> 2 \n",
    "\n",
    "def countCharacterOccurances1(string, substr):\n",
    "    count = 0\n",
    "    if substr in string:\n",
    "        count = count + 1\n",
    "    return count\n",
    "\n",
    "def countCharacterOccurances2(li, key):\n",
    "    return li.count(key)\n",
    "\n",
    "\n",
    "countCharacterOccurances1(\"Python Programming\", 'Py')\n",
    "\n",
    "\n",
    "# Function to find the number of occurances of a substring\n",
    "# \"abcabcddcba\", \"ab\" --> 2 \n",
    "\n",
    "#def countCharacterOccurances3(li,)\n"
   ]
  },
  {
   "cell_type": "code",
   "execution_count": 19,
   "metadata": {},
   "outputs": [],
   "source": [
    "s=\"Python Programming\"\n",
    "if s in \"py\":\n",
    "    print(\"yes\")"
   ]
  },
  {
   "cell_type": "code",
   "execution_count": 6,
   "metadata": {
    "scrolled": true
   },
   "outputs": [
    {
     "data": {
      "text/plain": [
       "['1', '2', '3', '4', '5', '6']"
      ]
     },
     "execution_count": 6,
     "metadata": {},
     "output_type": "execute_result"
    }
   ],
   "source": [
    "s= \"1 2 3 4 5 6\"\n",
    "li = s.split()\n",
    "\n",
    "li"
   ]
  },
  {
   "cell_type": "code",
   "execution_count": 7,
   "metadata": {},
   "outputs": [
    {
     "data": {
      "text/plain": [
       "[1, 2, 3, 4, 5, 6]"
      ]
     },
     "execution_count": 7,
     "metadata": {},
     "output_type": "execute_result"
    }
   ],
   "source": [
    "s= \"1 2 3 4 5 6\"\n",
    "li = s.split()\n",
    "numberlist = []\n",
    "for i in li:\n",
    "    numberlist.append(int(i))\n",
    "numberlist\n"
   ]
  },
  {
   "cell_type": "code",
   "execution_count": null,
   "metadata": {},
   "outputs": [],
   "source": []
  }
 ],
 "metadata": {
  "kernelspec": {
   "display_name": "Python 3",
   "language": "python",
   "name": "python3"
  },
  "language_info": {
   "codemirror_mode": {
    "name": "ipython",
    "version": 3
   },
   "file_extension": ".py",
   "mimetype": "text/x-python",
   "name": "python",
   "nbconvert_exporter": "python",
   "pygments_lexer": "ipython3",
   "version": "3.7.3"
  }
 },
 "nbformat": 4,
 "nbformat_minor": 2
}
