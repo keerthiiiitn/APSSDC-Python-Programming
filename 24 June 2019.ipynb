{
 "cells": [
  {
   "cell_type": "code",
   "execution_count": 1,
   "metadata": {},
   "outputs": [
    {
     "name": "stdout",
     "output_type": "stream",
     "text": [
      "21\n"
     ]
    }
   ],
   "source": [
    "a = '10101'\n",
    "print(int(a,2))"
   ]
  },
  {
   "cell_type": "code",
   "execution_count": 3,
   "metadata": {},
   "outputs": [
    {
     "name": "stdout",
     "output_type": "stream",
     "text": [
      "10101\n",
      "65793\n"
     ]
    }
   ],
   "source": [
    "a = '10101'\n",
    "print(int(a,10))\n",
    "print(int(a,16))"
   ]
  },
  {
   "cell_type": "code",
   "execution_count": null,
   "metadata": {},
   "outputs": [],
   "source": []
  },
  {
   "cell_type": "code",
   "execution_count": 45,
   "metadata": {},
   "outputs": [
    {
     "name": "stdout",
     "output_type": "stream",
     "text": [
      "a11472o5t6\n",
      "0 2 1 0 1 1 1 1 0 0 "
     ]
    }
   ],
   "source": [
    "# s=a11472o5t6\n",
    "#o/p :- 0 2 1 0 1 1 1 1 0 0 --> Frequency of stored numbers\n",
    "\n",
    "# s = c --> 0 0 0 0 0 0 0 0 0 0\n",
    "\n",
    "# s = 1234567890  -->  1 1 1 1 1 1 1 1 1 1\n",
    "\n",
    "def uniqueData(allnumbers):\n",
    "    unique = []\n",
    "    for n in allnumbers:\n",
    "        if n not in unique:\n",
    "            unique.append(n)\n",
    "    return unique\n",
    "    \n",
    "    \n",
    "def digitFrequency(s):\n",
    "    allnumbers = []\n",
    "    for i in s:\n",
    "        if i.isdigit():\n",
    "            allnumbers.append(i)\n",
    "    unique = uniqueData(allnumbers)\n",
    "    for i in range(0, 10):\n",
    "        if str(i) not in unique:\n",
    "            print(0, end=\" \")\n",
    "        else:\n",
    "            count = allnumbers.count(str(i))\n",
    "            print(count, end=' ')\n",
    "\n",
    "s = input()          \n",
    "digitFrequency(s)\n",
    "        \n",
    "    "
   ]
  },
  {
   "cell_type": "code",
   "execution_count": null,
   "metadata": {},
   "outputs": [],
   "source": []
  },
  {
   "cell_type": "code",
   "execution_count": null,
   "metadata": {},
   "outputs": [],
   "source": []
  },
  {
   "cell_type": "code",
   "execution_count": null,
   "metadata": {},
   "outputs": [],
   "source": []
  },
  {
   "cell_type": "code",
   "execution_count": null,
   "metadata": {},
   "outputs": [],
   "source": [
    "# Contacts Application\n",
    "\n",
    "    # Add, Search, List, Modify Delete contacts\n",
    "\n",
    "       # Find and Replace Application\n",
    "\n",
    " # Count the total number of occurrences\n",
    "\n",
    " # If word is existing \n",
    "\n",
    " # Replace all occurrences of a word with another\n",
    "\n"
   ]
  },
  {
   "cell_type": "code",
   "execution_count": null,
   "metadata": {},
   "outputs": [],
   "source": []
  },
  {
   "cell_type": "code",
   "execution_count": null,
   "metadata": {},
   "outputs": [],
   "source": [
    "## Marks Analysis Application\n",
    "\n",
    "       # Generate marks file for n students\n",
    "\n",
    " # Input : Marks text file - each line contains marks of one students \n",
    "\n",
    " # Generates a report with the following information\n",
    "\n",
    " # Class Average \n",
    "\n",
    " # % of students passed\n",
    "\n",
    " # % of students failed\n",
    "\n",
    " # % of students with distinction\n",
    "\n",
    "# Highest Mark Frequency\n",
    "\n",
    "# Lowest Mark Frequency"
   ]
  },
  {
   "cell_type": "code",
   "execution_count": null,
   "metadata": {},
   "outputs": [],
   "source": []
  },
  {
   "cell_type": "code",
   "execution_count": 18,
   "metadata": {},
   "outputs": [],
   "source": [
    "# Function to generate marks data for N students\n",
    " \n",
    "from random import randint\n",
    "\n",
    "def generateMarks(n, lb, ub):\n",
    "    with open('datafiles/marks.txt', 'w') as f:\n",
    "        for i in range(0, n):\n",
    "            r = randint(lb, ub)\n",
    "            f.write(str(r) + '\\n')\n",
    "    return\n",
    "    \n",
    "generateMarks(10000, 0, 100) \n",
    "    "
   ]
  },
  {
   "cell_type": "code",
   "execution_count": null,
   "metadata": {},
   "outputs": [],
   "source": []
  },
  {
   "cell_type": "code",
   "execution_count": 31,
   "metadata": {},
   "outputs": [
    {
     "name": "stdout",
     "output_type": "stream",
     "text": [
      "499566\n"
     ]
    }
   ],
   "source": [
    "# Function to generate class average\n",
    "\n",
    "import re\n",
    "def averageOfPassedStudents(filepath):\n",
    "    s = 0\n",
    "    with open(filepath, 'r') as f:\n",
    "        filedata = f.read()\n",
    "        li = re.split('[ \\n]',filedata)\n",
    "        for i in li:\n",
    "            s = s + int(i)\n",
    "        print(s)\n",
    "\n",
    "filepath = 'datafiles/marks.txt'\n",
    "averageOfPassedStudents(filepath)"
   ]
  },
  {
   "cell_type": "code",
   "execution_count": 34,
   "metadata": {},
   "outputs": [
    {
     "name": "stdout",
     "output_type": "stream",
     "text": [
      "49.9566\n"
     ]
    }
   ],
   "source": [
    "# Function to generate class average\n",
    "\n",
    "import re\n",
    "def classAverage(filepath):\n",
    "    s = 0\n",
    "    with open(filepath, 'r') as f:\n",
    "        filedata = f.read()\n",
    "        li = re.split('[ \\n]',filedata)\n",
    "        for i in li:\n",
    "            s = s + int(i)\n",
    "            average = s/10000\n",
    "        print(average)\n",
    "\n",
    "filepath = 'datafiles/marks.txt'\n",
    "classAverage(filepath)"
   ]
  },
  {
   "cell_type": "code",
   "execution_count": null,
   "metadata": {},
   "outputs": [],
   "source": []
  }
 ],
 "metadata": {
  "kernelspec": {
   "display_name": "Python 3",
   "language": "python",
   "name": "python3"
  },
  "language_info": {
   "codemirror_mode": {
    "name": "ipython",
    "version": 3
   },
   "file_extension": ".py",
   "mimetype": "text/x-python",
   "name": "python",
   "nbconvert_exporter": "python",
   "pygments_lexer": "ipython3",
   "version": "3.7.3"
  }
 },
 "nbformat": 4,
 "nbformat_minor": 2
}
