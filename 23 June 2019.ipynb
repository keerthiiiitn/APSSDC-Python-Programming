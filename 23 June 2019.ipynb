{
 "cells": [
  {
   "cell_type": "code",
   "execution_count": 1,
   "metadata": {},
   "outputs": [
    {
     "data": {
      "text/plain": [
       "[1, 2, 3]"
      ]
     },
     "execution_count": 1,
     "metadata": {},
     "output_type": "execute_result"
    }
   ],
   "source": [
    "# Function to get unique elements in a list\n",
    "\n",
    "# [1,2,3,3,2] --> [1,2,3]\n",
    "# First create a empty unique list\n",
    "\n",
    "def uniqueData(filepath):\n",
    "    # Create an empty unique list\n",
    "    unique = []\n",
    "    \n",
    "    # For every element in the main list, \n",
    "        # check if it exists in the unique list.\n",
    "        # If it does not exist, add it to unique list.\n",
    "        # else if it already exists, move on to the next element\n",
    "    \n",
    "    for element in li:\n",
    "        if element not in unique:\n",
    "            unique.append(element)\n",
    "    return unique\n",
    "\n",
    "li = [1,2,3,3,2,1]\n",
    "uniqueData(li)"
   ]
  },
  {
   "cell_type": "code",
   "execution_count": null,
   "metadata": {},
   "outputs": [],
   "source": []
  },
  {
   "cell_type": "code",
   "execution_count": 2,
   "metadata": {},
   "outputs": [
    {
     "data": {
      "text/plain": [
       "3"
      ]
     },
     "execution_count": 2,
     "metadata": {},
     "output_type": "execute_result"
    }
   ],
   "source": [
    "# Function to get unique elements length in a list\n",
    "\n",
    "# [1,2,3,3,2] --> [1,2,3] --> 3\n",
    "# First create a empty unique list\n",
    "\n",
    "def uniqueData(filepath):\n",
    "    # Create an empty unique list\n",
    "    unique = []\n",
    "    \n",
    "    # For every element in the main list, \n",
    "        # check if it exists in the unique list.\n",
    "        # If it does not exist, add it to unique list.\n",
    "        # else if it already exists, move on to the next element\n",
    "    \n",
    "    for element in li:\n",
    "        if element not in unique:\n",
    "            unique.append(element)\n",
    "    return len(unique)\n",
    "\n",
    "li = [1,2,3,3,2,1]\n",
    "uniqueData(li)"
   ]
  },
  {
   "cell_type": "code",
   "execution_count": null,
   "metadata": {},
   "outputs": [],
   "source": []
  },
  {
   "cell_type": "code",
   "execution_count": 3,
   "metadata": {},
   "outputs": [
    {
     "data": {
      "text/plain": [
       "['n', 'e', 'w', ' ', 'L', 'i', '3', '\\n', 'r', 'g', 't']"
      ]
     },
     "execution_count": 3,
     "metadata": {},
     "output_type": "execute_result"
    }
   ],
   "source": [
    "# Function to count the number of unique elements in a text file\n",
    "\n",
    "\n",
    "def countUniqueWords(filepath):\n",
    "    # Create an empty unique list\n",
    "    unique = []\n",
    "    with open(filepath, 'r') as f:\n",
    "        filedata=f.read()\n",
    "        for i in filedata:\n",
    "            if i not in unique:\n",
    "                unique.append(i)\n",
    "    return unique\n",
    "\n",
    "filepath = 'datafiles/data.txt'\n",
    "countUniqueWords(filepath)"
   ]
  },
  {
   "cell_type": "code",
   "execution_count": null,
   "metadata": {},
   "outputs": [],
   "source": []
  },
  {
   "cell_type": "code",
   "execution_count": 4,
   "metadata": {},
   "outputs": [
    {
     "data": {
      "text/plain": [
       "['new', 'Line3', 'reg', 'tre']"
      ]
     },
     "execution_count": 4,
     "metadata": {},
     "output_type": "execute_result"
    }
   ],
   "source": [
    "# Function to count the number of unique words in a text file\n",
    "\n",
    "def countUniqueWords(filepath):\n",
    "    # Create an empty unique list\n",
    "    unique = []\n",
    "    with open(filepath, 'r') as f:\n",
    "        filedata = f.read()\n",
    "        l=list(filedata.split())\n",
    "        for i in l:\n",
    "            if i not in unique:\n",
    "                unique.append(i)\n",
    "    return unique\n",
    "\n",
    "filepath = 'datafiles/data.txt'\n",
    "countUniqueWords(filepath)"
   ]
  },
  {
   "cell_type": "code",
   "execution_count": null,
   "metadata": {},
   "outputs": [],
   "source": []
  },
  {
   "cell_type": "code",
   "execution_count": 5,
   "metadata": {},
   "outputs": [
    {
     "name": "stdout",
     "output_type": "stream",
     "text": [
      "['new', 'Line3', 'Line3', 'Line3', 'Line3', 'reg', 'tre', 'tre', 'Line3']\n",
      "['new', 'Line3', 'reg', 'tre']\n",
      "new : 1\n",
      "Line3 : 5\n",
      "reg : 1\n",
      "tre : 2\n"
     ]
    },
    {
     "data": {
      "text/plain": [
       "[1, 5, 1, 2]"
      ]
     },
     "execution_count": 5,
     "metadata": {},
     "output_type": "execute_result"
    }
   ],
   "source": [
    "# Function to print the frequency count of all words in a file\n",
    "# Frequency Distribution \n",
    "# Data in List 1\n",
    "# Data in List 2\n",
    "# Data in List 3\n",
    "# o/p\n",
    "# Data : 3\n",
    "# in : 3\n",
    "# line : 3\n",
    "# 1 : 1\n",
    "# 2 : 2\n",
    "# 3 : 3\n",
    "\n",
    "\n",
    "# Function to count the number of unique elements in a text file\n",
    "\n",
    "def countUniqueWords(filepath):\n",
    "    # Create an empty unique list\n",
    "    unique = []\n",
    "    freq = []\n",
    "    with open(filepath, 'r') as f:\n",
    "        filedata = f.read()\n",
    "        l=list(filedata.split())\n",
    "        print(l)\n",
    "        for i in l:\n",
    "            if i not in unique:\n",
    "                unique.append(i)\n",
    "        print(unique)\n",
    "        for i in unique:\n",
    "            freq.append(l.count(i))\n",
    "            print(i,':',l.count(i))\n",
    "    return freq\n",
    "\n",
    "filepath = 'datafiles/data.txt'\n",
    "countUniqueWords(filepath)\n"
   ]
  },
  {
   "cell_type": "code",
   "execution_count": null,
   "metadata": {},
   "outputs": [],
   "source": []
  }
 ],
 "metadata": {
  "kernelspec": {
   "display_name": "Python 3",
   "language": "python",
   "name": "python3"
  },
  "language_info": {
   "codemirror_mode": {
    "name": "ipython",
    "version": 3
   },
   "file_extension": ".py",
   "mimetype": "text/x-python",
   "name": "python",
   "nbconvert_exporter": "python",
   "pygments_lexer": "ipython3",
   "version": "3.7.3"
  }
 },
 "nbformat": 4,
 "nbformat_minor": 2
}
