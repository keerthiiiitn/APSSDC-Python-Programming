{
 "cells": [
  {
   "cell_type": "code",
   "execution_count": 1,
   "metadata": {},
   "outputs": [
    {
     "name": "stdout",
     "output_type": "stream",
     "text": [
      "30 Marks Stored/Generated in file successfully..\n"
     ]
    }
   ],
   "source": [
    "from random import randint\n",
    "\n",
    "def generateMarks(n, lb, ub):\n",
    "    filepath = 'Studentsdata/marks.txt'\n",
    "    with open(filepath, 'w') as f:\n",
    "        for i in range(0,n):\n",
    "            r=randint(lb,ub)\n",
    "            f.write(str(r)+'\\n')\n",
    "    print(n, \"Marks Stored/Generated in file successfully..\")\n",
    "\n",
    "generateMarks(30, 1, 100)"
   ]
  },
  {
   "cell_type": "code",
   "execution_count": null,
   "metadata": {},
   "outputs": [],
   "source": []
  },
  {
   "cell_type": "code",
   "execution_count": 2,
   "metadata": {},
   "outputs": [
    {
     "name": "stdout",
     "output_type": "stream",
     "text": [
      "14.5\n"
     ]
    }
   ],
   "source": [
    "# Class Average - classAverage(filepath)\n",
    "\n",
    "# sum of marks/student count\n",
    "\n",
    "def classAverage(filepath):\n",
    "    s=0\n",
    "    count=0\n",
    "    with open(filepath, 'r') as f:\n",
    "        filedata = f.read()\n",
    "        m=list(map(int,filedata.split()))\n",
    "        #print(m)\n",
    "        for i in range(len(m)):\n",
    "            s+=i\n",
    "            count+=1\n",
    "        print(s/count)\n",
    "\n",
    "filepath = 'Studentsdata/marks.txt'\n",
    "classAverage(filepath)"
   ]
  },
  {
   "cell_type": "code",
   "execution_count": null,
   "metadata": {},
   "outputs": [],
   "source": []
  },
  {
   "cell_type": "code",
   "execution_count": 3,
   "metadata": {},
   "outputs": [
    {
     "data": {
      "text/plain": [
       "56.666666666666664"
      ]
     },
     "execution_count": 3,
     "metadata": {},
     "output_type": "execute_result"
    }
   ],
   "source": [
    "# Function to generate class average of % of students passed\n",
    "\n",
    "\n",
    "def passPercentage(filepath):\n",
    "    count=0\n",
    "    mc=0\n",
    "    with open(filepath, 'r') as f:\n",
    "        for i in f:\n",
    "            mc=mc+1\n",
    "            if(int(i)>=35):\n",
    "                count=count+1\n",
    "        return (count/mc)*100\n",
    "    \n",
    "filepath = 'Studentsdata/marks.txt'\n",
    "passPercentage(filepath)       \n"
   ]
  },
  {
   "cell_type": "code",
   "execution_count": null,
   "metadata": {},
   "outputs": [],
   "source": []
  },
  {
   "cell_type": "code",
   "execution_count": 4,
   "metadata": {},
   "outputs": [
    {
     "data": {
      "text/plain": [
       "43.333333333333336"
      ]
     },
     "execution_count": 4,
     "metadata": {},
     "output_type": "execute_result"
    }
   ],
   "source": [
    "# Function to generate class average of % of students failed\n",
    "\n",
    "def failPercentage(filepath):\n",
    "    count=0\n",
    "    mc=0\n",
    "    with open(filepath, 'r') as f:\n",
    "        for i in f:\n",
    "            mc=mc+1\n",
    "            if(int(i)<=35):\n",
    "                count=count+1\n",
    "        return (count/mc)*100\n",
    "    \n",
    "filepath = 'Studentsdata/marks.txt'\n",
    "failPercentage(filepath)       \n"
   ]
  },
  {
   "cell_type": "code",
   "execution_count": null,
   "metadata": {},
   "outputs": [],
   "source": []
  },
  {
   "cell_type": "code",
   "execution_count": 5,
   "metadata": {},
   "outputs": [
    {
     "data": {
      "text/plain": [
       "16.666666666666664"
      ]
     },
     "execution_count": 5,
     "metadata": {},
     "output_type": "execute_result"
    }
   ],
   "source": [
    "# Function to generate class average of % of students with distinction\n",
    "\n",
    "def distinctionPercentage(filepath):\n",
    "    count=0\n",
    "    mc=0\n",
    "    with open(filepath, 'r') as f:\n",
    "        for i in f:\n",
    "            mc=mc+1\n",
    "            if(int(i) >= 75):\n",
    "                count=count+1\n",
    "        return (count/mc)*100\n",
    "    \n",
    "filepath = 'Studentsdata/marks.txt'\n",
    "distinctionPercentage(filepath)     "
   ]
  },
  {
   "cell_type": "code",
   "execution_count": null,
   "metadata": {},
   "outputs": [],
   "source": []
  },
  {
   "cell_type": "code",
   "execution_count": 6,
   "metadata": {},
   "outputs": [
    {
     "name": "stdout",
     "output_type": "stream",
     "text": [
      "1\n"
     ]
    }
   ],
   "source": [
    "# Highest Mark Frequency\n",
    "\n",
    "def frequencyHighest(filepath):\n",
    "    with open(filepath, 'r') as f:\n",
    "        sp = f.read().split()\n",
    "        sp = list(map(int,sp))\n",
    "        #print(max(sp))\n",
    "        print(sp.count(max(sp)))\n",
    "        \n",
    "\n",
    "frequencyHighest('Studentsdata/marks.txt')        "
   ]
  },
  {
   "cell_type": "code",
   "execution_count": null,
   "metadata": {},
   "outputs": [],
   "source": []
  },
  {
   "cell_type": "code",
   "execution_count": 7,
   "metadata": {},
   "outputs": [
    {
     "name": "stdout",
     "output_type": "stream",
     "text": [
      "2\n"
     ]
    }
   ],
   "source": [
    "# Lowest Mark Frequency\n",
    "\n",
    "def frequencyHighest(filepath):\n",
    "    with open(filepath, 'r') as f:\n",
    "        sp = f.read().split()\n",
    "        sp = list(map(int,sp))\n",
    "        #print(max(sp))\n",
    "        print(sp.count(min(sp)))\n",
    "        \n",
    "\n",
    "frequencyHighest('Studentsdata/marks.txt')  "
   ]
  },
  {
   "cell_type": "code",
   "execution_count": null,
   "metadata": {},
   "outputs": [],
   "source": []
  },
  {
   "cell_type": "code",
   "execution_count": null,
   "metadata": {},
   "outputs": [
    {
     "name": "stdout",
     "output_type": "stream",
     "text": [
      "Choose Option :\n",
      "1).Generation Marks\n",
      "2).Class Average\n",
      "3).Pass Percentage\n",
      "4).Fail Percentage\n",
      "5).Distinction Percentage\n",
      "6).Lowest Frequency\n",
      "7).Highest Frequency\n",
      "81\n",
      "50 Marks Stored/Generated in file successfully..\n",
      "Choose Option :\n",
      "1).Generation Marks\n",
      "2).Class Average\n",
      "3).Pass Percentage\n",
      "4).Fail Percentage\n",
      "5).Distinction Percentage\n",
      "6).Lowest Frequency\n",
      "7).Highest Frequency\n",
      "82\n",
      "24.5\n",
      "Choose Option :\n",
      "1).Generation Marks\n",
      "2).Class Average\n",
      "3).Pass Percentage\n",
      "4).Fail Percentage\n",
      "5).Distinction Percentage\n",
      "6).Lowest Frequency\n",
      "7).Highest Frequency\n",
      "83\n"
     ]
    }
   ],
   "source": [
    "def marksAnalysis(filepath):\n",
    "    while(True):\n",
    "        n=int(input(\"Choose Option :\\n1).Generation Marks\\n2).Class Average\\n3).Pass Percentage\\n4).Fail Percentage\\n5).Distinction Percentage\\n6).Lowest Frequency\\n7).Highest Frequency\\n8\"))\n",
    "        if(n==1):\n",
    "            generateMarks(50,1,100)\n",
    "        elif(n==2):\n",
    "            classAverage(filepath)\n",
    "        elif(n==3):\n",
    "            passPercentage(filepath)\n",
    "        elif(n==4):\n",
    "            failPercentage(filepath)\n",
    "        elif(n==5):\n",
    "            distinctionPercentage(filepath)\n",
    "        elif(n==6):\n",
    "            frequencyLowest(filepath)\n",
    "        elif(n==7):\n",
    "            frequencyHighest(filepath)\n",
    "        else:\n",
    "            break\n",
    "filepath = 'studentsData/marks.txt'\n",
    "marksAnalysis(filepath)"
   ]
  },
  {
   "cell_type": "code",
   "execution_count": null,
   "metadata": {},
   "outputs": [],
   "source": []
  },
  {
   "cell_type": "code",
   "execution_count": 1,
   "metadata": {},
   "outputs": [
    {
     "data": {
      "text/plain": [
       "True"
      ]
     },
     "execution_count": 1,
     "metadata": {},
     "output_type": "execute_result"
    }
   ],
   "source": [
    "# Contact Applications\n",
    "\n",
    "# Function to validate a phone number\n",
    "\n",
    "import re\n",
    "def phoneNumberValidator(number):\n",
    "    pattern = '^[6-9][0-9]{9}$|^[0][6-9][0-9]{9}$|^[+][91][6-9][0-9]{9}$'\n",
    "    if re.match(pattern, str(number)):\n",
    "        return True\n",
    "    return False\n",
    "\n",
    "\n",
    "phoneNumberValidator(7893698870)  "
   ]
  },
  {
   "cell_type": "code",
   "execution_count": null,
   "metadata": {},
   "outputs": [],
   "source": []
  },
  {
   "cell_type": "code",
   "execution_count": null,
   "metadata": {},
   "outputs": [],
   "source": [
    "# Function to validate email\n",
    "\n",
    "import re\n",
    "def emailValidator(email):\n",
    "    pattern = '^[0-9a-z][0-9a-z_.]{4,13}[0-9a-z][@][a-z0-9]{3,18}[.][a-z]{2,4}|[.][a-z]{2,4}$'\n",
    "    if re.match(pattern, email):\n",
    "        return True\n",
    "    return False\n",
    "\n",
    "emailValidator(\"ramu_12@gmail.com\")"
   ]
  },
  {
   "cell_type": "code",
   "execution_count": null,
   "metadata": {},
   "outputs": [],
   "source": []
  },
  {
   "cell_type": "code",
   "execution_count": 10,
   "metadata": {},
   "outputs": [],
   "source": [
    "# exist contact\n",
    "\n",
    "def contact_exists(name):\n",
    "    with open('datafiles/contacts.txt', 'r') as f:\n",
    "        p = name+','\n",
    "        filedata = f.read()\n",
    "    return re.search(p,filedata)\n",
    "\n",
    "contact_exists('name2')"
   ]
  },
  {
   "cell_type": "code",
   "execution_count": null,
   "metadata": {},
   "outputs": [],
   "source": []
  },
  {
   "cell_type": "code",
   "execution_count": 11,
   "metadata": {},
   "outputs": [
    {
     "name": "stdout",
     "output_type": "stream",
     "text": [
      "name3 added successfully\n"
     ]
    }
   ],
   "source": [
    "# Function to add Contacts\n",
    "\n",
    "contacts = {\"name1\":[9876543210, 'name1@domain.ext'], \"name2\":[7654321109, \"name2@domain.ext\"]}\n",
    "\n",
    "def addContact(name, phone, email):\n",
    "    if name in contacts:\n",
    "        print(name, \"already exists. \")\n",
    "    else:\n",
    "        if not phoneNumberValidator(phone):\n",
    "            print(\"Invalid Phone number\")\n",
    "            return\n",
    "        if not emailValidator(email):\n",
    "            print(\"Invalid email address\")\n",
    "            return\n",
    "        newcontact = []\n",
    "        newcontact.append(phone)\n",
    "        newcontact.append(email)\n",
    "        contacts[name] = newcontact\n",
    "        print(name, \"added successfully\")\n",
    "    return\n",
    "\n",
    "addContact(\"name3\",7893698870, \"ramu_12@gmail.com\")"
   ]
  },
  {
   "cell_type": "code",
   "execution_count": null,
   "metadata": {},
   "outputs": [],
   "source": []
  },
  {
   "cell_type": "code",
   "execution_count": 5,
   "metadata": {},
   "outputs": [
    {
     "ename": "NameError",
     "evalue": "name 'contact_exists' is not defined",
     "output_type": "error",
     "traceback": [
      "\u001b[1;31m---------------------------------------------------------------------------\u001b[0m",
      "\u001b[1;31mNameError\u001b[0m                                 Traceback (most recent call last)",
      "\u001b[1;32m<ipython-input-5-d3c9eb2d3915>\u001b[0m in \u001b[0;36m<module>\u001b[1;34m\u001b[0m\n\u001b[0;32m     19\u001b[0m         \u001b[1;32mreturn\u001b[0m\u001b[1;33m\u001b[0m\u001b[1;33m\u001b[0m\u001b[0m\n\u001b[0;32m     20\u001b[0m \u001b[1;33m\u001b[0m\u001b[0m\n\u001b[1;32m---> 21\u001b[1;33m \u001b[0msearchContacts\u001b[0m\u001b[1;33m(\u001b[0m\u001b[1;34m\"name1\"\u001b[0m\u001b[1;33m)\u001b[0m\u001b[1;33m\u001b[0m\u001b[1;33m\u001b[0m\u001b[0m\n\u001b[0m",
      "\u001b[1;32m<ipython-input-5-d3c9eb2d3915>\u001b[0m in \u001b[0;36msearchContacts\u001b[1;34m(name)\u001b[0m\n\u001b[0;32m      3\u001b[0m \u001b[1;32mdef\u001b[0m \u001b[0msearchContacts\u001b[0m\u001b[1;33m(\u001b[0m\u001b[0mname\u001b[0m\u001b[1;33m)\u001b[0m\u001b[1;33m:\u001b[0m\u001b[1;33m\u001b[0m\u001b[1;33m\u001b[0m\u001b[0m\n\u001b[0;32m      4\u001b[0m     \u001b[0mfilepath\u001b[0m \u001b[1;33m=\u001b[0m \u001b[1;34m'datafiles/contacts.txt'\u001b[0m\u001b[1;33m\u001b[0m\u001b[1;33m\u001b[0m\u001b[0m\n\u001b[1;32m----> 5\u001b[1;33m     \u001b[1;32mif\u001b[0m \u001b[0mcontact_exists\u001b[0m\u001b[1;33m(\u001b[0m\u001b[0mname\u001b[0m\u001b[1;33m)\u001b[0m\u001b[1;33m:\u001b[0m\u001b[1;33m\u001b[0m\u001b[1;33m\u001b[0m\u001b[0m\n\u001b[0m\u001b[0;32m      6\u001b[0m         \u001b[1;32mwith\u001b[0m \u001b[0mopen\u001b[0m\u001b[1;33m(\u001b[0m\u001b[0mfilepath\u001b[0m\u001b[1;33m,\u001b[0m \u001b[1;34m'r'\u001b[0m\u001b[1;33m)\u001b[0m \u001b[1;32mas\u001b[0m \u001b[0mf\u001b[0m\u001b[1;33m:\u001b[0m\u001b[1;33m\u001b[0m\u001b[1;33m\u001b[0m\u001b[0m\n\u001b[0;32m      7\u001b[0m             \u001b[0mfiledata\u001b[0m \u001b[1;33m=\u001b[0m \u001b[0mr\u001b[0m\u001b[1;33m.\u001b[0m\u001b[0mread\u001b[0m\u001b[1;33m(\u001b[0m\u001b[1;33m)\u001b[0m\u001b[1;33m\u001b[0m\u001b[1;33m\u001b[0m\u001b[0m\n",
      "\u001b[1;31mNameError\u001b[0m: name 'contact_exists' is not defined"
     ]
    }
   ],
   "source": [
    "# Function to search Contacts \n",
    "\n",
    "def searchContacts(name):\n",
    "    filepath = 'datafiles/contacts.txt'\n",
    "    if contact_exists(name):\n",
    "        with open(filepath, 'r') as f:\n",
    "            filedata = r.read()\n",
    "            p = '[ \\n]'\n",
    "            li = re.split(p, filedata)\n",
    "            prinnt(li)\n",
    "            con = []\n",
    "            for i in range(len(li)):\n",
    "                con = li[i].split(',')\n",
    "                print(con)\n",
    "                if name in con:\n",
    "                    return con\n",
    "    else:\n",
    "        print(\"Contact not exist\")\n",
    "        return\n",
    "    \n",
    "searchContacts(\"name1\")"
   ]
  },
  {
   "cell_type": "code",
   "execution_count": null,
   "metadata": {},
   "outputs": [],
   "source": []
  },
  {
   "cell_type": "code",
   "execution_count": null,
   "metadata": {},
   "outputs": [],
   "source": [
    "# Function to import contacts\n",
    "\n",
    "def importContacts(newContacts):\n",
    "    contacts.update(newContacts)\n",
    "    print(len(newContacts.keys()), \"Contacts added successfully\")\n",
    "    return\n",
    "name2=input()\n",
    "name3=input()\n",
    "phone2=input()\n",
    "phone3=input()\n",
    "newContacts={\"name4\":[9573536640,'ajowe_23@gmail.com'],\"name5\":[9959671265,'aweuw_4356@gamil.com']}\n",
    "importContacts(newContacts)"
   ]
  },
  {
   "cell_type": "code",
   "execution_count": null,
   "metadata": {},
   "outputs": [],
   "source": []
  },
  {
   "cell_type": "code",
   "execution_count": null,
   "metadata": {},
   "outputs": [],
   "source": []
  },
  {
   "cell_type": "code",
   "execution_count": null,
   "metadata": {},
   "outputs": [],
   "source": []
  },
  {
   "cell_type": "code",
   "execution_count": null,
   "metadata": {},
   "outputs": [],
   "source": []
  },
  {
   "cell_type": "code",
   "execution_count": 40,
   "metadata": {},
   "outputs": [
    {
     "data": {
      "text/plain": [
       "1"
      ]
     },
     "execution_count": 40,
     "metadata": {},
     "output_type": "execute_result"
    }
   ],
   "source": [
    "# Function to check if two strings \n",
    "# abc cba --> True\n",
    "# {a:1, b:1, c:1} {c:1,b:1,a:1} \n",
    "# {a:2, b:2, c:2} {a:3, b:2, c:2}\n",
    "# aabbcc ccbbaaa --> False\n",
    "\n",
    "def checkAnagram(s1, s2):\n",
    "    if len(s1) != len(s2):\n",
    "        return True\n",
    "    if sorted(s1) == sorted(s1):\n",
    "        return False\n",
    "    return True\n",
    "#checkAnagram('abc','bcc')\n",
    "\n",
    "def charDeletionsAnagrams(s1, s2):\n",
    "    # to collect all uncommon characters - characaters occurring in only one string\n",
    "    uncommon = []\n",
    "    for i in s1:\n",
    "        if i not in s2:\n",
    "            uncommon.append(i)\n",
    "    for i in s2:\n",
    "        if i not in s1:\n",
    "            uncommon.append(i)\n",
    "    # Freqs1 -> frequency fo common characters in s1\n",
    "    # Freqs2 -> frequency fo common characters in s2\n",
    "    \n",
    "    count = len(uncommon)\n",
    "    freqs1={}\n",
    "    freqs2={}\n",
    "    uniqs1 = []\n",
    "    uniqs2 = []\n",
    "    \n",
    "    # frequency of common unique characters in s1\n",
    "    for i in s1:\n",
    "        if i not in uncommon and i not in uniqs1:\n",
    "            freqs1[i] = s1.count(i)\n",
    "            uniqs1.append(i)\n",
    "    # frequency of common unique characters in s2\n",
    "    for i in s2:\n",
    "        if i not in uncommon and i not in uniqs2:\n",
    "            freqs2[i] = s2.count(i)\n",
    "            uniqs2.append(i)\n",
    "            \n",
    "    # Difference in frequencies for common characters\n",
    "    for key in freqs1.keys():\n",
    "        count += abs(freqs1[key] - freqs2[key])\n",
    "    \n",
    "    return count\n",
    "\n",
    "charDeletionsAnagrams('aabbcc','ccbbaaa')  "
   ]
  },
  {
   "cell_type": "code",
   "execution_count": null,
   "metadata": {},
   "outputs": [],
   "source": []
  },
  {
   "cell_type": "code",
   "execution_count": null,
   "metadata": {},
   "outputs": [],
   "source": [
    "# {a:4, g:9, i:6, p:213, c:6}\n",
    "# [4,6,6,9,213]\n",
    "# [213, 10, 9, 6, 6, 4]\n",
    "# [a,c,g,i,p]\n",
    "# k = 5\n",
    "# \n",
    "# \n",
    "\n",
    "\n",
    "def kLargestFrequency(s, k):\n",
    "    # Construct the frequency dictionary\n",
    "    unique = []\n",
    "    freq = {}\n",
    "    for i in s:\n",
    "        if i not in freq.keys():\n",
    "            freq[i] = s.count(i)\n",
    "    value = sorted(freq.values(), reversed=True)\n",
    "    uniquevalues = list(set(values))\n",
    "    uniquevalues = sorted(uniquevalues, reversed=True)\n",
    "    kvalue = uniquevlaues[k-1]\n",
    "    \n",
    "    \n",
    "    "
   ]
  }
 ],
 "metadata": {
  "kernelspec": {
   "display_name": "Python 3",
   "language": "python",
   "name": "python3"
  },
  "language_info": {
   "codemirror_mode": {
    "name": "ipython",
    "version": 3
   },
   "file_extension": ".py",
   "mimetype": "text/x-python",
   "name": "python",
   "nbconvert_exporter": "python",
   "pygments_lexer": "ipython3",
   "version": "3.7.3"
  }
 },
 "nbformat": 4,
 "nbformat_minor": 2
}
