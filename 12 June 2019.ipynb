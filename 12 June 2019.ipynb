{
 "cells": [
  {
   "cell_type": "markdown",
   "metadata": {},
   "source": [
    "# Problem Solving and Programming\n",
    "\n",
    "#### Date 12 June 2019\n",
    "\n",
    "#### Day Objectives\n",
    "\n",
    "- String Slicing\n",
    "- Functions in Python\n",
    "- Basic Problems related to conditional statements using functions\n",
    "- Iteration in Python\n",
    "- Python Data Structures - Lists,Tuples and Dictionaries\n",
    "- Basic Operations on data structures\n",
    "- Applying Data Structures to solve problems"
   ]
  },
  {
   "cell_type": "code",
   "execution_count": null,
   "metadata": {},
   "outputs": [],
   "source": []
  },
  {
   "cell_type": "markdown",
   "metadata": {},
   "source": [
    "### String Slicing"
   ]
  },
  {
   "cell_type": "code",
   "execution_count": 29,
   "metadata": {},
   "outputs": [
    {
     "data": {
      "text/plain": [
       "'gimroPotP'"
      ]
     },
     "execution_count": 29,
     "metadata": {},
     "output_type": "execute_result"
    }
   ],
   "source": [
    "s1 = 'PythonProgramming'\n",
    "\n",
    "s1\n",
    "\n",
    "s1[0] #Accessing the first character in a string\n",
    "s1[2] #Accessing the third character in a string\n",
    "\n",
    "s1[len(s1)-1] #Accessing the last character\n",
    "\n",
    "s1[-1] #Another way of accessig the last character\n",
    "\n",
    "len(s1)\n",
    "\n",
    "s1[len(s1)-2] # Accessing the penultimate character of a string\n",
    "\n",
    "s1[-2] # Accessing the penultimate character of a string\n",
    "\n",
    "s1[0:2] # Second part of slice is exclusive and first part of slice is inclusive\n",
    "\n",
    "s1[-2:] # Accessing the last two characters in a string\n",
    "\n",
    "s1[4:] # Another way of accessing the last two characters in a string but it is not applicable for all strings\n",
    "\n",
    "\n",
    "\n",
    "# Accessing all characters except first and last character\n",
    "s1[1:-1]\n",
    "\n",
    "# Accessing the middle character in a string \n",
    "s1[len(s1)//2]\n",
    "\n",
    "\n",
    "s1[-1:0:-1] # Reverse of string\n",
    "\n",
    "s1[-1::-1] # Reverse of string\n",
    "\n",
    "s1[-1:-3:-1] #Accessing last two characters in a given string\n",
    "\n",
    "s1[len(s1)//2:len(s1)//2-2:-1]# Reverse the middile two characters in an even length string\n",
    "\n",
    "# Accessing alternate character in a string\n",
    "s1[::2] # \"python\" --> \"pto\"\n",
    "\n",
    "s1[::-2] # Reverse order\n"
   ]
  },
  {
   "cell_type": "code",
   "execution_count": null,
   "metadata": {},
   "outputs": [],
   "source": []
  },
  {
   "cell_type": "markdown",
   "metadata": {},
   "source": [
    "### Functions"
   ]
  },
  {
   "cell_type": "code",
   "execution_count": 33,
   "metadata": {},
   "outputs": [
    {
     "data": {
      "text/plain": [
       "'nohtyP'"
      ]
     },
     "execution_count": 33,
     "metadata": {},
     "output_type": "execute_result"
    }
   ],
   "source": [
    "# Functions to print a reverse string\n",
    "\n",
    "rev=10\n",
    "def reverseString(s):\n",
    "    return s[::-1]\n",
    "\n",
    "reverseString(\"Python\")\n"
   ]
  },
  {
   "cell_type": "code",
   "execution_count": 36,
   "metadata": {
    "scrolled": false
   },
   "outputs": [
    {
     "ename": "SyntaxError",
     "evalue": "invalid syntax (<ipython-input-36-567c2537ccb7>, line 5)",
     "output_type": "error",
     "traceback": [
      "\u001b[1;36m  File \u001b[1;32m\"<ipython-input-36-567c2537ccb7>\"\u001b[1;36m, line \u001b[1;32m5\u001b[0m\n\u001b[1;33m    while(s!=0)\u001b[0m\n\u001b[1;37m               ^\u001b[0m\n\u001b[1;31mSyntaxError\u001b[0m\u001b[1;31m:\u001b[0m invalid syntax\n"
     ]
    }
   ],
   "source": []
  },
  {
   "cell_type": "code",
   "execution_count": 41,
   "metadata": {},
   "outputs": [
    {
     "data": {
      "text/plain": [
       "False"
      ]
     },
     "execution_count": 41,
     "metadata": {},
     "output_type": "execute_result"
    }
   ],
   "source": [
    "# Function to check if a string is a palindrome\n",
    "\n",
    "def palindrome(s):\n",
    "    if s == s[::-1]:\n",
    "        return True\n",
    "    else:\n",
    "        return False\n",
    "    \n",
    "palindrome(\"keerthi\")"
   ]
  },
  {
   "cell_type": "code",
   "execution_count": 43,
   "metadata": {},
   "outputs": [
    {
     "data": {
      "text/plain": [
       "True"
      ]
     },
     "execution_count": 43,
     "metadata": {},
     "output_type": "execute_result"
    }
   ],
   "source": [
    "# Function to Reverse a string\n",
    "\n",
    "def reverseString(s):\n",
    "    if s== s[::-1]:\n",
    "        return True\n",
    "    else:\n",
    "        return False\n",
    "\n",
    "reverseString(\"123321\")\n"
   ]
  },
  {
   "cell_type": "code",
   "execution_count": null,
   "metadata": {},
   "outputs": [],
   "source": []
  },
  {
   "cell_type": "code",
   "execution_count": 47,
   "metadata": {},
   "outputs": [
    {
     "data": {
      "text/plain": [
       "False"
      ]
     },
     "execution_count": 47,
     "metadata": {},
     "output_type": "execute_result"
    }
   ],
   "source": [
    "# Checking if a given year is leap year\n",
    "\n",
    "def isLeapYear(year):\n",
    "    if year % 4 == 0 and (year % 100 !=0 or year % 400 == 0):\n",
    "        return True\n",
    "    else:\n",
    "        return False\n",
    "    \n",
    "isLeapYear(1997)"
   ]
  },
  {
   "cell_type": "code",
   "execution_count": null,
   "metadata": {},
   "outputs": [],
   "source": []
  },
  {
   "cell_type": "code",
   "execution_count": 55,
   "metadata": {},
   "outputs": [
    {
     "data": {
      "text/plain": [
       "6"
      ]
     },
     "execution_count": 55,
     "metadata": {},
     "output_type": "execute_result"
    }
   ],
   "source": [
    "# Function to count the number if digits in a given number\n",
    "\n",
    "\n",
    "def countDigits(n):\n",
    "    return len(str(n))\n",
    "    \n",
    "\n",
    "countDigits(123456)"
   ]
  },
  {
   "cell_type": "code",
   "execution_count": null,
   "metadata": {},
   "outputs": [],
   "source": []
  },
  {
   "cell_type": "code",
   "execution_count": 69,
   "metadata": {},
   "outputs": [
    {
     "name": "stdout",
     "output_type": "stream",
     "text": [
      "12 is a greatest number\n"
     ]
    }
   ],
   "source": [
    "# Function to identify the greatest of 4 numbers\n",
    "\n",
    "def greatestNumber(a,b,c,d):\n",
    "    if a > b and a > c and a > d:\n",
    "        print(a, \"is a greatest number\")\n",
    "    elif b > c and b > d:\n",
    "        print(b, \"is a greatest number\")\n",
    "    elif c > d:\n",
    "        print(c, \"is a greatest number\")\n",
    "    else:\n",
    "        print(d, \"is a greatest number\")\n",
    "        \n",
    "greatestNumber(4,12,-23,0)"
   ]
  },
  {
   "cell_type": "code",
   "execution_count": null,
   "metadata": {},
   "outputs": [],
   "source": []
  },
  {
   "cell_type": "markdown",
   "metadata": {},
   "source": [
    "### Iteration\n",
    "\n",
    "- for\n",
    "- while"
   ]
  },
  {
   "cell_type": "code",
   "execution_count": 61,
   "metadata": {},
   "outputs": [
    {
     "name": "stdout",
     "output_type": "stream",
     "text": [
      "1 2 3 4 5 6 7 8 9 10 11 12 13 14 15 16 17 18 19 20 21 22 23 24 25 26 27 28 29 30 "
     ]
    }
   ],
   "source": [
    "# Function to print n natural numbers\n",
    "\n",
    "def naturalNumbers(n):\n",
    "    for counter in range(1, n+1):\n",
    "        print(counter, end=\" \")\n",
    "    return\n",
    "\n",
    "naturalNumbers(30)\n",
    "        \n",
    "        \n",
    "    "
   ]
  },
  {
   "cell_type": "code",
   "execution_count": null,
   "metadata": {},
   "outputs": [],
   "source": []
  },
  {
   "cell_type": "code",
   "execution_count": 70,
   "metadata": {
    "scrolled": true
   },
   "outputs": [
    {
     "name": "stdout",
     "output_type": "stream",
     "text": [
      "1 2 3 4 5 6 7 8 9 10 11 12 13 14 15 16 17 18 19 20 21 22 23 24 25 26 27 28 29 30 \n",
      "1 2 3 4 5 6 7 8 9 10 \n"
     ]
    }
   ],
   "source": [
    "# Function to print n natural numbers\n",
    "\n",
    "def naturalNumbers(n):\n",
    "    for counter in range(1, n+1):\n",
    "        print(counter, end=\" \")\n",
    "    print()\n",
    "    return\n",
    "\n",
    "naturalNumbers(30)\n",
    "naturalNumbers(10)"
   ]
  },
  {
   "cell_type": "code",
   "execution_count": null,
   "metadata": {},
   "outputs": [],
   "source": []
  },
  {
   "cell_type": "code",
   "execution_count": 75,
   "metadata": {},
   "outputs": [
    {
     "name": "stdout",
     "output_type": "stream",
     "text": [
      "1 2 3 4 5 6 7 8 9 "
     ]
    }
   ],
   "source": [
    "# Function to print n natural numbers using while loop\n",
    "\n",
    "def nNaturalNumbers(n):\n",
    "    counter = 1\n",
    "    while counter <= n:\n",
    "        print(counter, end = \" \")\n",
    "        counter = counter + 1\n",
    "    return\n",
    "\n",
    "\n",
    "nNaturalNumbers(9)"
   ]
  },
  {
   "cell_type": "code",
   "execution_count": null,
   "metadata": {},
   "outputs": [],
   "source": [
    "# Function to print n natural numbers using while loop\n",
    "\n",
    "def nNaturalNumbers(n):\n",
    "    i = 1\n",
    "    while i <= n:\n",
    "        print(i, end = \" \")\n",
    "        i = i + 1\n",
    "    return\n",
    "\n",
    "\n",
    "nNaturalNumbers(10)"
   ]
  },
  {
   "cell_type": "code",
   "execution_count": 1,
   "metadata": {},
   "outputs": [
    {
     "name": "stdout",
     "output_type": "stream",
     "text": [
      "1 2 3 4 5 6 7 8 9 10 "
     ]
    }
   ],
   "source": [
    "# Function to print reverse of N natural numbers\n",
    "\n",
    "def printnNaturalNumbersReverse(n):\n",
    "    i=1\n",
    "    while i <= n:\n",
    "        print(i, end=\" \")\n",
    "        i=i+1\n",
    "    return\n",
    "\n",
    "printnNaturalNumbersReverse(10)"
   ]
  },
  {
   "cell_type": "code",
   "execution_count": null,
   "metadata": {},
   "outputs": [],
   "source": []
  },
  {
   "cell_type": "code",
   "execution_count": 1,
   "metadata": {},
   "outputs": [
    {
     "name": "stdout",
     "output_type": "stream",
     "text": [
      "6 12 18 "
     ]
    }
   ],
   "source": [
    "#Function to print all numbers divisible by 6\n",
    "\n",
    "def divisibleBy6(n):\n",
    "    for i in range(1, n):\n",
    "        if i % 6 == 0:\n",
    "            print(i, end=\" \")\n",
    "    return\n",
    "\n",
    "    \n",
    "divisibleBy6(20)"
   ]
  },
  {
   "cell_type": "code",
   "execution_count": null,
   "metadata": {},
   "outputs": [],
   "source": []
  },
  {
   "cell_type": "code",
   "execution_count": 4,
   "metadata": {},
   "outputs": [
    {
     "name": "stdout",
     "output_type": "stream",
     "text": [
      "201 202 203 204 205 206 207 208 209 210 211 212 213 214 215 216 217 218 219 220 221 222 223 224 225 226 227 228 229 230 231 232 233 234 235 236 237 238 239 240 241 242 243 244 245 246 247 248 249 250 251 252 253 254 255 256 257 258 259 260 261 262 263 264 265 266 267 268 269 270 271 272 273 274 275 276 277 278 279 280 281 282 283 284 285 286 287 288 289 290 291 292 293 294 295 296 297 298 299 301 302 303 304 305 306 307 308 309 310 311 312 313 314 315 316 317 318 319 320 321 322 323 324 325 326 327 328 329 330 331 332 333 334 335 336 337 338 339 340 341 342 343 344 345 346 347 348 349 350 351 352 353 354 355 356 357 358 359 360 361 362 363 364 365 366 367 368 369 370 371 372 373 374 375 376 377 378 379 380 381 382 383 384 385 386 387 388 389 390 391 392 393 394 395 396 397 398 399 401 402 403 404 405 406 407 408 409 410 411 412 413 414 415 416 417 418 419 420 421 422 423 424 425 426 427 428 429 430 431 432 433 434 435 436 437 438 439 440 441 442 443 444 445 446 447 448 449 450 451 452 453 454 455 456 457 458 459 460 461 462 463 464 465 466 467 468 469 470 471 472 473 474 475 476 477 478 479 480 481 482 483 484 485 486 487 488 489 490 491 492 493 494 495 496 497 498 499 "
     ]
    }
   ],
   "source": [
    "# And not a factor of 100 in a given range(lb, up) inclusive\n",
    "\n",
    "def divisibleBy6(lb,up):\n",
    "    for i in range(lb, up):\n",
    "        if i % 100 != 0:\n",
    "            print(i, end=\" \")\n",
    "    return\n",
    "\n",
    "    \n",
    "divisibleBy6(200,500)"
   ]
  },
  {
   "cell_type": "code",
   "execution_count": null,
   "metadata": {},
   "outputs": [],
   "source": []
  },
  {
   "cell_type": "code",
   "execution_count": 3,
   "metadata": {},
   "outputs": [
    {
     "data": {
      "text/plain": [
       "36"
      ]
     },
     "execution_count": 3,
     "metadata": {},
     "output_type": "execute_result"
    }
   ],
   "source": [
    "# Function to find the average of cubes of all even numbers in a given range\n",
    "\n",
    "def averageOfCubes(lb,ub):\n",
    "    sum1 = 0\n",
    "    count = 0\n",
    "    for i in range(lb, ub+1):\n",
    "        if i % 2 == 0:\n",
    "            sum1 = sum1 + i ** 3\n",
    "            count = count + 1\n",
    "    avg = sum1 // count\n",
    "    return avg\n",
    "\n",
    "averageOfCubes(1,5)\n",
    "        \n",
    "        "
   ]
  },
  {
   "cell_type": "code",
   "execution_count": null,
   "metadata": {},
   "outputs": [],
   "source": []
  },
  {
   "cell_type": "code",
   "execution_count": 37,
   "metadata": {},
   "outputs": [
    {
     "name": "stdout",
     "output_type": "stream",
     "text": [
      "1 2 3 4 6 12 "
     ]
    },
    {
     "data": {
      "text/plain": [
       "12"
      ]
     },
     "execution_count": 37,
     "metadata": {},
     "output_type": "execute_result"
    }
   ],
   "source": [
    "# Function to generate the list of factorial for a given number\n",
    "# 12 --> 1 2 3 4 6 12\n",
    "\n",
    "def listOfFactorial(n):\n",
    "    for i in range(1, n+1):\n",
    "        if n % i == 0:\n",
    "            print(i, end=\" \")\n",
    "    return i\n",
    "\n",
    "listOfFactorial(12)"
   ]
  },
  {
   "cell_type": "code",
   "execution_count": null,
   "metadata": {},
   "outputs": [],
   "source": []
  },
  {
   "cell_type": "code",
   "execution_count": 21,
   "metadata": {},
   "outputs": [
    {
     "data": {
      "text/plain": [
       "6"
      ]
     },
     "execution_count": 21,
     "metadata": {},
     "output_type": "execute_result"
    }
   ],
   "source": [
    "#Function to calculate the factorial of a given number\n",
    "\n",
    "def factorialOfGivenNumber(n):\n",
    "    fact = 1\n",
    "    for i in range(1, n+1):\n",
    "        fact = fact * i\n",
    "    return fact\n",
    "\n",
    "factorialOfGivenNumber(3)"
   ]
  },
  {
   "cell_type": "code",
   "execution_count": null,
   "metadata": {},
   "outputs": [],
   "source": []
  },
  {
   "cell_type": "code",
   "execution_count": 23,
   "metadata": {},
   "outputs": [
    {
     "name": "stdout",
     "output_type": "stream",
     "text": [
      "12 is not a prime number\n"
     ]
    }
   ],
   "source": [
    "# Function to check if a given number is prime\n",
    "\n",
    "def isPrime(n):\n",
    "    count = 0\n",
    "    for i in range(1, n+1):\n",
    "        if n % i == 0:\n",
    "            count = count + 1\n",
    "    if count == 2:\n",
    "        print(n, \"is prime number\")\n",
    "    else:\n",
    "        print(n, \"is not a prime number\")\n",
    "            \n",
    "            \n",
    "isPrime(12)"
   ]
  },
  {
   "cell_type": "code",
   "execution_count": null,
   "metadata": {},
   "outputs": [],
   "source": []
  },
  {
   "cell_type": "code",
   "execution_count": 10,
   "metadata": {},
   "outputs": [
    {
     "name": "stdout",
     "output_type": "stream",
     "text": [
      "3 "
     ]
    },
    {
     "data": {
      "text/plain": [
       "3"
      ]
     },
     "execution_count": 10,
     "metadata": {},
     "output_type": "execute_result"
    }
   ],
   "source": [
    "# Function to calculate the average first N numbers\n",
    "\n",
    "def calculateAvgofFirstnNumbers(n):\n",
    "    sum1 = 0\n",
    "    for i in range(1, n+1):\n",
    "        sum1 = sum1 + i\n",
    "    avg = sum1//n\n",
    "    print(avg, end=\" \")\n",
    "    return avg\n",
    "\n",
    "calculateAvgofFirstnNumbers(5)\n",
    "        "
   ]
  },
  {
   "cell_type": "code",
   "execution_count": null,
   "metadata": {},
   "outputs": [],
   "source": []
  },
  {
   "cell_type": "code",
   "execution_count": 11,
   "metadata": {},
   "outputs": [
    {
     "data": {
      "text/plain": [
       "True"
      ]
     },
     "execution_count": 11,
     "metadata": {},
     "output_type": "execute_result"
    }
   ],
   "source": [
    "# Function to check if a given number is perfect number\n",
    "\n",
    "def perfectNumberInRange(n):\n",
    "    sum1 = 0\n",
    "    temp = n\n",
    "    for i in range(1, n):\n",
    "        if n % i == 0:\n",
    "            sum1 = sum1 + i\n",
    "    if sum1 == temp:\n",
    "        return True\n",
    "    else:\n",
    "        return False\n",
    "\n",
    "\n",
    "perfectNumberInRange(6)    "
   ]
  },
  {
   "cell_type": "code",
   "execution_count": null,
   "metadata": {},
   "outputs": [],
   "source": []
  },
  {
   "cell_type": "code",
   "execution_count": null,
   "metadata": {},
   "outputs": [],
   "source": [
    "# Function to generate all perfect numbers in a given range"
   ]
  },
  {
   "cell_type": "code",
   "execution_count": null,
   "metadata": {},
   "outputs": [],
   "source": []
  },
  {
   "cell_type": "code",
   "execution_count": 31,
   "metadata": {},
   "outputs": [
    {
     "ename": "ZeroDivisionError",
     "evalue": "integer division or modulo by zero",
     "output_type": "error",
     "traceback": [
      "\u001b[1;31m---------------------------------------------------------------------------\u001b[0m",
      "\u001b[1;31mZeroDivisionError\u001b[0m                         Traceback (most recent call last)",
      "\u001b[1;32m<ipython-input-31-ebd98459397b>\u001b[0m in \u001b[0;36m<module>\u001b[1;34m\u001b[0m\n\u001b[0;32m     15\u001b[0m \u001b[1;33m\u001b[0m\u001b[0m\n\u001b[0;32m     16\u001b[0m \u001b[1;33m\u001b[0m\u001b[0m\n\u001b[1;32m---> 17\u001b[1;33m \u001b[0maverageOfPrimeNumber\u001b[0m\u001b[1;33m(\u001b[0m\u001b[1;36m1\u001b[0m\u001b[1;33m,\u001b[0m\u001b[1;36m10\u001b[0m\u001b[1;33m)\u001b[0m\u001b[1;33m\u001b[0m\u001b[1;33m\u001b[0m\u001b[0m\n\u001b[0m",
      "\u001b[1;32m<ipython-input-31-ebd98459397b>\u001b[0m in \u001b[0;36maverageOfPrimeNumber\u001b[1;34m(lb, ub)\u001b[0m\n\u001b[0;32m     12\u001b[0m     \u001b[1;32mif\u001b[0m \u001b[0mcount\u001b[0m \u001b[1;33m==\u001b[0m \u001b[1;36m2\u001b[0m\u001b[1;33m:\u001b[0m\u001b[1;33m\u001b[0m\u001b[1;33m\u001b[0m\u001b[0m\n\u001b[0;32m     13\u001b[0m         \u001b[0mc\u001b[0m \u001b[1;33m=\u001b[0m \u001b[0mc\u001b[0m \u001b[1;33m+\u001b[0m \u001b[1;36m1\u001b[0m\u001b[1;33m\u001b[0m\u001b[1;33m\u001b[0m\u001b[0m\n\u001b[1;32m---> 14\u001b[1;33m     \u001b[1;32mreturn\u001b[0m \u001b[0msum\u001b[0m\u001b[1;33m//\u001b[0m\u001b[0mc\u001b[0m\u001b[1;33m\u001b[0m\u001b[1;33m\u001b[0m\u001b[0m\n\u001b[0m\u001b[0;32m     15\u001b[0m \u001b[1;33m\u001b[0m\u001b[0m\n\u001b[0;32m     16\u001b[0m \u001b[1;33m\u001b[0m\u001b[0m\n",
      "\u001b[1;31mZeroDivisionError\u001b[0m: integer division or modulo by zero"
     ]
    }
   ],
   "source": [
    "# Function to calculate the average of first N prime numbers \n",
    "\n",
    "def averageOfPrimeNumber(lb,ub):\n",
    "    count = 0\n",
    "    c = 0\n",
    "    sum = 0\n",
    "    for i in range(lb, ub+1):\n",
    "        for j in range(1, i+1):\n",
    "            if i % j == 0:\n",
    "                count = count + 1\n",
    "                sum = sum + i\n",
    "    if count == 2:\n",
    "        c = c + 1\n",
    "    return sum//c\n",
    "        \n",
    "            \n",
    "averageOfPrimeNumber(1,10)"
   ]
  },
  {
   "cell_type": "code",
   "execution_count": null,
   "metadata": {},
   "outputs": [],
   "source": []
  },
  {
   "cell_type": "code",
   "execution_count": 8,
   "metadata": {},
   "outputs": [
    {
     "name": "stdout",
     "output_type": "stream",
     "text": [
      "500 502 504 506 508 510 512 514 516 518 520 522 524 526 528 530 532 534 536 538 540 542 544 546 548 550 "
     ]
    }
   ],
   "source": [
    "# Function to print the alternate values in a rnage\n",
    "# [500, 550] -> 500 502 504 ......550\n",
    "# (500, 550) -> 501 503 505 ......549\n",
    "# range(500, 550) -> 500 501 502 .... 549\n",
    "# All set based functions in python have start \n",
    "\n",
    "def alternativeValues(start, end):\n",
    "    for i in range(start, end+1,2):\n",
    "        print(i, end=\" \")\n",
    "    return\n",
    "\n",
    "alternativeValues(500, 550)"
   ]
  },
  {
   "cell_type": "code",
   "execution_count": null,
   "metadata": {},
   "outputs": [],
   "source": []
  },
  {
   "cell_type": "code",
   "execution_count": 9,
   "metadata": {},
   "outputs": [
    {
     "name": "stdout",
     "output_type": "stream",
     "text": [
      "500 504 508 512 516 520 524 528 532 536 540 544 548 "
     ]
    }
   ],
   "source": [
    "# Function to print the alternate4 values in a rnage\n",
    "# [500, 550] -> 500 504 508 ......550\n",
    "# (500, 550) -> 501 505 509 ......549\n",
    "# range(500, 550) -> 500 501 502 .... 549\n",
    "# All set based functions in python have start \n",
    "\n",
    "def alternativeValues(start, end):\n",
    "    for i in range(start, end+1,4):\n",
    "        print(i, end=\" \")\n",
    "    return\n",
    "\n",
    "alternativeValues(500, 550)"
   ]
  },
  {
   "cell_type": "code",
   "execution_count": null,
   "metadata": {},
   "outputs": [],
   "source": []
  },
  {
   "cell_type": "code",
   "execution_count": 14,
   "metadata": {},
   "outputs": [
    {
     "name": "stdout",
     "output_type": "stream",
     "text": [
      "10 9 8 7 6 5 4 3 2 1 "
     ]
    }
   ],
   "source": [
    "# Function to print reverse of given range in the\n",
    "\n",
    "def reverseString(start, end):\n",
    "    for i in range(end, start-1, -1):\n",
    "        print(i, end=\" \")\n",
    "    return\n",
    "\n",
    "reverseString(1, 10)"
   ]
  },
  {
   "cell_type": "code",
   "execution_count": null,
   "metadata": {},
   "outputs": [],
   "source": []
  },
  {
   "cell_type": "code",
   "execution_count": 16,
   "metadata": {},
   "outputs": [
    {
     "name": "stdout",
     "output_type": "stream",
     "text": [
      "9 7 5 3 1 "
     ]
    }
   ],
   "source": [
    "# Function to print the odd numbers reverse order in a range\n",
    "\n",
    "def oddNumbersInRange(start, end):\n",
    "    for i in range(end, start-1, -1):\n",
    "        if i % 2 != 0:\n",
    "            print(i, end=\" \")\n",
    "    return \n",
    "\n",
    "oddNumbersInRange(1,10)"
   ]
  },
  {
   "cell_type": "code",
   "execution_count": null,
   "metadata": {},
   "outputs": [],
   "source": []
  },
  {
   "cell_type": "code",
   "execution_count": 34,
   "metadata": {},
   "outputs": [
    {
     "data": {
      "text/plain": [
       "3000.0"
      ]
     },
     "execution_count": 34,
     "metadata": {},
     "output_type": "execute_result"
    }
   ],
   "source": [
    "# Function to calculate the sum of numbers in a range\n",
    "\n",
    "def sumOfNumbers(start, end):\n",
    "    sum1 = 0\n",
    "    for i in range(start, end+1):\n",
    "        sum1 = sum1 + i\n",
    "    return sum1/(end-start+1)\n",
    "\n",
    "sumOfNumbers(1000,5000)"
   ]
  },
  {
   "cell_type": "markdown",
   "metadata": {},
   "source": [
    "### Advanced Problem Set"
   ]
  },
  {
   "cell_type": "code",
   "execution_count": 26,
   "metadata": {},
   "outputs": [
    {
     "data": {
      "text/plain": [
       "120"
      ]
     },
     "execution_count": 26,
     "metadata": {},
     "output_type": "execute_result"
    }
   ],
   "source": [
    "# Function to calculate average of all factorial in a given range\n",
    "\n",
    "def averageOfFactorial(start, end):\n",
    "    fact = 1\n",
    "    count = 0\n",
    "    for i in range(start, end+1):\n",
    "        fact = fact * i\n",
    "        count = count + 1\n",
    "    return fact//count\n",
    "\n",
    "averageOfFactorial(1,6)"
   ]
  },
  {
   "cell_type": "code",
   "execution_count": null,
   "metadata": {},
   "outputs": [],
   "source": []
  },
  {
   "cell_type": "code",
   "execution_count": 79,
   "metadata": {},
   "outputs": [
    {
     "name": "stdout",
     "output_type": "stream",
     "text": [
      "1 3 5 7 9 153 371 407 92727 "
     ]
    }
   ],
   "source": [
    "# Function to generate N odd armstrong numbers\n",
    "\n",
    "def armstrong(start,end):\n",
    "    for i in range(start,end+1):\n",
    "        n=i\n",
    "        count=len(str(n))\n",
    "        sum=0\n",
    "        temp=n\n",
    "        while(n>0):\n",
    "            arm=(n%10)**count\n",
    "            sum=sum+arm\n",
    "            n=n//10\n",
    "        if(temp==sum):\n",
    "            if(temp%2==1):\n",
    "                print(temp,end=\" \")\n",
    "armstrong(1,100000)"
   ]
  },
  {
   "cell_type": "code",
   "execution_count": null,
   "metadata": {},
   "outputs": [],
   "source": []
  },
  {
   "cell_type": "code",
   "execution_count": 76,
   "metadata": {},
   "outputs": [
    {
     "name": "stdout",
     "output_type": "stream",
     "text": [
      "1000 1010 1020 "
     ]
    },
    {
     "data": {
      "text/plain": [
       "1020"
      ]
     },
     "execution_count": 76,
     "metadata": {},
     "output_type": "execute_result"
    }
   ],
   "source": [
    "# Function to generate Multiplication table for a number in a given range\n",
    "# 10 in the range(100, 102) inclusive\n",
    "# 10 x 100 = 1000\n",
    "# 10 x 101 = 1010\n",
    "# 10 x 102 = 1020\n",
    "\n",
    "def MultiplicationTable(start, end):\n",
    "    for i in range(start, end+1):\n",
    "        res = 10 * i\n",
    "        print(res, end=\" \")\n",
    "    return res\n",
    "\n",
    "MultiplicationTable(100,102)"
   ]
  },
  {
   "cell_type": "code",
   "execution_count": null,
   "metadata": {},
   "outputs": [],
   "source": []
  },
  {
   "cell_type": "code",
   "execution_count": 78,
   "metadata": {},
   "outputs": [
    {
     "name": "stdout",
     "output_type": "stream",
     "text": [
      "2000 2004 2008 2012 2016 2020 "
     ]
    }
   ],
   "source": [
    "# Function to generate all leap years in a given time period \n",
    "# 2000 - 2010 -> 2000 2004  2008 2012 2016 2018 2020\n",
    "\n",
    "def isLeapYear(year): # To check if a given year is a leap year or not\n",
    "    if year % 4 == 0 and (year % 100 != 0 or year % 400 == 0):\n",
    "        return True\n",
    "    return False\n",
    "\n",
    "def generateLeapYear(startyear,endyear):\n",
    "    for i in range(startyear, endyear+1):\n",
    "        if isLeapYear(i):\n",
    "            print(i, end=\" \")\n",
    "    return\n",
    "\n",
    "generateLeapYear(2000, 2020)"
   ]
  },
  {
   "cell_type": "code",
   "execution_count": 66,
   "metadata": {},
   "outputs": [
    {
     "name": "stdout",
     "output_type": "stream",
     "text": [
      "370\n"
     ]
    }
   ],
   "source": [
    "#Armstrong Number or not\n",
    "def armstrong(n):\n",
    "    c=len(str(n))\n",
    "    sum1=0\n",
    "    temp=n\n",
    "    while(n>0):\n",
    "        arm=(n%10)**c\n",
    "        sum1=sum1+arm\n",
    "        n=n//10\n",
    "    if(temp==sum1):\n",
    "        print(temp)\n",
    "armstrong(370)"
   ]
  },
  {
   "cell_type": "code",
   "execution_count": 65,
   "metadata": {},
   "outputs": [
    {
     "name": "stdout",
     "output_type": "stream",
     "text": [
      "1 2 3 4 5 6 7 8 9 153 370 371 407 1634 8208 9474 "
     ]
    }
   ],
   "source": [
    "#Armstrong Numbers with in a range\n",
    "def armstrong(start,end):\n",
    "    for i in range(start,end+1):\n",
    "        n=i\n",
    "        c=len(str(n))\n",
    "        sum1=0\n",
    "        temp=n\n",
    "        while(n>0):\n",
    "            arm=(n%10)**c\n",
    "            sum1=sum1+arm\n",
    "            n=n//10\n",
    "        if(temp==sum1):\n",
    "            print(temp,end=\" \")\n",
    "armstrong(1,10000)"
   ]
  },
  {
   "cell_type": "code",
   "execution_count": 51,
   "metadata": {},
   "outputs": [
    {
     "data": {
      "text/plain": [
       "4"
      ]
     },
     "execution_count": 51,
     "metadata": {},
     "output_type": "execute_result"
    }
   ],
   "source": [
    "n=1223\n",
    "st=str(n)\n",
    "l=len(st)\n",
    "l"
   ]
  },
  {
   "cell_type": "code",
   "execution_count": 17,
   "metadata": {},
   "outputs": [
    {
     "data": {
      "text/plain": [
       "365"
      ]
     },
     "execution_count": 17,
     "metadata": {},
     "output_type": "execute_result"
    }
   ],
   "source": [
    "# Calculate number of days in a given time period using leapyearlogic\n",
    "# For every year in the given time period, if the year is not a leap year -> add 365 to sum, If leap year, \n",
    "\n",
    "def numberOfDays(startyear, endyear):\n",
    "    sum = 0\n",
    "    for year in range(startyear, endyear+1):\n",
    "        if year % 4 == 0 and (year % 100 != 0 or year % 400 == 0):\n",
    "            sum = sum + 366\n",
    "    else:\n",
    "        sum = sum + 365\n",
    "    return sum\n",
    "\n",
    "numberOfDays(2017,2018)"
   ]
  },
  {
   "cell_type": "code",
   "execution_count": null,
   "metadata": {},
   "outputs": [],
   "source": []
  },
  {
   "cell_type": "code",
   "execution_count": 23,
   "metadata": {
    "scrolled": false
   },
   "outputs": [
    {
     "data": {
      "text/plain": [
       "63672"
      ]
     },
     "execution_count": 23,
     "metadata": {},
     "output_type": "execute_result"
    }
   ],
   "source": [
    "# Function to calculate number of hours for a given period\n",
    "# numberOfHours(11, 1975, 03, 1999) -> 204504\n",
    "#numberOfHours(5, 2019, 6, 2019) -> \n",
    "# 2, 2017, 6, 2019\n",
    "# [ all days from feb 2016 to dec 2016,\n",
    "# all days for years between 2016 and 2019,\n",
    "# all days from Jan to June 2019]\n",
    "# No of hours = 24 * No of days\n",
    "# 3 steps\n",
    "    #1. Start month year to end of year - calculate no of days\n",
    "    #2. Calculate days for all years between start year and end year\n",
    "            # 2017, 2018 - 365 * no of years\n",
    "    #3. Calculate days from Jan to end month year\n",
    "\n",
    "def numberOfDaysMonth(month, year):\n",
    "    if month == 2:\n",
    "        if isLeapYear(year):\n",
    "            return 29\n",
    "        return 28\n",
    "    elif(month <= 7 and month % 2 != 0) or (month >= 8 and month % 2 == 0 ):\n",
    "        return 31\n",
    "    else:\n",
    "        return 30\n",
    "def daysInStartYear(startmonth, startyear):\n",
    "    days = 0\n",
    "    for month in range(startmonth, 13):\n",
    "        days = days + numberOfDaysMonth(month, startyear)\n",
    "    return days\n",
    "\n",
    "def daysInEndYear(endmonth, endyear):\n",
    "    days = 0\n",
    "    for month in range(1, endmonth+1):\n",
    "        days += numberOfDaysMonth(month, endyear)\n",
    "        return days\n",
    "\n",
    "def numberOfHours(startmonth, startyear, endmonth, endyear):\n",
    "    days = 0\n",
    "    days += daysInStartYear(startmonth, startyear)\n",
    "    days += daysInEndYear(endmonth, endyear)\n",
    "    if endyear - startyear == 2: # 2019 - 2017\n",
    "        days += numberOfDays(startyear+1, startyear+1)\n",
    "    elif endyear - startyear > 2:\n",
    "        days += numberOfDays(startyear+1, endyear-1)\n",
    "    return 24 * days\n",
    "        \n",
    "numberOfHours(11, 1975, 3, 1999)\n"
   ]
  },
  {
   "cell_type": "code",
   "execution_count": null,
   "metadata": {},
   "outputs": [],
   "source": []
  },
  {
   "cell_type": "code",
   "execution_count": null,
   "metadata": {},
   "outputs": [],
   "source": [
    "# Excluding Feb\n",
    "# First Six Months - 1, 3, 4, 5, 6, 7\n",
    "                    # All Odd months have 31 days\n",
    "                    # All even months have 30 days\n",
    "# Last six months - 8, 9, 10, 11, 12\n",
    "                    # All even months have 31 days\n",
    "                    # All odd months have 30 days\n",
    "        \n",
    "# 31 days - (months <= 7 and month)"
   ]
  },
  {
   "cell_type": "code",
   "execution_count": null,
   "metadata": {},
   "outputs": [],
   "source": []
  },
  {
   "cell_type": "code",
   "execution_count": null,
   "metadata": {},
   "outputs": [],
   "source": []
  },
  {
   "cell_type": "code",
   "execution_count": null,
   "metadata": {},
   "outputs": [],
   "source": []
  }
 ],
 "metadata": {
  "kernelspec": {
   "display_name": "Python 3",
   "language": "python",
   "name": "python3"
  },
  "language_info": {
   "codemirror_mode": {
    "name": "ipython",
    "version": 3
   },
   "file_extension": ".py",
   "mimetype": "text/x-python",
   "name": "python",
   "nbconvert_exporter": "python",
   "pygments_lexer": "ipython3",
   "version": "3.7.3"
  }
 },
 "nbformat": 4,
 "nbformat_minor": 2
}
