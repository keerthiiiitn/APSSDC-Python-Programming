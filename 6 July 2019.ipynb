{
 "cells": [
  {
   "cell_type": "code",
   "execution_count": 22,
   "metadata": {},
   "outputs": [
    {
     "name": "stdout",
     "output_type": "stream",
     "text": [
      "aabbbcc\n",
      "['a', 'a', 'b', 'b', 'b', 'c', 'c']\n",
      "{'a': 2, 'b': 3, 'c': 2}\n",
      "[('a', 2), ('b', 3), ('c', 2)]\n"
     ]
    }
   ],
   "source": [
    "def rubyAndString(s):\n",
    "    dic = {}\n",
    "    li = []\n",
    "    li1 = []\n",
    "    newlist = []\n",
    "    for i in s:\n",
    "        li.append(i)\n",
    "    print(li)\n",
    "    for i in li:\n",
    "        dic[i] = li.count(i)\n",
    "    print(dic)\n",
    "    for i in dic.items():\n",
    "        li1.append(i)\n",
    "    print(li1)\n",
    "\n",
    "\n",
    "s = input()\n",
    "rubyAndString(s)"
   ]
  },
  {
   "cell_type": "code",
   "execution_count": 19,
   "metadata": {},
   "outputs": [
    {
     "name": "stdout",
     "output_type": "stream",
     "text": [
      "bca\n",
      "(2, 'b') (3, 'c') (2, 'a') "
     ]
    }
   ],
   "source": [
    "s = 'bbcccaa'\n",
    "li = ''\n",
    "for i in s:\n",
    "    if i not in li:\n",
    "        li = li + i\n",
    "print(li)\n",
    "for i in li:\n",
    "    t=(s.count(i),i)\n",
    "    print(t,end=' ')\n"
   ]
  },
  {
   "cell_type": "code",
   "execution_count": 31,
   "metadata": {},
   "outputs": [
    {
     "name": "stdout",
     "output_type": "stream",
     "text": [
      "Mahesh\n",
      "1 3\n",
      "haMesh\n"
     ]
    }
   ],
   "source": [
    "# Input --> Mahesh  start - 1 end - 3\n",
    "# Output --> haMesh\n",
    "\n",
    "def replaceWithReverseSubString(str,s,e):\n",
    "    print(str[e-1::-1]+str[e:])\n",
    "\n",
    "\n",
    "str = input()\n",
    "s,e = map(int,input().split())\n",
    "replaceWithReverseSubString(str,s,e)"
   ]
  },
  {
   "cell_type": "code",
   "execution_count": 28,
   "metadata": {},
   "outputs": [
    {
     "name": "stdout",
     "output_type": "stream",
     "text": [
      "haMesh\n"
     ]
    }
   ],
   "source": [
    "str='Mahesh'\n",
    "s=1\n",
    "e=3\n",
    "print(str[e-1::-1]+str[e:])"
   ]
  },
  {
   "cell_type": "code",
   "execution_count": 32,
   "metadata": {},
   "outputs": [
    {
     "name": "stdout",
     "output_type": "stream",
     "text": [
      "Mahesh\n",
      "3 5\n",
      "Masehh\n"
     ]
    }
   ],
   "source": [
    "# Input --> Mahesh  start - 3 end - 5\n",
    "# Output --> Masehh\n",
    "\n",
    "def replaceWithReverseSubString(str,s,e):\n",
    "    if(s==1):\n",
    "        print(str[e-1::-1]+str[e:])\n",
    "    else:\n",
    "        print(str[:s-1]+str[e-1:s-2:-1]+str[e:])\n",
    "\n",
    "\n",
    "str = input()\n",
    "s,e = map(int,input().split())\n",
    "replaceWithReverseSubString(str,s,e)"
   ]
  },
  {
   "cell_type": "code",
   "execution_count": 13,
   "metadata": {},
   "outputs": [
    {
     "name": "stdout",
     "output_type": "stream",
     "text": [
      "2\n",
      "3 9\n",
      "0 2\n",
      "[0, 3]\n",
      "[2, 9]\n",
      "0\n",
      "3\n",
      "2\n",
      "9\n"
     ]
    }
   ],
   "source": [
    "#def arrayPoints(n):\n",
    "    \n",
    "n = int(input())\n",
    "li = []\n",
    "li1 = []\n",
    "for i in range(1, n+1):\n",
    "    x,y = map(int,input().split())\n",
    "    li.append(x)\n",
    "    li1.append(y)\n",
    "    li.sort()\n",
    "    li1.sort()\n",
    "print(li)\n",
    "print(li1)\n",
    "for i in li:\n",
    "    print(i)\n",
    "for j in li1:\n",
    "    print(j)\n",
    "#     arrayPoints(n)"
   ]
  },
  {
   "cell_type": "code",
   "execution_count": 1,
   "metadata": {},
   "outputs": [
    {
     "name": "stdout",
     "output_type": "stream",
     "text": [
      "APSSDC\n",
      "Apssdc\n"
     ]
    }
   ],
   "source": [
    "# Print given characters as a word with starting character capital form and remaining lower\n",
    "# Input --> A P S S D C\n",
    "# Output --> Apssdc\n",
    "\n",
    "def stringToLower(str):\n",
    "    res = ''.join(str.split())\n",
    "    print(res)\n",
    "    res1 = res[1::]\n",
    "    print(str[0]+res1.lower())\n",
    "        \n",
    "    \n",
    "str = 'A P S S D C'\n",
    "stringToLower(str)"
   ]
  },
  {
   "cell_type": "code",
   "execution_count": 3,
   "metadata": {},
   "outputs": [
    {
     "name": "stdout",
     "output_type": "stream",
     "text": [
      "Apssdc\n"
     ]
    }
   ],
   "source": [
    "# Print given characters as a word with starting character capital form and remaining lower\n",
    "# Input --> A P S S D C\n",
    "# Output --> Apssdc\n",
    "\n",
    "def stringToLower(str):\n",
    "    str2 = str.replace(\" \",\"\")\n",
    "    #print(str2)\n",
    "    res = str2.swapcase()\n",
    "    #print(res)\n",
    "    res1 = res.capitalize()\n",
    "    print(res1)\n",
    "\n",
    "str = 'A P S S D C'\n",
    "stringToLower(str)"
   ]
  },
  {
   "cell_type": "code",
   "execution_count": 4,
   "metadata": {},
   "outputs": [
    {
     "name": "stdout",
     "output_type": "stream",
     "text": [
      "Hai hello world\n",
      "['Hai', 'hello', 'world']\n",
      "{'Hai': 3, 'hello': 5, 'world': 5}\n",
      "hello\n",
      "world\n"
     ]
    }
   ],
   "source": [
    "# Print the maximum length word of given words\n",
    "# Hai hello world\n",
    "# hello\n",
    "# world\n",
    "\n",
    "def maximumLengthString(str):\n",
    "    dic = {}\n",
    "    sentence = str.split()\n",
    "    print(sentence)\n",
    "    for word in sentence:\n",
    "        dic[word] = len(word)\n",
    "    print(dic)\n",
    "    for item in dic.items():\n",
    "        if(max(dic.values())) == item[1]:\n",
    "            print(item[0])\n",
    "    \n",
    "str = input()\n",
    "maximumLengthString(str)\n"
   ]
  },
  {
   "cell_type": "code",
   "execution_count": 6,
   "metadata": {},
   "outputs": [
    {
     "name": "stdout",
     "output_type": "stream",
     "text": [
      "ramu ravi balu\n",
      "ramu\n",
      "ravi\n"
     ]
    }
   ],
   "source": [
    "# Print all the words which starts with the given character, If no words matches with the given condition you should print -1\n",
    "# ramu ravi balu\n",
    "# r\n",
    "# ramu\n",
    "# ravi\n",
    "\n",
    "def relatedToChar(str):\n",
    "    sentence = str.split()\n",
    "    #print(sentence)\n",
    "    for word in sentence:\n",
    "        if word.startswith('r'):\n",
    "            print(word)\n",
    "    \n",
    "\n",
    "str = input()\n",
    "relatedToChar(str)\n"
   ]
  },
  {
   "cell_type": "code",
   "execution_count": 13,
   "metadata": {},
   "outputs": [
    {
     "name": "stdout",
     "output_type": "stream",
     "text": [
      "ramu ravi balu raju mahesh\n",
      "mahesh\n"
     ]
    }
   ],
   "source": [
    "# Print all the words which words not ends with vowels(a,e,i,o,u)\n",
    "# ramu ravi balu raju mahesh\n",
    "# mahesh\n",
    "\n",
    "def notEndsWithVowels(str):\n",
    "    sentence = str.split()\n",
    "    for word in sentence:\n",
    "        if not(word.endswith('a') or word.endswith('e') or word.endswith('i') or word.endswith('o') or word.endswith('u')):\n",
    "            print(word)\n",
    "\n",
    "str = input()\n",
    "notEndsWithVowels(str)"
   ]
  },
  {
   "cell_type": "code",
   "execution_count": 18,
   "metadata": {},
   "outputs": [
    {
     "name": "stdout",
     "output_type": "stream",
     "text": [
      "ramu ravi balu raju mahesh\n",
      "mahesh\n"
     ]
    }
   ],
   "source": [
    "# Print all the words which words not ends with vowels(a,e,i,o,u)\n",
    "# ramu ravi balu raju mahesh\n",
    "# mahesh\n",
    "\n",
    "def notEndsWithVowels(str):\n",
    "    sentence = str.split()\n",
    "    for word in sentence:\n",
    "        if not(word[-1] in ['a','e','i','o','u']):\n",
    "            print(word)\n",
    "\n",
    "str = input()\n",
    "notEndsWithVowels(str)"
   ]
  },
  {
   "cell_type": "code",
   "execution_count": 24,
   "metadata": {},
   "outputs": [
    {
     "name": "stdout",
     "output_type": "stream",
     "text": [
      "ramu akash balu\n",
      "akash\n"
     ]
    }
   ],
   "source": [
    "# Print all the words which word contains duplicate characters\n",
    "# I/P --> ramu akash balu\n",
    "# O/P --> akash\n",
    "\n",
    "def duplicateChar(str):\n",
    "    sentence = str.split()\n",
    "    for word in sentence:\n",
    "        for ch in word:\n",
    "            if word.count(ch) > 1:\n",
    "                print(word)\n",
    "                break\n",
    "\n",
    "str = input()\n",
    "duplicateChar(str)\n"
   ]
  },
  {
   "cell_type": "code",
   "execution_count": 46,
   "metadata": {},
   "outputs": [
    {
     "name": "stdout",
     "output_type": "stream",
     "text": [
      "HellowOrld\n",
      "hELLOWoRLd\n"
     ]
    }
   ],
   "source": [
    "# Swap the case of all characters in given string except last character\n",
    "# I/P --> HellowOrld\n",
    "# O/P --> hELLOWoRLd\n",
    "\n",
    "def swapCase(str):\n",
    "    s = str[len(str)-1]\n",
    "    r = str[0:len(str)-1]\n",
    "    #print(s)\n",
    "    #print(r)\n",
    "    print(r.swapcase()+s)\n",
    "\n",
    "str = input()\n",
    "swapCase(str)"
   ]
  },
  {
   "cell_type": "code",
   "execution_count": 50,
   "metadata": {},
   "outputs": [
    {
     "name": "stdout",
     "output_type": "stream",
     "text": [
      "HelloWorld\n"
     ]
    },
    {
     "ename": "IndexError",
     "evalue": "string index out of range",
     "output_type": "error",
     "traceback": [
      "\u001b[1;31m---------------------------------------------------------------------------\u001b[0m",
      "\u001b[1;31mIndexError\u001b[0m                                Traceback (most recent call last)",
      "\u001b[1;32m<ipython-input-50-098b5a3a9484>\u001b[0m in \u001b[0;36m<module>\u001b[1;34m\u001b[0m\n\u001b[0;32m     11\u001b[0m \u001b[1;33m\u001b[0m\u001b[0m\n\u001b[0;32m     12\u001b[0m \u001b[0mstr\u001b[0m \u001b[1;33m=\u001b[0m \u001b[0minput\u001b[0m\u001b[1;33m(\u001b[0m\u001b[1;33m)\u001b[0m\u001b[1;33m\u001b[0m\u001b[1;33m\u001b[0m\u001b[0m\n\u001b[1;32m---> 13\u001b[1;33m \u001b[0mwordCount\u001b[0m\u001b[1;33m(\u001b[0m\u001b[0mstr\u001b[0m\u001b[1;33m)\u001b[0m\u001b[1;33m\u001b[0m\u001b[1;33m\u001b[0m\u001b[0m\n\u001b[0m",
      "\u001b[1;32m<ipython-input-50-098b5a3a9484>\u001b[0m in \u001b[0;36mwordCount\u001b[1;34m(str)\u001b[0m\n\u001b[0;32m      5\u001b[0m \u001b[1;32mdef\u001b[0m \u001b[0mwordCount\u001b[0m\u001b[1;33m(\u001b[0m\u001b[0mstr\u001b[0m\u001b[1;33m)\u001b[0m\u001b[1;33m:\u001b[0m\u001b[1;33m\u001b[0m\u001b[1;33m\u001b[0m\u001b[0m\n\u001b[0;32m      6\u001b[0m     \u001b[1;32mfor\u001b[0m \u001b[0mword\u001b[0m \u001b[1;32min\u001b[0m \u001b[0mstr\u001b[0m\u001b[1;33m:\u001b[0m\u001b[1;33m\u001b[0m\u001b[1;33m\u001b[0m\u001b[0m\n\u001b[1;32m----> 7\u001b[1;33m         \u001b[1;32mif\u001b[0m \u001b[0mword\u001b[0m\u001b[1;33m[\u001b[0m\u001b[1;36m0\u001b[0m\u001b[1;33m]\u001b[0m\u001b[1;33m.\u001b[0m\u001b[0misupper\u001b[0m\u001b[1;33m(\u001b[0m\u001b[1;33m)\u001b[0m \u001b[1;32mand\u001b[0m \u001b[0mword\u001b[0m\u001b[1;33m[\u001b[0m\u001b[0mlen\u001b[0m\u001b[1;33m(\u001b[0m\u001b[0mstr\u001b[0m\u001b[1;33m)\u001b[0m\u001b[1;33m//\u001b[0m\u001b[1;36m2\u001b[0m\u001b[1;33m]\u001b[0m\u001b[1;33m.\u001b[0m\u001b[0mislower\u001b[0m\u001b[1;33m(\u001b[0m\u001b[1;33m)\u001b[0m\u001b[1;33m:\u001b[0m\u001b[1;33m\u001b[0m\u001b[1;33m\u001b[0m\u001b[0m\n\u001b[0m\u001b[0;32m      8\u001b[0m             \u001b[0msentence\u001b[0m \u001b[1;33m=\u001b[0m \u001b[0mi\u001b[0m\u001b[1;33m.\u001b[0m\u001b[0msplit\u001b[0m\u001b[1;33m(\u001b[0m\u001b[1;33m)\u001b[0m\u001b[1;33m\u001b[0m\u001b[1;33m\u001b[0m\u001b[0m\n\u001b[0;32m      9\u001b[0m     \u001b[0mprint\u001b[0m\u001b[1;33m(\u001b[0m\u001b[0msentence\u001b[0m\u001b[1;33m)\u001b[0m\u001b[1;33m\u001b[0m\u001b[1;33m\u001b[0m\u001b[0m\n",
      "\u001b[1;31mIndexError\u001b[0m: string index out of range"
     ]
    }
   ],
   "source": [
    "# Print the number of words in a given string (here word starting character contains UPPER letter)\n",
    "# I/P --> HelloWorld\n",
    "# O/P --> 2\n",
    "\n",
    "def wordCount(str):\n",
    "    for word in str:\n",
    "        if word[0].isupper() and word[len(str)//2].islower():\n",
    "            sentence = i.split()\n",
    "    print(sentence)\n",
    "\n",
    "\n",
    "str = input()\n",
    "wordCount(str)\n"
   ]
  },
  {
   "cell_type": "code",
   "execution_count": 2,
   "metadata": {},
   "outputs": [
    {
     "name": "stdout",
     "output_type": "stream",
     "text": [
      "1\n",
      "3\n",
      "WelcomeGeek WelcomeToGeeksForGeeks GeeksForGeeks\n",
      "WTG\n",
      "['WelcomeGeek', 'WelcomeToGeeksForGeeks', 'GeeksForGeeks']\n",
      "No match found\n"
     ]
    }
   ],
   "source": [
    "# Hi Hello HelloWorld HiTech HiGeek HiTechWorld HiTechWorld HiTechLab\n",
    "# WelcomeGeek WelcomeToGeeksForGeeks GeeksForGeeks\n",
    "\n",
    "def abbreviation(str, p):\n",
    "    sentence = str.split()\n",
    "    print(sentence)\n",
    "    for word in sentence:\n",
    "        for ch in word:\n",
    "            if ch == p:\n",
    "                print(word)\n",
    "                break\n",
    "    else:\n",
    "        print('No match found')\n",
    "\n",
    "\n",
    "\n",
    "t = int(input())\n",
    "for i in range(t):\n",
    "    n = int(input())\n",
    "    str = input()\n",
    "    p = input()\n",
    "    abbreviation(str,p)\n",
    "    "
   ]
  },
  {
   "cell_type": "code",
   "execution_count": 2,
   "metadata": {},
   "outputs": [
    {
     "name": "stdout",
     "output_type": "stream",
     "text": [
      "www.way2sms.com\n",
      "['www.way2sms.com']\n"
     ]
    },
    {
     "ename": "NameError",
     "evalue": "name 'word' is not defined",
     "output_type": "error",
     "traceback": [
      "\u001b[1;31m---------------------------------------------------------------------------\u001b[0m",
      "\u001b[1;31mNameError\u001b[0m                                 Traceback (most recent call last)",
      "\u001b[1;32m<ipython-input-2-8b118e3ed1bd>\u001b[0m in \u001b[0;36m<module>\u001b[1;34m\u001b[0m\n\u001b[0;32m     19\u001b[0m \u001b[1;33m\u001b[0m\u001b[0m\n\u001b[0;32m     20\u001b[0m \u001b[0ms\u001b[0m \u001b[1;33m=\u001b[0m \u001b[0minput\u001b[0m\u001b[1;33m(\u001b[0m\u001b[1;33m)\u001b[0m\u001b[1;33m\u001b[0m\u001b[1;33m\u001b[0m\u001b[0m\n\u001b[1;32m---> 21\u001b[1;33m \u001b[0mtotalCount\u001b[0m\u001b[1;33m(\u001b[0m\u001b[0ms\u001b[0m\u001b[1;33m)\u001b[0m\u001b[1;33m\u001b[0m\u001b[1;33m\u001b[0m\u001b[0m\n\u001b[0m",
      "\u001b[1;32m<ipython-input-2-8b118e3ed1bd>\u001b[0m in \u001b[0;36mtotalCount\u001b[1;34m(s)\u001b[0m\n\u001b[0;32m     13\u001b[0m     \u001b[0mprint\u001b[0m\u001b[1;33m(\u001b[0m\u001b[0msentence\u001b[0m\u001b[1;33m)\u001b[0m\u001b[1;33m\u001b[0m\u001b[1;33m\u001b[0m\u001b[0m\n\u001b[0;32m     14\u001b[0m     \u001b[1;32mfor\u001b[0m \u001b[0mwords\u001b[0m \u001b[1;32min\u001b[0m \u001b[0msentence\u001b[0m\u001b[1;33m:\u001b[0m\u001b[1;33m\u001b[0m\u001b[1;33m\u001b[0m\u001b[0m\n\u001b[1;32m---> 15\u001b[1;33m         \u001b[1;32mif\u001b[0m \u001b[0mword\u001b[0m\u001b[1;33m.\u001b[0m\u001b[0misalphabet\u001b[0m\u001b[1;33m(\u001b[0m\u001b[1;33m)\u001b[0m\u001b[1;33m:\u001b[0m\u001b[1;33m\u001b[0m\u001b[1;33m\u001b[0m\u001b[0m\n\u001b[0m\u001b[0;32m     16\u001b[0m             \u001b[0mc\u001b[0m \u001b[1;33m+=\u001b[0m \u001b[1;36m1\u001b[0m\u001b[1;33m\u001b[0m\u001b[1;33m\u001b[0m\u001b[0m\n\u001b[0;32m     17\u001b[0m \u001b[1;33m\u001b[0m\u001b[0m\n",
      "\u001b[1;31mNameError\u001b[0m: name 'word' is not defined"
     ]
    }
   ],
   "source": [
    "# Print the number of digits, alphabets and any other \n",
    "# I/P -->  www.way2sms.com\n",
    "# O/P :- DIGITS 1\n",
    "# ALPHABETS  12\n",
    "# OTHER 2\n",
    "\n",
    "def totalCount(s):\n",
    "    li = []\n",
    "    dc = 0\n",
    "    ac = 0\n",
    "    oc = 0\n",
    "    sentence = s.split()\n",
    "    print(sentence)\n",
    "    for words in sentence:\n",
    "        if word.isalpha():\n",
    "            c += 1\n",
    "            \n",
    "\n",
    "\n",
    "s = input()\n",
    "totalCount(s)\n"
   ]
  },
  {
   "cell_type": "code",
   "execution_count": null,
   "metadata": {},
   "outputs": [],
   "source": []
  }
 ],
 "metadata": {
  "kernelspec": {
   "display_name": "Python 3",
   "language": "python",
   "name": "python3"
  },
  "language_info": {
   "codemirror_mode": {
    "name": "ipython",
    "version": 3
   },
   "file_extension": ".py",
   "mimetype": "text/x-python",
   "name": "python",
   "nbconvert_exporter": "python",
   "pygments_lexer": "ipython3",
   "version": "3.7.3"
  }
 },
 "nbformat": 4,
 "nbformat_minor": 2
}
