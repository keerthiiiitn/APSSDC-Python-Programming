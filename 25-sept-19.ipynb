{
 "cells": [
  {
   "cell_type": "markdown",
   "metadata": {},
   "source": [
    "# keyword arguements"
   ]
  },
  {
   "cell_type": "markdown",
   "metadata": {},
   "source": [
    "- we pass keywords as arguments in this keyword arguements.\n",
    "- The order of parameters can be changed."
   ]
  },
  {
   "cell_type": "code",
   "execution_count": 1,
   "metadata": {},
   "outputs": [
    {
     "name": "stdout",
     "output_type": "stream",
     "text": [
      "enter the stringv\n",
      "v\n"
     ]
    }
   ],
   "source": [
    "def fname(str):\n",
    "    print(str)\n",
    "str=input(\"enter the string\")\n",
    "fname(str)"
   ]
  },
  {
   "cell_type": "code",
   "execution_count": 2,
   "metadata": {},
   "outputs": [
    {
     "name": "stdout",
     "output_type": "stream",
     "text": [
      "name: virajitha\n",
      "clg: AITS\n"
     ]
    }
   ],
   "source": [
    "def details(name,clg):\n",
    "    print('name:',name)\n",
    "    print('clg:',clg)\n",
    "details(clg='AITS',name='virajitha')"
   ]
  },
  {
   "cell_type": "markdown",
   "metadata": {},
   "source": [
    "# default arguements\n",
    "- when we call the function only using one arguements then default value gets printed.\n"
   ]
  },
  {
   "cell_type": "code",
   "execution_count": 3,
   "metadata": {},
   "outputs": [
    {
     "name": "stdout",
     "output_type": "stream",
     "text": [
      "name virajitha\n",
      "clg: Annamacharya\n",
      "name anu\n",
      "clg: AITS\n"
     ]
    }
   ],
   "source": [
    "def defarg(name,clg='AITS'):\n",
    "    print('name',name)\n",
    "    print('clg:',clg)\n",
    "defarg(name='virajitha',clg='Annamacharya')\n",
    "defarg(name='anu')"
   ]
  },
  {
   "cell_type": "markdown",
   "metadata": {},
   "source": [
    "## tasks\n",
    "- print all the odd numbers in the given range\n",
    "- check whether the givem number is prime or not\n",
    "- reverse of a number"
   ]
  },
  {
   "cell_type": "code",
   "execution_count": 4,
   "metadata": {},
   "outputs": [
    {
     "name": "stdout",
     "output_type": "stream",
     "text": [
      "enter the range10\n",
      "1 3 5 7 9 "
     ]
    }
   ],
   "source": [
    "n=int(input('enter the range'))\n",
    "for i in range(n+1):\n",
    "    if i%2!=0:\n",
    "        print(i,end=' ')"
   ]
  },
  {
   "cell_type": "code",
   "execution_count": 5,
   "metadata": {},
   "outputs": [
    {
     "name": "stdout",
     "output_type": "stream",
     "text": [
      "enter the input3\n",
      "the given number is prime\n"
     ]
    }
   ],
   "source": [
    "n=int(input('enter the input'))\n",
    "c=0\n",
    "for i in range(1,n+1):\n",
    "    if n%i==0:\n",
    "        c=c+1\n",
    "if c==2:\n",
    "    print(\"the given number is prime\")\n",
    "else:\n",
    "    print(\"the given number is not a prime\")"
   ]
  },
  {
   "cell_type": "code",
   "execution_count": 6,
   "metadata": {},
   "outputs": [
    {
     "name": "stdout",
     "output_type": "stream",
     "text": [
      "enter the input number321\n",
      "123\n"
     ]
    }
   ],
   "source": [
    "n=int(input('enter the input number'))\n",
    "rev=0\n",
    "while n>0:\n",
    "    rev=rev*10+(n%10)\n",
    "    n=int(n/10)\n",
    "print(rev)\n",
    "    "
   ]
  },
  {
   "cell_type": "code",
   "execution_count": 7,
   "metadata": {},
   "outputs": [
    {
     "name": "stdout",
     "output_type": "stream",
     "text": [
      "enter the number121\n",
      "121\n",
      "True\n"
     ]
    }
   ],
   "source": [
    "n=int(input('enter the number'))\n",
    "m=n\n",
    "rev=0\n",
    "while n>0:\n",
    "    rev=rev*10+(n%10)\n",
    "    n=int(n/10)\n",
    "print(rev)\n",
    "if m==rev:\n",
    "    print(True)\n",
    "else:\n",
    "    print(False)"
   ]
  },
  {
   "cell_type": "code",
   "execution_count": 10,
   "metadata": {},
   "outputs": [
    {
     "name": "stdout",
     "output_type": "stream",
     "text": [
      "enter the value4\n",
      "1\n"
     ]
    }
   ],
   "source": [
    "n=int(input(\"enter the value\"))\n",
    "f=1\n",
    "def fac(n):\n",
    "    while n>0:\n",
    "        f=n*fac(n-1)\n",
    "        n=n-1\n",
    "print(f)\n",
    "\n"
   ]
  },
  {
   "cell_type": "code",
   "execution_count": 11,
   "metadata": {},
   "outputs": [
    {
     "name": "stdout",
     "output_type": "stream",
     "text": [
      "enter the input4\n",
      "24\n"
     ]
    }
   ],
   "source": [
    "n=int(input('enter the input'))\n",
    "f=1\n",
    "for i in range(1,n+1):\n",
    "    f=f*i\n",
    "print(f)"
   ]
  },
  {
   "cell_type": "code",
   "execution_count": 9,
   "metadata": {},
   "outputs": [
    {
     "name": "stdout",
     "output_type": "stream",
     "text": [
      "enter the value5\n",
      "153\n"
     ]
    }
   ],
   "source": [
    "n=int(input('enter the value'))\n",
    "f=1\n",
    "s=0\n",
    "for i in range(1,n+1):\n",
    "    f=f*i\n",
    "    s=s+f\n",
    "print(s)"
   ]
  },
  {
   "cell_type": "markdown",
   "metadata": {},
   "source": [
    "# strings\n",
    "- string is a sequence of characters.\n",
    "- it is enclosed within single or double quotes.\n",
    "- strings are immutable"
   ]
  },
  {
   "cell_type": "code",
   "execution_count": 15,
   "metadata": {},
   "outputs": [
    {
     "data": {
      "text/plain": [
       "str"
      ]
     },
     "execution_count": 15,
     "metadata": {},
     "output_type": "execute_result"
    }
   ],
   "source": [
    "s='virajitha'\n",
    "type(s)"
   ]
  },
  {
   "cell_type": "code",
   "execution_count": 16,
   "metadata": {},
   "outputs": [
    {
     "data": {
      "text/plain": [
       "'viraj'"
      ]
     },
     "execution_count": 16,
     "metadata": {},
     "output_type": "execute_result"
    }
   ],
   "source": [
    "#slicing\n",
    "s[0:5]"
   ]
  },
  {
   "cell_type": "code",
   "execution_count": 17,
   "metadata": {},
   "outputs": [
    {
     "ename": "TypeError",
     "evalue": "'str' object does not support item assignment",
     "output_type": "error",
     "traceback": [
      "\u001b[1;31m---------------------------------------------------------------------------\u001b[0m",
      "\u001b[1;31mTypeError\u001b[0m                                 Traceback (most recent call last)",
      "\u001b[1;32m<ipython-input-17-ab359d50dcca>\u001b[0m in \u001b[0;36m<module>\u001b[1;34m\u001b[0m\n\u001b[1;32m----> 1\u001b[1;33m \u001b[0ms\u001b[0m\u001b[1;33m[\u001b[0m\u001b[1;36m0\u001b[0m\u001b[1;33m]\u001b[0m\u001b[1;33m=\u001b[0m\u001b[1;34m'k'\u001b[0m\u001b[1;33m\u001b[0m\u001b[1;33m\u001b[0m\u001b[0m\n\u001b[0m",
      "\u001b[1;31mTypeError\u001b[0m: 'str' object does not support item assignment"
     ]
    }
   ],
   "source": [
    "s[0]='k'"
   ]
  },
  {
   "cell_type": "code",
   "execution_count": 18,
   "metadata": {},
   "outputs": [
    {
     "data": {
      "text/plain": [
       "'ahtijariv'"
      ]
     },
     "execution_count": 18,
     "metadata": {},
     "output_type": "execute_result"
    }
   ],
   "source": [
    "s[::-1]"
   ]
  },
  {
   "cell_type": "code",
   "execution_count": 19,
   "metadata": {},
   "outputs": [
    {
     "data": {
      "text/plain": [
       "'ahtivna'"
      ]
     },
     "execution_count": 19,
     "metadata": {},
     "output_type": "execute_result"
    }
   ],
   "source": [
    "a='anvitha'\n",
    "a[::-1]"
   ]
  },
  {
   "cell_type": "code",
   "execution_count": null,
   "metadata": {},
   "outputs": [],
   "source": []
  }
 ],
 "metadata": {
  "kernelspec": {
   "display_name": "Python 3",
   "language": "python",
   "name": "python3"
  },
  "language_info": {
   "codemirror_mode": {
    "name": "ipython",
    "version": 3
   },
   "file_extension": ".py",
   "mimetype": "text/x-python",
   "name": "python",
   "nbconvert_exporter": "python",
   "pygments_lexer": "ipython3",
   "version": "3.7.3"
  }
 },
 "nbformat": 4,
 "nbformat_minor": 2
}
