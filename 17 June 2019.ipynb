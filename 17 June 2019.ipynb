{
 "cells": [
  {
   "cell_type": "code",
   "execution_count": 5,
   "metadata": {},
   "outputs": [
    {
     "data": {
      "text/plain": [
       "False"
      ]
     },
     "execution_count": 5,
     "metadata": {},
     "output_type": "execute_result"
    }
   ],
   "source": [
    "# Funciton to Toggle String Character\n",
    "\n",
    "s = 'a'\n",
    "s.islower()\n",
    "s.isupper()"
   ]
  },
  {
   "cell_type": "code",
   "execution_count": null,
   "metadata": {},
   "outputs": [],
   "source": []
  },
  {
   "cell_type": "code",
   "execution_count": null,
   "metadata": {},
   "outputs": [],
   "source": [
    "# Toggle String\n",
    "\n"
   ]
  },
  {
   "cell_type": "code",
   "execution_count": null,
   "metadata": {},
   "outputs": [],
   "source": []
  },
  {
   "cell_type": "code",
   "execution_count": 16,
   "metadata": {},
   "outputs": [
    {
     "name": "stdout",
     "output_type": "stream",
     "text": [
      "5\n",
      "1 2 3 4 5\n",
      "120\n"
     ]
    }
   ],
   "source": [
    "#Find Product\n",
    "\n",
    "n = int(input())\n",
    "arr = input().split()\n",
    "li = []\n",
    "for i in arr:\n",
    "    li.append(int(i))\n",
    "# print(li)\n",
    "ans = 1\n",
    "for i in li:\n",
    "    ans = ((ans * i) % (10 ** 9 +7))\n",
    "print(ans)"
   ]
  },
  {
   "cell_type": "code",
   "execution_count": 20,
   "metadata": {},
   "outputs": [
    {
     "name": "stdout",
     "output_type": "stream",
     "text": [
      "5\n",
      "1 2 3 4 5\n"
     ]
    },
    {
     "data": {
      "text/plain": [
       "['1', '2', '3', '4', '5']"
      ]
     },
     "execution_count": 20,
     "metadata": {},
     "output_type": "execute_result"
    }
   ],
   "source": [
    "n = int(input())\n",
    "arr = input().split()\n",
    "li = []\n",
    "for i in arr:\n",
    "    li.append(int(i))\n",
    "li\n"
   ]
  },
  {
   "cell_type": "code",
   "execution_count": 1,
   "metadata": {},
   "outputs": [
    {
     "data": {
      "text/plain": [
       "5"
      ]
     },
     "execution_count": 1,
     "metadata": {},
     "output_type": "execute_result"
    }
   ],
   "source": [
    "li = [1, 2, -5, 0, 5]\n",
    "max(li)"
   ]
  },
  {
   "cell_type": "code",
   "execution_count": null,
   "metadata": {
    "scrolled": true
   },
   "outputs": [
    {
     "name": "stdout",
     "output_type": "stream",
     "text": [
      "2\n",
      "5\n",
      "1\n",
      "5\n",
      "None\n"
     ]
    }
   ],
   "source": [
    " def largestDivisor(n):\n",
    "        max = 1\n",
    "        for i in range(1, n+1):\n",
    "            large = n % i\n",
    "            print()\n",
    "        \n",
    "\n",
    "        \n",
    "t = int(input())       \n",
    "for i in range(t):\n",
    "    n = int(input())\n",
    "    #if(largestDivisor(n)):\n",
    "    print(largestDivisor(n))"
   ]
  },
  {
   "cell_type": "code",
   "execution_count": null,
   "metadata": {},
   "outputs": [],
   "source": []
  },
  {
   "cell_type": "code",
   "execution_count": 29,
   "metadata": {},
   "outputs": [
    {
     "name": "stdout",
     "output_type": "stream",
     "text": [
      "asfj@#1234\n",
      "4\n",
      "4\n"
     ]
    }
   ],
   "source": [
    "def stringCount(st):\n",
    "    count = 0\n",
    "    count1 = 0\n",
    "    for i in range(0, len(st)):\n",
    "        if st[i] >= '0' and st[i] <= '9':\n",
    "            count = count + 1\n",
    "        elif ((st[i] >= 'a' and st[i] <= 'z') or (st[i] >= 'A' and st[i] <= 'Z')):\n",
    "            count1 = count1 + 1\n",
    "    print(count, end=\"\\n\")\n",
    "    print(count1)\n",
    "    return\n",
    "    \n",
    "st=input()\n",
    "\n",
    "stringCount(st)"
   ]
  },
  {
   "cell_type": "code",
   "execution_count": null,
   "metadata": {},
   "outputs": [],
   "source": []
  },
  {
   "cell_type": "code",
   "execution_count": 24,
   "metadata": {},
   "outputs": [
    {
     "name": "stdout",
     "output_type": "stream",
     "text": [
      "3\n",
      "6\n",
      "YES\n",
      "5\n",
      "NO\n",
      "28\n",
      "YES\n"
     ]
    }
   ],
   "source": [
    "# Perfect number\n",
    "\n",
    "def perfectNumber(n):\n",
    "    sum = 0\n",
    "    for i in range(1, n):\n",
    "        if n % i == 0:\n",
    "            sum = sum + i\n",
    "    if sum == n:\n",
    "        print(\"YES\")\n",
    "    else:\n",
    "        print(\"NO\")\n",
    "    return\n",
    "\n",
    "\n",
    "t = int(input())\n",
    "\n",
    "for i in range(t):\n",
    "    n = int(input())\n",
    "    if(perfectNumber(n)):\n",
    "        print(perfectNumber(n))\n",
    "    "
   ]
  },
  {
   "cell_type": "code",
   "execution_count": null,
   "metadata": {},
   "outputs": [],
   "source": []
  },
  {
   "cell_type": "code",
   "execution_count": 4,
   "metadata": {},
   "outputs": [
    {
     "name": "stdout",
     "output_type": "stream",
     "text": [
      "2\n",
      "5\n",
      "3\n",
      "4\n",
      "3\n"
     ]
    }
   ],
   "source": [
    "def largestDivisor(n):\n",
    "    li = []\n",
    "    for i in range(1, n+1):\n",
    "        rem = n % i\n",
    "        li.append(rem)\n",
    "    res = li.index(max(li))\n",
    "    print(res+1)\n",
    "    return\n",
    "\n",
    "\n",
    "t=int(input())\n",
    "for i in range(t):\n",
    "    n=int(input())\n",
    "    largestDivisor(n)\n",
    "#print(li, end=\" \")\n",
    "    #print(rem, end=\" \")\n",
    "    "
   ]
  },
  {
   "cell_type": "code",
   "execution_count": null,
   "metadata": {},
   "outputs": [],
   "source": []
  },
  {
   "cell_type": "code",
   "execution_count": 5,
   "metadata": {},
   "outputs": [
    {
     "name": "stdout",
     "output_type": "stream",
     "text": [
      "10\n",
      "2 3 5 7 "
     ]
    }
   ],
   "source": [
    "def primeSeries(n):\n",
    "    for i in range(1, n+1):\n",
    "        count = 0\n",
    "        for j in range(1, i):\n",
    "            if i % j == 0:\n",
    "                count += 1\n",
    "        if count == 1:\n",
    "            print(i, end=\" \")\n",
    "\n",
    "n = int(input())\n",
    "\n",
    "primeSeries(n)"
   ]
  },
  {
   "cell_type": "code",
   "execution_count": null,
   "metadata": {},
   "outputs": [],
   "source": []
  }
 ],
 "metadata": {
  "kernelspec": {
   "display_name": "Python 3",
   "language": "python",
   "name": "python3"
  },
  "language_info": {
   "codemirror_mode": {
    "name": "ipython",
    "version": 3
   },
   "file_extension": ".py",
   "mimetype": "text/x-python",
   "name": "python",
   "nbconvert_exporter": "python",
   "pygments_lexer": "ipython3",
   "version": "3.7.3"
  }
 },
 "nbformat": 4,
 "nbformat_minor": 2
}
