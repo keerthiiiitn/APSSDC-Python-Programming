{
 "cells": [
  {
   "cell_type": "markdown",
   "metadata": {},
   "source": [
    "### Heakerearth Problems"
   ]
  },
  {
   "cell_type": "code",
   "execution_count": 2,
   "metadata": {},
   "outputs": [
    {
     "name": "stdout",
     "output_type": "stream",
     "text": [
      "5 2\n",
      "1 0 1 1 0\n",
      "1 2\n",
      "0 1 4\n",
      "ODD\n"
     ]
    }
   ],
   "source": [
    "# Binary Queries\n",
    "\n",
    "def binaryQueries(arr, q1):\n",
    "    for i in q1:\n",
    "        if arr[i-1] == 1:\n",
    "            continue\n",
    "        else:\n",
    "            arr[i-1] = 1\n",
    "    #print(arr)\n",
    "    s=0\n",
    "    if len(q1) == 3:\n",
    "        for i in range(len(arr)-1):\n",
    "            s=s+arr[i] * pow(2,i)\n",
    "        #print(s)\n",
    "        if s%2 == 0:\n",
    "            print('EVEN')\n",
    "        else:\n",
    "            print('ODD')\n",
    "            \n",
    "\n",
    "n,q = map(int,input().split())\n",
    "arr = list(map(int,input().split()))\n",
    "for i in range(1, q+1):\n",
    "    q1 = list(map(int,input().split()))\n",
    "    binaryQueries(arr, q1)"
   ]
  },
  {
   "cell_type": "code",
   "execution_count": 3,
   "metadata": {},
   "outputs": [
    {
     "name": "stdout",
     "output_type": "stream",
     "text": [
      "5\n",
      "1 2 3 4 5\n",
      "4 5 3 2 10\n",
      "5 7 6 6 15 "
     ]
    }
   ],
   "source": [
    "# Monk and Welcome Problem\n",
    "\n",
    "def monkAndWelcomeProblem(arr1, arr2):\n",
    "    k = 4\n",
    "    for i in range(0, len(arr1)):\n",
    "        for j in range(len(arr2)-k):\n",
    "            s = arr1[i] + arr2[j]\n",
    "        k-=1\n",
    "        print(s, end=\" \")\n",
    "\n",
    "\n",
    "n = int(input())\n",
    "arr1 = list(map(int,input().split()))\n",
    "arr2 = list(map(int,input().split()))\n",
    "monkAndWelcomeProblem(arr1, arr2)"
   ]
  },
  {
   "cell_type": "code",
   "execution_count": 4,
   "metadata": {},
   "outputs": [
    {
     "name": "stdout",
     "output_type": "stream",
     "text": [
      "2\n",
      "3 4\n",
      "1 2 5\n",
      "3\n",
      "3 2\n",
      "2 5 5\n",
      "0\n"
     ]
    }
   ],
   "source": [
    "# Micro And Array Update\n",
    "\n",
    "def microAndArrayUpdate(arr,k):\n",
    "    c = 0\n",
    "    for i in range(len(arr)):\n",
    "        while(arr[i]<k):\n",
    "            arr = [i+1 for i in arr]\n",
    "            c=c+1\n",
    "    print(c)\n",
    "            \n",
    "t = int(input())\n",
    "for i in range(t):\n",
    "    n,k = list(map(int,input().split()))\n",
    "    arr = list(map(int,input().split()))\n",
    "    microAndArrayUpdate(arr,k) "
   ]
  },
  {
   "cell_type": "code",
   "execution_count": null,
   "metadata": {},
   "outputs": [],
   "source": []
  }
 ],
 "metadata": {
  "kernelspec": {
   "display_name": "Python 3",
   "language": "python",
   "name": "python3"
  },
  "language_info": {
   "codemirror_mode": {
    "name": "ipython",
    "version": 3
   },
   "file_extension": ".py",
   "mimetype": "text/x-python",
   "name": "python",
   "nbconvert_exporter": "python",
   "pygments_lexer": "ipython3",
   "version": "3.7.3"
  }
 },
 "nbformat": 4,
 "nbformat_minor": 2
}
