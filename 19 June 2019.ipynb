{
 "cells": [
  {
   "cell_type": "code",
   "execution_count": 3,
   "metadata": {},
   "outputs": [
    {
     "data": {
      "text/plain": [
       "122"
      ]
     },
     "execution_count": 3,
     "metadata": {},
     "output_type": "execute_result"
    }
   ],
   "source": [
    "ord('z')"
   ]
  },
  {
   "cell_type": "code",
   "execution_count": null,
   "metadata": {},
   "outputs": [],
   "source": [
    "st ='afreen'\n",
    "len(st)\n",
    "\n"
   ]
  },
  {
   "cell_type": "code",
   "execution_count": null,
   "metadata": {},
   "outputs": [],
   "source": [
    "st = input()\n",
    "n = int(input(len(st)))\n",
    "n"
   ]
  },
  {
   "cell_type": "code",
   "execution_count": 3,
   "metadata": {},
   "outputs": [
    {
     "name": "stdout",
     "output_type": "stream",
     "text": [
      "19\n",
      "YES\n"
     ]
    }
   ],
   "source": [
    "def isPrime(n):\n",
    "    c = 0\n",
    "    for i in range(1, n+1):\n",
    "        if n % i == 0:\n",
    "            c += 1\n",
    "    if c == 2:\n",
    "        print(\"YES\")\n",
    "    else:\n",
    "        print(\"NO\")\n",
    "    return\n",
    "n=int(input())\n",
    "isPrime(n)"
   ]
  },
  {
   "cell_type": "code",
   "execution_count": 4,
   "metadata": {},
   "outputs": [
    {
     "data": {
      "text/plain": [
       "97"
      ]
     },
     "execution_count": 4,
     "metadata": {},
     "output_type": "execute_result"
    }
   ],
   "source": [
    "ord('a')"
   ]
  },
  {
   "cell_type": "code",
   "execution_count": null,
   "metadata": {},
   "outputs": [],
   "source": []
  },
  {
   "cell_type": "code",
   "execution_count": 1,
   "metadata": {},
   "outputs": [
    {
     "name": "stdout",
     "output_type": "stream",
     "text": [
      "13\n",
      "Motu\n"
     ]
    }
   ],
   "source": [
    "# Bricks Game\n",
    "\n",
    "def bricksGame(n):\n",
    "    i=1\n",
    "    x=0\n",
    "    while x<n:\n",
    "        if x<n:\n",
    "            c1 = i\n",
    "            x = x + c1\n",
    "            #print(i,c1,x)\n",
    "            f=0\n",
    "        \n",
    "        if x<n:\n",
    "            c2 = i * 2\n",
    "            x = x + c2\n",
    "            #print(i,c2,x)\n",
    "            f=1\n",
    "       \n",
    "        i+=1\n",
    "    if f == 0:\n",
    "        return 'Patlu'\n",
    "    else:\n",
    "        return 'Motu'\n",
    "n = int(input())\n",
    "print(bricksGame(n))"
   ]
  },
  {
   "cell_type": "code",
   "execution_count": null,
   "metadata": {},
   "outputs": [],
   "source": []
  },
  {
   "cell_type": "code",
   "execution_count": 2,
   "metadata": {},
   "outputs": [
    {
     "name": "stdout",
     "output_type": "stream",
     "text": [
      "5\n",
      "100\n",
      "110\n",
      "YES\n",
      "130\n",
      "YES\n",
      "90\n",
      "NO\n",
      "180\n",
      "YES\n",
      "45\n",
      "NO\n"
     ]
    }
   ],
   "source": [
    "# Goki and his breakup\n",
    "\n",
    "def gokisBreakup(x,y):\n",
    "    if y >= x:\n",
    "        print('YES')\n",
    "    else:\n",
    "        print('NO')\n",
    "    return\n",
    "    \n",
    "    \n",
    "n = int(input())\n",
    "x = int(input())\n",
    "for i in range(n):\n",
    "    y = int(input())\n",
    "    \n",
    "    gokisBreakup(x,y)\n"
   ]
  },
  {
   "cell_type": "code",
   "execution_count": null,
   "metadata": {},
   "outputs": [],
   "source": []
  },
  {
   "cell_type": "code",
   "execution_count": 4,
   "metadata": {},
   "outputs": [
    {
     "name": "stdout",
     "output_type": "stream",
     "text": [
      "1401601499\n",
      "Legal ISBN\n"
     ]
    }
   ],
   "source": [
    "# Book of Potion Making\n",
    "def bookOfPotionMaking(n):\n",
    "    sum =0\n",
    "    j = 10\n",
    "    for i in range(1,11):\n",
    "       sum=sum+(n%10)*j\n",
    "       n=n//10\n",
    "       j=j-1\n",
    "    if sum % 11 == 0:\n",
    "        print(\"Legal ISBN\")\n",
    "    else:\n",
    "        print(\"Illegal ISBN\")\n",
    "    return \n",
    "\n",
    "n = int(input())\n",
    "\n",
    "bookOfPotionMaking(n)"
   ]
  },
  {
   "cell_type": "code",
   "execution_count": null,
   "metadata": {},
   "outputs": [],
   "source": []
  }
 ],
 "metadata": {
  "kernelspec": {
   "display_name": "Python 3",
   "language": "python",
   "name": "python3"
  },
  "language_info": {
   "codemirror_mode": {
    "name": "ipython",
    "version": 3
   },
   "file_extension": ".py",
   "mimetype": "text/x-python",
   "name": "python",
   "nbconvert_exporter": "python",
   "pygments_lexer": "ipython3",
   "version": "3.7.3"
  }
 },
 "nbformat": 4,
 "nbformat_minor": 2
}
