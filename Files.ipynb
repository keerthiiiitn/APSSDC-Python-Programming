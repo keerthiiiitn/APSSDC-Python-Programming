{
 "cells": [
  {
   "cell_type": "markdown",
   "metadata": {},
   "source": [
    "### Files in python\n",
    "- To store the digital information\n",
    "- To work with files in python mainly 3 steps"
   ]
  },
  {
   "cell_type": "markdown",
   "metadata": {},
   "source": [
    "### read(string_data)"
   ]
  },
  {
   "cell_type": "code",
   "execution_count": 1,
   "metadata": {},
   "outputs": [
    {
     "name": "stdout",
     "output_type": "stream",
     "text": [
      "Line 1\n",
      "Line 2\n",
      "Line 3\n",
      "Line 4\n",
      "Line 5\n"
     ]
    }
   ],
   "source": [
    "fh = open('book.txt','r')\n",
    "\n",
    "data = fh.read()\n",
    "print(data)\n",
    "\n",
    "fh.close()"
   ]
  },
  {
   "cell_type": "markdown",
   "metadata": {},
   "source": [
    "### Write(string_data)"
   ]
  },
  {
   "cell_type": "code",
   "execution_count": 2,
   "metadata": {},
   "outputs": [],
   "source": [
    "fh = open('book.txt','w')\n",
    "\n",
    "data = 'hi hello'\n",
    "fh.write(data)\n",
    "\n",
    "fh.close()"
   ]
  },
  {
   "cell_type": "code",
   "execution_count": 3,
   "metadata": {},
   "outputs": [],
   "source": [
    "fh = open('book2.txt','w')\n",
    "\n",
    "data = 'Who are you'\n",
    "fh.write(data)\n",
    "\n",
    "fh.close()"
   ]
  },
  {
   "cell_type": "code",
   "execution_count": 4,
   "metadata": {},
   "outputs": [],
   "source": [
    "fh = open('book2.txt','w')\n",
    "\n",
    "data = 'Hiiii everyone'\n",
    "fh.write(data)\n",
    "\n",
    "fh.close()"
   ]
  },
  {
   "cell_type": "code",
   "execution_count": 11,
   "metadata": {},
   "outputs": [
    {
     "name": "stdout",
     "output_type": "stream",
     "text": [
      "hi hello\n",
      "tikkal kalyan"
     ]
    }
   ],
   "source": [
    "fh = open('book.txt','r')\n",
    "\n",
    "for each in fh:\n",
    "    print(each,end=\"\")\n",
    "    \n",
    "    \n",
    "fh.close()"
   ]
  },
  {
   "cell_type": "code",
   "execution_count": 12,
   "metadata": {},
   "outputs": [
    {
     "name": "stdout",
     "output_type": "stream",
     "text": [
      "1 hi hello\n",
      "2 tikkal kalyan\n",
      "3 tikkal sandy"
     ]
    }
   ],
   "source": [
    "fh = open('book.txt','r')\n",
    "c=0\n",
    "for each in fh:\n",
    "    c += 1\n",
    "    print(c, each,end='')\n",
    "    \n",
    "    \n",
    "fh.close()"
   ]
  },
  {
   "cell_type": "code",
   "execution_count": 13,
   "metadata": {},
   "outputs": [
    {
     "name": "stdout",
     "output_type": "stream",
     "text": [
      "3 tikkal sandy"
     ]
    }
   ],
   "source": [
    "fh = open('book.txt','r')\n",
    "c=0\n",
    "for each in fh:\n",
    "    c += 1\n",
    "    if c == 3:\n",
    "        print(c, each,end='')\n",
    "    \n",
    "    \n",
    "fh.close()"
   ]
  },
  {
   "cell_type": "code",
   "execution_count": 25,
   "metadata": {},
   "outputs": [],
   "source": [
    "# Write the data from one file into another file\n",
    "\n",
    "fh = open('book.txt','r')\n",
    "data = fh.read()\n",
    "fh1 = open('book2.txt','w')\n",
    "\n",
    "fh1.write(data)\n",
    "\n",
    "fh1.close()\n",
    "fh.close()"
   ]
  },
  {
   "cell_type": "code",
   "execution_count": 55,
   "metadata": {},
   "outputs": [
    {
     "name": "stdout",
     "output_type": "stream",
     "text": [
      "sandy 50 60 70\n",
      "sandy 50 60 70\n",
      "sandy 50 60 70\n",
      "sandy 50 60 70\n"
     ]
    }
   ],
   "source": [
    "fh = open('book.txt','r')\n",
    "\n",
    "data = fh.readlines()\n",
    "for each in data:\n",
    "    print(i)\n",
    "\n",
    "    \n",
    "fh.close()"
   ]
  },
  {
   "cell_type": "code",
   "execution_count": 49,
   "metadata": {},
   "outputs": [
    {
     "name": "stdout",
     "output_type": "stream",
     "text": [
      "name\n",
      "keeru\n",
      "kalyan\n",
      "sandy\n"
     ]
    }
   ],
   "source": [
    "fh = open('book.txt','r')\n",
    "\n",
    "data = fh.readlines()\n",
    "for i in data:\n",
    "    print(i.split()[0])\n",
    "\n",
    "    \n",
    "fh.close()"
   ]
  },
  {
   "cell_type": "code",
   "execution_count": 64,
   "metadata": {},
   "outputs": [],
   "source": [
    "fh_i = open('book.txt','r')\n",
    "fh_o = open('output.txt','w')\n",
    "\n",
    "for line in fh_i:\n",
    "    word = line.split()[0]+'\\n'\n",
    "    fh_o.write(word)\n",
    "    \n",
    "fh_i.close()\n",
    "fh_o.close()"
   ]
  },
  {
   "cell_type": "code",
   "execution_count": 75,
   "metadata": {},
   "outputs": [
    {
     "name": "stdout",
     "output_type": "stream",
     "text": [
      "keeru\n",
      " 214\n",
      "\n",
      "kalyan\n",
      " 240\n",
      "\n",
      "sandy\n",
      " 180\n",
      "\n",
      "satya\n",
      " 210\n",
      "\n"
     ]
    }
   ],
   "source": [
    "fh = open('book.txt','r')\n",
    "\n",
    "c = 0\n",
    "data = fh.readlines()\n",
    "for line in data:\n",
    "    c += 1\n",
    "    if c == 1:\n",
    "        continue\n",
    "    name = line.split()[0]+'\\n'\n",
    "    marks = sum(list(map(int,line.split()[1:])))\n",
    "    #print(marks)\n",
    "    print(name+' '+str(marks)+'\\n')\n",
    "\n",
    "    \n",
    "fh.close()"
   ]
  },
  {
   "cell_type": "code",
   "execution_count": null,
   "metadata": {},
   "outputs": [],
   "source": []
  }
 ],
 "metadata": {
  "kernelspec": {
   "display_name": "Python 3",
   "language": "python",
   "name": "python3"
  },
  "language_info": {
   "codemirror_mode": {
    "name": "ipython",
    "version": 3
   },
   "file_extension": ".py",
   "mimetype": "text/x-python",
   "name": "python",
   "nbconvert_exporter": "python",
   "pygments_lexer": "ipython3",
   "version": "3.7.3"
  }
 },
 "nbformat": 4,
 "nbformat_minor": 2
}
