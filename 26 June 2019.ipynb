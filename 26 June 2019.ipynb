{
 "cells": [
  {
   "cell_type": "code",
   "execution_count": null,
   "metadata": {},
   "outputs": [],
   "source": [
    "# Largest number in a list\n",
    "# Second largest number in a list\n",
    "# Kth largest number in a list\n",
    "\n",
    "# Element with highest frequency\n",
    "# Second highest frequency\n",
    "# Kth highest frequency\n",
    "\n",
    "# {a:4, g:9, i:6, p:213, c:6}\n",
    "# [4,6,6,9,213]\n",
    "# [213, 10, 9, 6, 6, 4]\n",
    "# [a,c,g,i,p]\n",
    "# k = 5\n",
    "# li = []\n",
    "# \n",
    "\n",
    "def kLargestFrequency(s, k):\n",
    "    # Construct the frequency dictionary\n",
    "    unique = []\n",
    "    freq = {}\n",
    "    for i in s:\n",
    "        if i not in freq.keys():\n",
    "            freq[i] = s.count(i)\n",
    "    value = sorted(freq.values(), reversed=True)\n",
    "    uniquevalues = list(set(values))\n",
    "    uniquevalues = sorted(uniquevalues, reversed=True)\n",
    "    kvalue = uniquevlaues[k-1]\n",
    "    \n",
    "    \n",
    "    \n",
    "    with open('../Desktop/input.txt', 'r') as f:\n",
    "        t = int(f.readline())\n",
    "        for i in range(t):\n",
    "            s = "
   ]
  },
  {
   "cell_type": "code",
   "execution_count": 14,
   "metadata": {},
   "outputs": [
    {
     "name": "stdout",
     "output_type": "stream",
     "text": [
      "[-6, 1, 5, 7, 22]\n"
     ]
    }
   ],
   "source": [
    "li = [7, 5, -6, 1,22]\n",
    "s = sorted(li)\n",
    "print(s)\n"
   ]
  },
  {
   "cell_type": "code",
   "execution_count": null,
   "metadata": {},
   "outputs": [],
   "source": []
  },
  {
   "cell_type": "code",
   "execution_count": 17,
   "metadata": {
    "scrolled": true
   },
   "outputs": [
    {
     "name": "stdout",
     "output_type": "stream",
     "text": [
      "8 3 -3 9 0 2 2\n",
      "[-3, 0, 2, 2, 3, 8, 9]\n",
      "9\n"
     ]
    }
   ],
   "source": [
    "# Largest number in a list\n",
    "\n",
    "li = list(map(int,input().split()))\n",
    "s = sorted(li)\n",
    "print(s)\n",
    "large = s[-1]\n",
    "print(large)"
   ]
  },
  {
   "cell_type": "code",
   "execution_count": null,
   "metadata": {},
   "outputs": [],
   "source": []
  },
  {
   "cell_type": "code",
   "execution_count": 18,
   "metadata": {},
   "outputs": [
    {
     "name": "stdout",
     "output_type": "stream",
     "text": [
      "5 9 3 -9 5 3 3\n",
      "[-9, 3, 3, 3, 5, 5, 9]\n",
      "5\n"
     ]
    }
   ],
   "source": [
    "# Second largest number in a list\n",
    "\n",
    "li = list(map(int,input().split()))\n",
    "s = sorted(li)\n",
    "print(s)\n",
    "large = s[-2]\n",
    "print(large)"
   ]
  },
  {
   "cell_type": "code",
   "execution_count": null,
   "metadata": {},
   "outputs": [],
   "source": []
  },
  {
   "cell_type": "code",
   "execution_count": 28,
   "metadata": {},
   "outputs": [
    {
     "name": "stdout",
     "output_type": "stream",
     "text": [
      "3 6 8 9 9\n",
      "{0: 0, 1: 0, 2: 0, 3: 1, 4: 0, 5: 0, 6: 1, 7: 0, 8: 1, 9: 2}\n"
     ]
    }
   ],
   "source": [
    "# Kth largest (li, k)\n",
    "\n",
    "#def kthLargest(li, k):\n",
    "li = list(map(int,input().split()))\n",
    "#eli = li[k]\n",
    "dic = {}\n",
    "for i in range(max(li)+1):\n",
    "    dic[i] = li.count(i)\n",
    "    \n",
    "print(dic)\n",
    "    \n",
    "\n",
    "#kthLargest([3, 3, 6, 7], 2)\n"
   ]
  },
  {
   "cell_type": "code",
   "execution_count": null,
   "metadata": {},
   "outputs": [],
   "source": []
  },
  {
   "cell_type": "code",
   "execution_count": 2,
   "metadata": {},
   "outputs": [
    {
     "name": "stdout",
     "output_type": "stream",
     "text": [
      "3 5 7 7 7\n",
      "{3: 1, 5: 1, 7: 3}\n",
      "5\n",
      "1\n"
     ]
    }
   ],
   "source": [
    "# Kth largest element\n",
    "\n",
    "#def kthLargest(li, k):\n",
    "li = list(map(int,input().split()))\n",
    "s = sorted(li)\n",
    "li1 = []\n",
    "for i in li:\n",
    "    dic[i] = li.count(i)\n",
    "#     if i not in li:\n",
    "#         continue\n",
    "#     else:\n",
    "#         dic[i] = li.count(i) \n",
    "print(dic)\n",
    "k = int(input())\n",
    "print(dic[k])\n",
    "    \n",
    "\n",
    "#kthLargest([3, 3, 6, 7], 2)\n"
   ]
  },
  {
   "cell_type": "code",
   "execution_count": null,
   "metadata": {},
   "outputs": [],
   "source": []
  },
  {
   "cell_type": "code",
   "execution_count": 5,
   "metadata": {},
   "outputs": [
    {
     "name": "stdout",
     "output_type": "stream",
     "text": [
      "3 4 6 6 6\n",
      "{3: 1, 4: 1, 6: 3}\n",
      "6\n",
      "3\n"
     ]
    }
   ],
   "source": [
    "# highest frequency\n",
    "\n",
    "#def highestFrequency(li, k):\n",
    "\n",
    "li = list(map(int,input().split()))\n",
    "#eli = li[k]\n",
    "dic = {}\n",
    "for i in li:\n",
    "    dic[i] = li.count(i)\n",
    "#     if i not in li:\n",
    "#         continue\n",
    "#     else:\n",
    "#         dic[i] = li.count(i) \n",
    "print(dic)\n",
    "k = int(input())\n",
    "print(dic[k])\n",
    "    \n",
    "\n",
    "#kthLargest([3, 3, 6, 7], 2)\n"
   ]
  },
  {
   "cell_type": "code",
   "execution_count": null,
   "metadata": {},
   "outputs": [],
   "source": []
  },
  {
   "cell_type": "code",
   "execution_count": 8,
   "metadata": {},
   "outputs": [
    {
     "data": {
      "text/plain": [
       "9"
      ]
     },
     "execution_count": 8,
     "metadata": {},
     "output_type": "execute_result"
    }
   ],
   "source": [
    "# Kth smallest(li, k)\n",
    "    # Extract unique elements in the list\n",
    "def ksmallest(li, k):\n",
    "    unique = []\n",
    "    for i in li:\n",
    "        if i not in unique:\n",
    "            unique.append(i)\n",
    "            \n",
    "    # Sort the unique list in ascending order\n",
    "    unique = sorted(unique)\n",
    "    \n",
    "    # Check if length of unique list is greater than Kth element\n",
    "    if len(unique) >= k:\n",
    "        return unique[k-1]\n",
    "    return -1\n",
    "\n",
    "#ksmallest([3, 3, 9], 2)\n",
    "    \n",
    "        \n"
   ]
  },
  {
   "cell_type": "code",
   "execution_count": null,
   "metadata": {},
   "outputs": [],
   "source": [
    "# Function to identify the element with highest frequency\n",
    "\n",
    "\n",
    "def highestFrequency(li):\n",
    "    unique = {}\n",
    "    for i in li:\n",
    "        if i not in unique:\n",
    "            unique[i] += 1\n",
    "        else:\n",
    "            unique[i] = 1\n",
    "            \n",
    "    # Getting all frequncies into a\n"
   ]
  },
  {
   "cell_type": "code",
   "execution_count": null,
   "metadata": {},
   "outputs": [],
   "source": []
  },
  {
   "cell_type": "code",
   "execution_count": 3,
   "metadata": {},
   "outputs": [
    {
     "name": "stdout",
     "output_type": "stream",
     "text": [
      "3 5 6 6 6 7\n",
      "[0, 0, 0, 1, 0, 1, 3, 1]\n",
      "3 6\n"
     ]
    }
   ],
   "source": [
    "# highest frequency\n",
    "\n",
    "#def highestFrequency(li, k):\n",
    "\n",
    "li = list(map(int,input().split()))\n",
    "li.sort()\n",
    "li1 = []\n",
    "for i in range(max(li)+1):\n",
    "    li1.append(li.count(i))\n",
    "#     if i not in li:\n",
    "#         continue\n",
    "#     else:\n",
    "#         dic[i] = li.count(i) \n",
    "print(li1)\n",
    "print(max(li1),li1.index(max(li1)))\n",
    "#k = int(input())\n",
    "#print(dic[k])\n",
    "    \n",
    "\n",
    "#kthLargest([3, 3, 6, 7], 2)"
   ]
  },
  {
   "cell_type": "code",
   "execution_count": null,
   "metadata": {},
   "outputs": [],
   "source": []
  },
  {
   "cell_type": "code",
   "execution_count": 2,
   "metadata": {},
   "outputs": [
    {
     "name": "stdout",
     "output_type": "stream",
     "text": [
      "3 4 4 5 6 6 6\n",
      "{3: 1, 4: 2, 5: 1, 6: 3}\n",
      "[3, 5] 1\n",
      "3\n"
     ]
    }
   ],
   "source": [
    "li = list(map(int,input().split()))\n",
    "dic = {}\n",
    "for i in li:\n",
    "    dic[i] = li.count(i)\n",
    "print(dic)\n",
    "# k = int(input())\n",
    "s = dic.values()\n",
    "s1 = min(s)\n",
    "listOfKeys = [key  for (key, value) in dic.items() if value == s1]\n",
    "print(listOfKeys, s1)\n",
    "if len(listOfKeys) != 1:\n",
    "    print(min(listOfKeys))\n",
    "#print(s1.keys())\n",
    "# if s1 in dic:\n",
    "#     print(dic.keys())\n",
    "#print(min(s))\n",
    "\n",
    "\n",
    "    \n",
    "\n",
    "    "
   ]
  },
  {
   "cell_type": "code",
   "execution_count": null,
   "metadata": {},
   "outputs": [],
   "source": []
  },
  {
   "cell_type": "code",
   "execution_count": null,
   "metadata": {},
   "outputs": [
    {
     "name": "stdout",
     "output_type": "stream",
     "text": [
      "2\n",
      "aabbc\n",
      "3\n",
      "['a', 'a', 'b', 'b', 'c']\n",
      "dict_values([2, 2, 1])\n",
      "[2, 2, 1]\n"
     ]
    }
   ],
   "source": [
    "# String frequency\n",
    "\n",
    "def stringFrequency(st, n):\n",
    "    li = []\n",
    "    for i in range(0, len(st)):\n",
    "        li.append(st[i])\n",
    "    print(li)\n",
    "    dic = {}\n",
    "    for i in li:\n",
    "        dic[i] = li.count(i)\n",
    "    s= dic.values()\n",
    "    print(s)\n",
    "    li1 = []\n",
    "    for i in s:\n",
    "        li1.append(i)\n",
    "    print(li1)\n",
    "#     if n >= max(dic.values()):\n",
    "#             listOfKeys = [key  for (key, value) in dic.items() if value == s1]\n",
    "#             print(min(dic.keys()))\n",
    "#         else:\n",
    "#             print(-1)\n",
    "    #print(dic)\n",
    "    \n",
    "    \n",
    "t = int(input())\n",
    "for i in range(1, t+1):\n",
    "    st = input()\n",
    "    n = int(input())\n",
    "    stringFrequency(st, n)"
   ]
  },
  {
   "cell_type": "code",
   "execution_count": null,
   "metadata": {},
   "outputs": [],
   "source": []
  },
  {
   "cell_type": "code",
   "execution_count": null,
   "metadata": {},
   "outputs": [],
   "source": []
  }
 ],
 "metadata": {
  "kernelspec": {
   "display_name": "Python 3",
   "language": "python",
   "name": "python3"
  },
  "language_info": {
   "codemirror_mode": {
    "name": "ipython",
    "version": 3
   },
   "file_extension": ".py",
   "mimetype": "text/x-python",
   "name": "python",
   "nbconvert_exporter": "python",
   "pygments_lexer": "ipython3",
   "version": "3.7.3"
  }
 },
 "nbformat": 4,
 "nbformat_minor": 2
}
