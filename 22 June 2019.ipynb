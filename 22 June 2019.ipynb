{
 "cells": [
  {
   "cell_type": "markdown",
   "metadata": {},
   "source": [
    "### Date : 22-June-2019\n",
    "\n",
    "## Day Objectives\n",
    "\n",
    "- File Handling\n",
    "    - Basic File Data Processing \n",
    "        - Accessing and Modifying File Data\n",
    "    - Character Count\n",
    "    - Line Count\n",
    "    - File Size\n",
    "    - Word Count\n",
    "    - Unique Word Count"
   ]
  },
  {
   "cell_type": "code",
   "execution_count": 1,
   "metadata": {},
   "outputs": [
    {
     "name": "stdout",
     "output_type": "stream",
     "text": [
      "<class '_io.TextIOWrapper'>\n"
     ]
    }
   ],
   "source": [
    "# Read a File - File should exist(Read Mode)\n",
    "# Write to a File - Existing(append Mode) or New File(Write Mode)\n",
    "\n",
    "# Read File\n",
    "\n",
    "def readFile(filepath):\n",
    "    with open(filepath, 'r') as f:\n",
    "        print(type(f))\n",
    "    return\n",
    "\n",
    "filePath = 'datafiles/data.txt'\n",
    "readFile(filePath)"
   ]
  },
  {
   "cell_type": "code",
   "execution_count": 2,
   "metadata": {},
   "outputs": [
    {
     "data": {
      "text/plain": [
       "'new Line3 Line3\\nLine3 Line3 reg tre tre Line3'"
      ]
     },
     "execution_count": 2,
     "metadata": {},
     "output_type": "execute_result"
    }
   ],
   "source": [
    "# Read File\n",
    "\n",
    "def readFile(filepath):\n",
    "    with open(filepath, 'r') as f:\n",
    "        filedata = f.read()\n",
    "    return filedata\n",
    "\n",
    "filePath = 'datafiles/data.txt'\n",
    "readFile(filePath)"
   ]
  },
  {
   "cell_type": "code",
   "execution_count": 3,
   "metadata": {},
   "outputs": [
    {
     "name": "stdout",
     "output_type": "stream",
     "text": [
      "new Line3 Line3\n",
      "Line3 Line3 reg tre tre Line3\n"
     ]
    }
   ],
   "source": [
    "# Read File\n",
    "\n",
    "def readFile(filepath):\n",
    "    with open(filepath, 'r') as f:\n",
    "        filedata = f.read()\n",
    "    return filedata\n",
    "\n",
    "filePath = 'datafiles/data.txt'\n",
    "print(readFile(filePath)) # If we want to print all data in line by line"
   ]
  },
  {
   "cell_type": "code",
   "execution_count": null,
   "metadata": {},
   "outputs": [],
   "source": []
  },
  {
   "cell_type": "code",
   "execution_count": 4,
   "metadata": {},
   "outputs": [
    {
     "name": "stdout",
     "output_type": "stream",
     "text": [
      "44\n"
     ]
    }
   ],
   "source": [
    "# Read File\n",
    "# Character Count\n",
    "\n",
    "def readFile(filepath):\n",
    "    c=0\n",
    "    with open(filepath, 'r') as f:\n",
    "        filedata = f.read() # Reads the entire file data into a single string\n",
    "        for i in range(1, len(filedata)):\n",
    "            c+=1\n",
    "        print(c)\n",
    "    return\n",
    "\n",
    "filePath = 'datafiles/data.txt'\n",
    "readFile(filePath)"
   ]
  },
  {
   "cell_type": "code",
   "execution_count": null,
   "metadata": {},
   "outputs": [],
   "source": []
  },
  {
   "cell_type": "code",
   "execution_count": 12,
   "metadata": {},
   "outputs": [
    {
     "name": "stdout",
     "output_type": "stream",
     "text": [
      "2\n"
     ]
    }
   ],
   "source": [
    "# Read File\n",
    "# Line Count\n",
    "\n",
    "def readFile(filepath):\n",
    "    c=0\n",
    "    with open(filepath, 'r') as f:\n",
    "        for i in f:\n",
    "            c+=1\n",
    "        print(c)\n",
    "    return\n",
    "\n",
    "filePath = 'datafiles/data.txt'\n",
    "readFile(filePath)"
   ]
  },
  {
   "cell_type": "code",
   "execution_count": null,
   "metadata": {},
   "outputs": [],
   "source": []
  },
  {
   "cell_type": "code",
   "execution_count": 6,
   "metadata": {},
   "outputs": [
    {
     "name": "stdout",
     "output_type": "stream",
     "text": [
      "176\n"
     ]
    }
   ],
   "source": [
    "# Read File\n",
    "# File Size\n",
    "\n",
    "def readFile(filepath):\n",
    "    c=0\n",
    "    with open(filepath, 'r') as f:\n",
    "        filedata = f.read()\n",
    "        for i in range(1, len(filedata)):\n",
    "            c+=1\n",
    "        print(c*4)\n",
    "    return\n",
    "\n",
    "filePath = 'datafiles/data.txt'\n",
    "readFile(filePath)"
   ]
  },
  {
   "cell_type": "code",
   "execution_count": null,
   "metadata": {},
   "outputs": [],
   "source": []
  },
  {
   "cell_type": "code",
   "execution_count": 18,
   "metadata": {},
   "outputs": [
    {
     "data": {
      "text/plain": [
       "2"
      ]
     },
     "execution_count": 18,
     "metadata": {},
     "output_type": "execute_result"
    }
   ],
   "source": [
    "# Function to count the no.of words in a file\n",
    "\n",
    "def readFile(filepath):\n",
    "    c=0\n",
    "    with open(filepath, 'r') as f:\n",
    "        filedata = f.read()\n",
    "        for i in filedata:\n",
    "            if i == \" \" or i == '\\n':\n",
    "                c+=1\n",
    "        print(c+1)\n",
    "    return\n",
    "\n",
    "filepath = 'datafiles/data.txt'\n",
    "#readFile(filePath)\n",
    "\n",
    "\n",
    "# Another way\n",
    "\n",
    "import re\n",
    "\n",
    "def wordCountFile(filepath):\n",
    "    pattern = '[ \\n]'\n",
    "    filedata = 'datafiles/data.txt'\n",
    "    count = len(re.split(pattern, filedata))\n",
    "    return count+1\n",
    "\n",
    "wordCountFile(filepath)"
   ]
  },
  {
   "cell_type": "code",
   "execution_count": null,
   "metadata": {},
   "outputs": [],
   "source": []
  },
  {
   "cell_type": "code",
   "execution_count": 4,
   "metadata": {},
   "outputs": [
    {
     "name": "stdout",
     "output_type": "stream",
     "text": [
      "new\n",
      "reg\n"
     ]
    }
   ],
   "source": [
    "# Unique Word Count\n",
    "\n",
    "def readFile(filepath):\n",
    "    c=0\n",
    "    li = []\n",
    "    with open(filepath, 'r') as f:\n",
    "        filedata = f.read()\n",
    "        l=list(filedata.split())\n",
    "        for i in l:\n",
    "               if(l.count(i)==1):\n",
    "                   print(i)\n",
    "\n",
    "filePath = 'datafiles/data.txt'\n",
    "readFile(filePath)"
   ]
  },
  {
   "cell_type": "code",
   "execution_count": null,
   "metadata": {},
   "outputs": [],
   "source": []
  },
  {
   "cell_type": "markdown",
   "metadata": {},
   "source": [
    "### Hackerearth Programs"
   ]
  },
  {
   "cell_type": "code",
   "execution_count": 1,
   "metadata": {},
   "outputs": [
    {
     "name": "stdout",
     "output_type": "stream",
     "text": [
      "2\n",
      "2\n",
      "4\n",
      "4\n",
      "234\n",
      "234\n",
      "42\n"
     ]
    }
   ],
   "source": [
    "# Lift, the Universe ,and Everything\n",
    "\n",
    "while(1):\n",
    "    n=int(input())\n",
    "    if(n!=42):\n",
    "        print(n)\n",
    "    else:\n",
    "        break"
   ]
  },
  {
   "cell_type": "code",
   "execution_count": null,
   "metadata": {},
   "outputs": [],
   "source": []
  },
  {
   "cell_type": "code",
   "execution_count": 3,
   "metadata": {},
   "outputs": [
    {
     "name": "stdout",
     "output_type": "stream",
     "text": [
      "3\n",
      "5 2\n",
      "1 2\n",
      "3 2\n",
      "3\n"
     ]
    }
   ],
   "source": [
    "# Aman and Mr.Shrma\n",
    "d = int(input())\n",
    "c = 0\n",
    "for i in range(d):\n",
    "        li = input().split()\n",
    "        r = int(li[0])\n",
    "        x = int(li[1])\n",
    "        if((2*22/7*r) <= 100*x):\n",
    "            c += 1\n",
    "print(c)"
   ]
  },
  {
   "cell_type": "code",
   "execution_count": null,
   "metadata": {},
   "outputs": [],
   "source": []
  },
  {
   "cell_type": "code",
   "execution_count": 2,
   "metadata": {},
   "outputs": [
    {
     "name": "stdout",
     "output_type": "stream",
     "text": [
      "12X345-67\n",
      "invalid\n"
     ]
    }
   ],
   "source": [
    "# Ali and Helping Innocent People\n",
    "\n",
    "st = input()\n",
    "if (len(st)==9):\n",
    "        if (int(st[0])+int(st[1]))%2==0 and st[2]!=\"A\" and st[2]!=\"E\" and st[2]!=\"I\" and st[2]!=\"O\" and st[2]!=\"U\" and st[2]!=\"Y\" and (int(st[3])+int(st[4]))%2==0 and (int(st[4])+int(st[5]))%2==0 and st[6]=='-' and (int(st[7])+int(st[8]))%2==0 :\n",
    "            print('valid')\n",
    "        \n",
    "        else:\n",
    "            print('invalid')"
   ]
  },
  {
   "cell_type": "code",
   "execution_count": null,
   "metadata": {},
   "outputs": [],
   "source": []
  },
  {
   "cell_type": "code",
   "execution_count": 2,
   "metadata": {
    "scrolled": true
   },
   "outputs": [
    {
     "name": "stdout",
     "output_type": "stream",
     "text": [
      "2\n",
      "9 6\n",
      "10 \n",
      "1 1 \n",
      "1 1\n",
      "0 1\n",
      "0 0\n",
      "0 1\n",
      "0 0\n",
      "0 1\n",
      "0 1\n",
      "1 1\n",
      "0 0\n",
      "69\n",
      "1 9\n",
      "10\n",
      "0 1\n",
      "0 0\n",
      "0 0\n",
      "0 1\n",
      "1 0\n",
      "0 1\n",
      "0 1\n",
      "0 0\n",
      "0 1\n",
      "0 0\n",
      "14\n"
     ]
    }
   ],
   "source": [
    "# Cost of balloons\n",
    "\n",
    "t = int(input())\n",
    "\n",
    "for k in range(t):\n",
    "    li = input().split()\n",
    "    g = int(li[0])\n",
    "    p = int(li[1])\n",
    "    n = int(input())\n",
    "    s1=0\n",
    "    s2=0\n",
    "    for i in range(1, n+1):\n",
    "        li1 = input().split()\n",
    "        i = int(li1[0])\n",
    "        j = int(li1[1])\n",
    "        s1 = s1 + ((i*g)+(j*p))\n",
    "        s2 = s2 + ((i*p)+(j*g))\n",
    "    print(min(s1,s2))\n",
    "        \n",
    "    \n",
    "    \n",
    "    "
   ]
  },
  {
   "cell_type": "code",
   "execution_count": null,
   "metadata": {},
   "outputs": [],
   "source": []
  }
 ],
 "metadata": {
  "kernelspec": {
   "display_name": "Python 3",
   "language": "python",
   "name": "python3"
  },
  "language_info": {
   "codemirror_mode": {
    "name": "ipython",
    "version": 3
   },
   "file_extension": ".py",
   "mimetype": "text/x-python",
   "name": "python",
   "nbconvert_exporter": "python",
   "pygments_lexer": "ipython3",
   "version": "3.7.3"
  }
 },
 "nbformat": 4,
 "nbformat_minor": 2
}
