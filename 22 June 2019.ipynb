{
 "cells": [
  {
   "cell_type": "markdown",
   "metadata": {},
   "source": [
    "### Date : 22-June-2019\n",
    "\n",
    "## Day Objectives\n",
    "\n",
    "- File Handling\n",
    "    - Basic File Data Processing \n",
    "        - Accessing and Modifying File Data\n",
    "    - Character Count\n",
    "    - Line Count\n",
    "    - File Size\n",
    "    - Word Count\n",
    "    - Unique Word Count"
   ]
  },
  {
   "cell_type": "code",
   "execution_count": 1,
   "metadata": {},
   "outputs": [
    {
     "name": "stdout",
     "output_type": "stream",
     "text": [
      "<class '_io.TextIOWrapper'>\n"
     ]
    }
   ],
   "source": [
    "# Read a File - File should exist(Read Mode)\n",
    "# Write to a File - Existing(append Mode) or New File(Write Mode)\n",
    "\n",
    "# Read File\n",
    "\n",
    "def readFile(filepath):\n",
    "    with open(filepath, 'r') as f:\n",
    "        print(type(f))\n",
    "    return\n",
    "\n",
    "filePath = 'datafiles/data.txt'\n",
    "readFile(filePath)"
   ]
  },
  {
   "cell_type": "code",
   "execution_count": 2,
   "metadata": {},
   "outputs": [
    {
     "data": {
      "text/plain": [
       "'new dataLine2,Line3\\nLine2\\nLine7\\nLine3'"
      ]
     },
     "execution_count": 2,
     "metadata": {},
     "output_type": "execute_result"
    }
   ],
   "source": [
    "# Read File\n",
    "\n",
    "def readFile(filepath):\n",
    "    with open(filepath, 'r') as f:\n",
    "        filedata = f.read()\n",
    "    return filedata\n",
    "\n",
    "filePath = 'datafiles/data.txt'\n",
    "readFile(filePath)"
   ]
  },
  {
   "cell_type": "code",
   "execution_count": 3,
   "metadata": {},
   "outputs": [
    {
     "name": "stdout",
     "output_type": "stream",
     "text": [
      "new dataLine2,Line3\n",
      "Line2\n",
      "Line7\n",
      "Line3\n"
     ]
    }
   ],
   "source": [
    "# Read File\n",
    "\n",
    "def readFile(filepath):\n",
    "    with open(filepath, 'r') as f:\n",
    "        filedata = f.read()\n",
    "    return filedata\n",
    "\n",
    "filePath = 'datafiles/data.txt'\n",
    "print(readFile(filePath)) # If we want to print all data in line by line"
   ]
  },
  {
   "cell_type": "code",
   "execution_count": null,
   "metadata": {},
   "outputs": [],
   "source": []
  },
  {
   "cell_type": "code",
   "execution_count": 17,
   "metadata": {},
   "outputs": [
    {
     "name": "stdout",
     "output_type": "stream",
     "text": [
      "36\n"
     ]
    }
   ],
   "source": [
    "# Read File\n",
    "# Character Count\n",
    "\n",
    "def readFile(filepath):\n",
    "    c=0\n",
    "    with open(filepath, 'r') as f:\n",
    "        filedata = f.read()\n",
    "        for i in range(1, len(filedata)):\n",
    "            c+=1\n",
    "        print(c)\n",
    "    return\n",
    "\n",
    "filePath = 'datafiles/data.txt'\n",
    "readFile(filePath)"
   ]
  },
  {
   "cell_type": "code",
   "execution_count": null,
   "metadata": {},
   "outputs": [],
   "source": []
  },
  {
   "cell_type": "code",
   "execution_count": 15,
   "metadata": {},
   "outputs": [
    {
     "name": "stdout",
     "output_type": "stream",
     "text": [
      "4\n"
     ]
    }
   ],
   "source": [
    "# Read File\n",
    "# Line Count\n",
    "\n",
    "def readFile(filepath):\n",
    "    c=0\n",
    "    with open(filepath, 'r') as f:\n",
    "        for i in f:\n",
    "            c+=1\n",
    "        print(c)\n",
    "    return\n",
    "\n",
    "filePath = 'datafiles/data.txt'\n",
    "readFile(filePath)"
   ]
  },
  {
   "cell_type": "code",
   "execution_count": null,
   "metadata": {},
   "outputs": [],
   "source": []
  },
  {
   "cell_type": "code",
   "execution_count": 18,
   "metadata": {},
   "outputs": [
    {
     "name": "stdout",
     "output_type": "stream",
     "text": [
      "144\n"
     ]
    }
   ],
   "source": [
    "# Read File\n",
    "# Character Count\n",
    "\n",
    "def readFile(filepath):\n",
    "    c=0\n",
    "    with open(filepath, 'r') as f:\n",
    "        filedata = f.read()\n",
    "        for i in range(1, len(filedata)):\n",
    "            c+=1\n",
    "        print(c*4)\n",
    "    return\n",
    "\n",
    "filePath = 'datafiles/data.txt'\n",
    "readFile(filePath)"
   ]
  },
  {
   "cell_type": "code",
   "execution_count": null,
   "metadata": {},
   "outputs": [],
   "source": []
  }
 ],
 "metadata": {
  "kernelspec": {
   "display_name": "Python 3",
   "language": "python",
   "name": "python3"
  },
  "language_info": {
   "codemirror_mode": {
    "name": "ipython",
    "version": 3
   },
   "file_extension": ".py",
   "mimetype": "text/x-python",
   "name": "python",
   "nbconvert_exporter": "python",
   "pygments_lexer": "ipython3",
   "version": "3.7.3"
  }
 },
 "nbformat": 4,
 "nbformat_minor": 2
}
