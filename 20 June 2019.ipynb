{
 "cells": [
  {
   "cell_type": "markdown",
   "metadata": {},
   "source": [
    "### Date : 20 June 2019\n",
    "\n",
    "#### Day Objectives\n",
    "\n",
    "\n",
    "* Regular Expression\n",
    "    - Constructing Regular Expressions for various use cases\n",
    "    - Regular Expressions Module and related in Python\n",
    "    - Improving the Contacts application with name and phone number validation using regular expressions\n",
    "* File Handling\n",
    "    - Text Files\n",
    "    - Upgrading the Contacts Application to store contact information in a text file"
   ]
  },
  {
   "cell_type": "code",
   "execution_count": null,
   "metadata": {},
   "outputs": [],
   "source": []
  },
  {
   "cell_type": "markdown",
   "metadata": {},
   "source": [
    "### Regular Expressions\n",
    "\n",
    "- Pattern Matching\n",
    "- Symbollic Notation of a pattern\n",
    "    - Pattern : Format which repeats\n",
    "    - Pattern(RE) represents the set of all values that matches any\n",
    "    \n",
    "- Examples\n",
    "\n",
    "    * [0-9] -> Any digit\n",
    "    \n",
    "    * [a-z] -> Any lower case alphabet\n",
    "    \n",
    "    * [A-Z] -> Any upper case alphabet\n",
    "    \n",
    "    * [2468] -> All single digits multipules of 2\n",
    "    \n",
    "    * End of the string is represented by $\n",
    "    \n",
    "    * ^[0-9]{1}$ -> Only single digit numbers\n",
    "    \n",
    "    * ^[0-9]{3}$ -> only first 3 digit numbers\n",
    "    \n",
    "    * [0-9]{3}$  -> only last 3 digit numbers\n",
    "    \n",
    "    * [0-9]*0$   -> All multiples of 10\n",
    "    \n",
    "    * ^[0-9][0-9]*0$ -> All multiples of 10\n",
    "    \n",
    "    * ^([0-9][0-9]*[05])$|[5]$ -> All multiple of 5\n",
    "    \n",
    "    * ^[1-9]{1}[0-9]{9}$ | ^[1-9][0-9]{9}$   -> All 10 digit numbers\n",
    "    \n",
    "    * ^[6-9][0-9]{9}$|^[0][6-9][0-9]{9}$|^[+][91][6-9][0-9]{9}$ -> Validating phone number(India)(start with 9876)\n",
    "    \n",
    "    *  ^[0-9a-z][0-9a-z_.][5,14][0-9a-z][@][a-z0-9]{3,18}[.][a-z]{2,4}$ -> Email validation (username@domain.extension)\n",
    "    \n",
    "        - username \n",
    "        \n",
    "            - Length of username : [6, 15]\n",
    "            - No special characters other than  _ .\n",
    "            - Should not begin and end with _ .\n",
    "            - Character Set  : all digits and lower case alphabet\n",
    "                \n",
    "        - domain\n",
    "        \n",
    "            - Length of domain : [3, 18]\n",
    "            - No special character\n",
    "            - Character Set  : all digits and lower case alphabet\n",
    "                \n",
    "        - extension\n",
    "        \n",
    "            - Length of extension : [2, 4]\n",
    "            - No special characters\n",
    "            - Character Set : lower case alphabet\n",
    "                \n",
    "    * Any string of length 5 start with a and ending with z\n",
    "    \n",
    "    * ^[a]...[z]$ -> Here dots represents 3 characters\n",
    "    \n",
    "    * ^[a].*[z]$ -> Here dots represents any number of characters"
   ]
  },
  {
   "cell_type": "code",
   "execution_count": null,
   "metadata": {},
   "outputs": [],
   "source": []
  },
  {
   "cell_type": "code",
   "execution_count": 1,
   "metadata": {},
   "outputs": [
    {
     "data": {
      "text/plain": [
       "True"
      ]
     },
     "execution_count": 1,
     "metadata": {},
     "output_type": "execute_result"
    }
   ],
   "source": [
    "# Function to validate a phone number\n",
    "\n",
    "import re\n",
    "def phoneNumberValidator(number):\n",
    "    pattern = '^[6-9][0-9]{9}$|^[0][6-9][0-9]{9}$|^[+][91][6-9][0-9]{9}$'\n",
    "    if re.match(pattern, str(number)):\n",
    "        return True\n",
    "    return False\n",
    "\n",
    "\n",
    "phoneNumberValidator(7893698870)  "
   ]
  },
  {
   "cell_type": "code",
   "execution_count": 2,
   "metadata": {},
   "outputs": [
    {
     "data": {
      "text/plain": [
       "True"
      ]
     },
     "execution_count": 2,
     "metadata": {},
     "output_type": "execute_result"
    }
   ],
   "source": [
    "# Function to validate email\n",
    "\n",
    "import re\n",
    "def emailValidator(email):\n",
    "    pattern = '^[0-9a-z][0-9a-z_.]{4,13}[0-9a-z][@][a-z0-9]{3,18}[.][a-z]{2,4}|[.][a-z]{2,4}$'\n",
    "    if re.match(pattern, email):\n",
    "        return True\n",
    "    return False\n",
    "\n",
    "emailValidator(\"ramu_12@gmail.com\")"
   ]
  },
  {
   "cell_type": "markdown",
   "metadata": {},
   "source": []
  },
  {
   "cell_type": "code",
   "execution_count": 7,
   "metadata": {},
   "outputs": [],
   "source": [
    "def phoneNumberValidator(number):\n",
    "    pattern = '^[6-9][0-9]{9}$|^[0][6-9][0-9]{9}$|^[+][91][6-9][0-9]{9}$'\n",
    "    if re.match(pattern, str(number)):\n",
    "        return True\n",
    "    return False\n",
    "def addContact(name, phone): #phoneNumberValidator(number)\n",
    "    if name not in contacts and phoneNumberValidator(phone):\n",
    "        contacts[name] = phone\n",
    "        print(\"Contact %s added\" % name)\n",
    "    if not phoneNumberValidator(phone):\n",
    "        print(\"Phone number is invalid\")\n",
    "    return\n",
    "\n",
    "addContact(\"name1\",7893698870)\n",
    "    "
   ]
  },
  {
   "cell_type": "code",
   "execution_count": 4,
   "metadata": {},
   "outputs": [
    {
     "name": "stdout",
     "output_type": "stream",
     "text": [
      "name3 added successfully\n"
     ]
    }
   ],
   "source": [
    "contacts = {\"name1\":[9876543210, 'name1@domain.ext'], \"name2\":[76543211098, \"name2@domain.ext\"]}\n",
    "\n",
    "def addContact(name, phone, email):\n",
    "    if name in contacts:\n",
    "        print(name, \"already exists. \")\n",
    "    else:\n",
    "        if not phoneNumberValidator(phone):\n",
    "            print(\"Invalid Phone number\")\n",
    "            return\n",
    "        if not emailValidator(email):\n",
    "            print(\"Invalid email address\")\n",
    "            return\n",
    "        newcontact = []\n",
    "        newcontact.append(phone)\n",
    "        newcontact.append(email)\n",
    "        contacts[name] = newcontact\n",
    "        print(name, \"added successfully\")\n",
    "    return\n",
    "\n",
    "addContact(\"name3\",7893698870, \"ramu_12@gmail.com\")"
   ]
  },
  {
   "cell_type": "code",
   "execution_count": 5,
   "metadata": {},
   "outputs": [
    {
     "data": {
      "text/plain": [
       "{'name1': [9876543210, 'name1@domain.ext'],\n",
       " 'name2': [76543211098, 'name2@domain.ext'],\n",
       " 'name3': [7893698870, 'ramu_12@gmail.com']}"
      ]
     },
     "execution_count": 5,
     "metadata": {},
     "output_type": "execute_result"
    }
   ],
   "source": [
    "contacts\n"
   ]
  },
  {
   "cell_type": "code",
   "execution_count": 8,
   "metadata": {},
   "outputs": [
    {
     "name": "stdout",
     "output_type": "stream",
     "text": [
      "name1\n",
      "phone : 9876543210\n",
      "email : name1@domain.ext\n"
     ]
    }
   ],
   "source": [
    "\n",
    "def searchContacts(name):\n",
    "    if name in contacts:\n",
    "        print(name)\n",
    "        print(\"phone :\", contacts[name][0])\n",
    "        print(\"email :\", contacts[name][1])\n",
    "    else:\n",
    "        print(\"%s does not exist\" % name)\n",
    "    return\n",
    "\n",
    "searchContacts(\"name1\")"
   ]
  },
  {
   "cell_type": "code",
   "execution_count": null,
   "metadata": {},
   "outputs": [],
   "source": []
  },
  {
   "cell_type": "code",
   "execution_count": 9,
   "metadata": {},
   "outputs": [
    {
     "name": "stdout",
     "output_type": "stream",
     "text": [
      "bharu\n",
      "keeru\n",
      "7923754239\n",
      "8293823989\n",
      "2 Contacts added successfully\n"
     ]
    }
   ],
   "source": [
    "def importContacts(newContacts):\n",
    "    contacts.update(newContacts)\n",
    "    print(len(newContacts.keys()), \"Contacts added successfully\")\n",
    "    return\n",
    "name2=input()\n",
    "name3=input()\n",
    "phone2=input()\n",
    "phone3=input()\n",
    "newContacts={\"name4\":[9573536640,'ajowe_23@gmail.com'],\"name5\":[9959671265,'aweuw_4356@gamil.com']}\n",
    "importContacts(newContacts)"
   ]
  },
  {
   "cell_type": "code",
   "execution_count": null,
   "metadata": {},
   "outputs": [],
   "source": []
  },
  {
   "cell_type": "code",
   "execution_count": 10,
   "metadata": {},
   "outputs": [
    {
     "data": {
      "text/plain": [
       "{'name4': [9573536640, 'ajowe_23@gmail.com'],\n",
       " 'name5': [9959671265, 'aweuw_4356@gamil.com']}"
      ]
     },
     "execution_count": 10,
     "metadata": {},
     "output_type": "execute_result"
    }
   ],
   "source": [
    "newContacts"
   ]
  },
  {
   "cell_type": "code",
   "execution_count": 14,
   "metadata": {},
   "outputs": [
    {
     "data": {
      "text/plain": [
       "{'name1': [9876543210, 'name1@domain.ext'],\n",
       " 'name2': [76543211098, 'name2@domain.ext'],\n",
       " 'name3': [7893698870, 'ramu_12@gmail.com'],\n",
       " 'name4': [9573536640, 'ajowe_23@gmail.com'],\n",
       " 'name5': [9959671265, 'aweuw_4356@gamil.com']}"
      ]
     },
     "execution_count": 14,
     "metadata": {},
     "output_type": "execute_result"
    }
   ],
   "source": [
    "contacts"
   ]
  },
  {
   "cell_type": "code",
   "execution_count": null,
   "metadata": {},
   "outputs": [],
   "source": []
  },
  {
   "cell_type": "code",
   "execution_count": 16,
   "metadata": {},
   "outputs": [
    {
     "name": "stdout",
     "output_type": "stream",
     "text": [
      "name1 \n",
      " Phone: 9876543210 \n",
      " Email: name1@domain.ext\n",
      "name2 \n",
      " Phone: 76543211098 \n",
      " Email: name2@domain.ext\n",
      "name3 \n",
      " Phone: 7893698870 \n",
      " Email: ramu_12@gmail.com\n",
      "name4 \n",
      " Phone: 9573536640 \n",
      " Email: ajowe_23@gmail.com\n",
      "name5 \n",
      " Phone: 9959671265 \n",
      " Email: aweuw_4356@gamil.com\n"
     ]
    }
   ],
   "source": [
    "# Function to list all contacts\n",
    "def listAllContacts():\n",
    "    for contact,info in contacts.items():\n",
    "        print(contact,\"\\n\",\"Phone:\",info[0],\"\\n\",\"Email:\",info[1])\n",
    "    return\n",
    "listAllContacts()"
   ]
  },
  {
   "cell_type": "code",
   "execution_count": null,
   "metadata": {},
   "outputs": [],
   "source": []
  },
  {
   "cell_type": "code",
   "execution_count": 18,
   "metadata": {},
   "outputs": [
    {
     "name": "stdout",
     "output_type": "stream",
     "text": [
      "keerthi\n",
      "7893698870\n",
      "Contact keerthi Added\n",
      "contact keerthi already exists\n"
     ]
    }
   ],
   "source": [
    "\n",
    "\n",
    "dcontacts={\"syamu\":[8331063380,'name@domain.ext'],\"name1\":[8331063380,'name1@domain.ext']}\n",
    "def addContact(name,phone):\n",
    "    # Verify the contact doesnot already exist \n",
    "    if name not in contacts and phoneNumberValidator(phone):\n",
    "        contacts[name]=phone\n",
    "        print(\"Contact %s Added\" % name)\n",
    "    if name in contacts:\n",
    "        print(\"contact %s already exists\" % name)\n",
    "    #elif not phoneNumberValidator(phone):\n",
    "        #print(\"Invalid phone numberr\")\n",
    "    return\n",
    "name=input()\n",
    "phone=int(input())\n",
    "#print(contacts)\n",
    "addContact(name,phone)"
   ]
  },
  {
   "cell_type": "code",
   "execution_count": null,
   "metadata": {},
   "outputs": [],
   "source": []
  },
  {
   "cell_type": "code",
   "execution_count": null,
   "metadata": {},
   "outputs": [],
   "source": [
    "# Function to edit contact information\n",
    "\n",
    "def editContact(name, phone, email):\n",
    "    "
   ]
  },
  {
   "cell_type": "code",
   "execution_count": null,
   "metadata": {},
   "outputs": [],
   "source": []
  },
  {
   "cell_type": "code",
   "execution_count": 46,
   "metadata": {},
   "outputs": [
    {
     "data": {
      "text/plain": [
       "{'name1': [9876543210, 'name1@domain.ext'],\n",
       " 'name2': [76543211098, 'name2@domain.ext'],\n",
       " 'name3': [7893698870, 'ramu_12@gmail.com']}"
      ]
     },
     "execution_count": 46,
     "metadata": {},
     "output_type": "execute_result"
    }
   ],
   "source": [
    "contacts"
   ]
  },
  {
   "cell_type": "code",
   "execution_count": 25,
   "metadata": {},
   "outputs": [
    {
     "name": "stdout",
     "output_type": "stream",
     "text": [
      "name10 does not exist\n"
     ]
    }
   ],
   "source": [
    "def searchContacts(name):\n",
    "    if name in contacts:\n",
    "        print(name,\":\", contacts[name])\n",
    "    else:\n",
    "        print(\"%s does not exist\" % name)\n",
    "    return\n",
    "\n",
    "searchContacts(\"name10\")"
   ]
  },
  {
   "cell_type": "code",
   "execution_count": null,
   "metadata": {},
   "outputs": [],
   "source": []
  },
  {
   "cell_type": "code",
   "execution_count": 26,
   "metadata": {},
   "outputs": [
    {
     "name": "stdout",
     "output_type": "stream",
     "text": [
      "3 contacts added\n"
     ]
    }
   ],
   "source": [
    "# New contacts is given as a dictionary\n",
    "# Merge new contacts with existing contacts\n",
    "def importContacts(newContacts):\n",
    "    contacts.update(newContacts)\n",
    "    print(len(newContacts.keys()), \"contacts added\")\n",
    "    return\n",
    "\n",
    "newContacts = {\"name2\":'1245678908', \"name3\":'9876523018', \"name4\":'2893456903'}\n",
    "\n",
    "importContacts(newContacts)\n",
    "    "
   ]
  },
  {
   "cell_type": "code",
   "execution_count": null,
   "metadata": {},
   "outputs": [],
   "source": []
  },
  {
   "cell_type": "markdown",
   "metadata": {},
   "source": [
    "#### File Handling in Python\n",
    "\n",
    "File  -  Document containing information residing on the permanent stroage\n",
    "Types  -  Text, PDF, CSV etc\n",
    "\n",
    "File I/O   -->  Channelling I/O data to files\n",
    "Defaulst I/O Channels  -  Keyboard / Screen\n",
    "\n",
    "Change I/O Channel to files for Reading and Writing\n",
    "\n",
    "Read a file  -  Input from file\n",
    "Write to a file  -  Output to a file\n",
    "\n",
    "Read / Write a file  -  open(filename, mode)\n",
    "\n"
   ]
  },
  {
   "cell_type": "code",
   "execution_count": 19,
   "metadata": {},
   "outputs": [
    {
     "name": "stdout",
     "output_type": "stream",
     "text": [
      "new datanew datanew dataLine2\n",
      "Line3Line2\n",
      "Line3Line4Line5Line4Line5Line2,Line3Line2,Line3\n",
      "Line2\n",
      "Line7\n",
      "Line3\n",
      "new datanew datanew dataLine2\n",
      "\n",
      "Line3Line2\n",
      "\n",
      "Line3Line4Line5Line4Line5Line2,Line3Line2,Line3\n",
      "\n",
      "Line2\n",
      "\n",
      "Line7\n",
      "\n",
      "Line3\n"
     ]
    }
   ],
   "source": [
    "# Function to read a file\n",
    "\n",
    "def readFile(filename):\n",
    "    f = open(filename, 'r')\n",
    "    filedata = f.read()\n",
    "    f.close()\n",
    "    return filedata\n",
    "\n",
    "\n",
    "filename = 'datafiles/data.txt'\n",
    "filedata = readFile(filename)\n",
    "for line in filedata.split('\\n'):\n",
    "    print(line)\n",
    "    \n",
    "    \n",
    "    \n",
    "def printFileDataLines(filename):\n",
    "    f = open(filename, 'r')\n",
    "    for line in f:\n",
    "        print(line)\n",
    "    return\n",
    "\n",
    "printFileDataLines(filename)"
   ]
  },
  {
   "cell_type": "code",
   "execution_count": 20,
   "metadata": {},
   "outputs": [
    {
     "name": "stdout",
     "output_type": "stream",
     "text": [
      "new datanew datanew dataLine2\n",
      "Line3Line2\n",
      "Line3Line4Line5Line4Line5Line2,Line3Line2,Line3\n",
      "Line2\n",
      "Line7\n",
      "Line3new datanew datanew dataLine2\n",
      "Line3Line2\n",
      "Line3Line4Line5Line4Line5Line2,Line3Line2,Line3\n",
      "Line2\n",
      "Line7\n",
      "Line3\n"
     ]
    }
   ],
   "source": [
    "# print(line)\n",
    "\n",
    "def printFileDataLines(filename):\n",
    "    f = open(filename, 'r')\n",
    "    for line in f:\n",
    "        print(line, end='')\n",
    "    return\n",
    "\n",
    "printFileDataLines(filename)\n",
    "print(readFile(filename))"
   ]
  },
  {
   "cell_type": "code",
   "execution_count": 21,
   "metadata": {},
   "outputs": [
    {
     "name": "stdout",
     "output_type": "stream",
     "text": [
      "new datanew datanew dataLine2\n",
      "Line3Line2\n",
      "Line3Line4Line5Line4Line5Line2,Line3Line2,Line3\n",
      "Line2\n",
      "Line7\n",
      "Line3new datanew datanew dataLine2\n",
      "Line3Line2\n",
      "Line3Line4Line5Line4Line5Line2,Line3Line2,Line3\n",
      "Line2\n",
      "Line7\n",
      "Line3\n"
     ]
    }
   ],
   "source": [
    "def printFileDataLines(filename):\n",
    "    with open(filename, 'r') as f:\n",
    "        for line in f:\n",
    "            print(line, end='')\n",
    "    return\n",
    "\n",
    "printFileDataLines(filename)\n",
    "print(readFile(filename))"
   ]
  },
  {
   "cell_type": "code",
   "execution_count": null,
   "metadata": {},
   "outputs": [],
   "source": []
  },
  {
   "cell_type": "code",
   "execution_count": 22,
   "metadata": {},
   "outputs": [],
   "source": [
    "# Function to write data into a file\n",
    "\n",
    "def writeIntoFile(filename, filedata):\n",
    "    with open(filename, 'w') as f:\n",
    "        f.write(filedata)\n",
    "    return\n",
    "\n",
    "filename = 'DataFiles/data.txt'\n",
    "\n",
    "writeIntoFile(filename, \"new data\")"
   ]
  },
  {
   "cell_type": "code",
   "execution_count": null,
   "metadata": {},
   "outputs": [],
   "source": []
  },
  {
   "cell_type": "code",
   "execution_count": 23,
   "metadata": {},
   "outputs": [],
   "source": [
    "# Function to append data to a file\n",
    "\n",
    "def appendDataToFile(filename,filedata):\n",
    "    with open(filename,'a') as f:\n",
    "        f.writelines(filedata)\n",
    "    return \n",
    "filedata=[\"Line2,Line3\"]\n",
    "\n",
    "appendDataToFile(filename,filedata)\n"
   ]
  },
  {
   "cell_type": "code",
   "execution_count": null,
   "metadata": {},
   "outputs": [],
   "source": []
  },
  {
   "cell_type": "code",
   "execution_count": 24,
   "metadata": {},
   "outputs": [],
   "source": [
    "def appendDataToFile(filename,filedata):\n",
    "    with open(filename,'a') as f:\n",
    "        f.write(filedata)\n",
    "    return \n",
    "filedata=\"\\nLine2\\nLine7\"\n",
    "\n",
    "appendDataToFile(filename,filedata)"
   ]
  },
  {
   "cell_type": "code",
   "execution_count": null,
   "metadata": {},
   "outputs": [],
   "source": []
  },
  {
   "cell_type": "code",
   "execution_count": 25,
   "metadata": {},
   "outputs": [],
   "source": [
    "def appendDataToFile(filename,filedata):\n",
    "    with open(filename,'a') as f:\n",
    "        f.writelines(\"\\n\"+line)\n",
    "    return \n",
    "filedata='Data Files/data.txt'\n",
    "appendDataToFile(filename,filedata)"
   ]
  },
  {
   "cell_type": "code",
   "execution_count": null,
   "metadata": {},
   "outputs": [],
   "source": []
  },
  {
   "cell_type": "code",
   "execution_count": 12,
   "metadata": {},
   "outputs": [
    {
     "name": "stdout",
     "output_type": "stream",
     "text": [
      "3\n",
      "2 5\n",
      "1 4\n",
      "1 5\n",
      "10\n"
     ]
    }
   ],
   "source": [
    "t = int(input())\n",
    "pro=0\n",
    "s=0\n",
    "for i in range(t):\n",
    "    li = input().split()\n",
    "    n1 = int(li[0])\n",
    "    n2 = int(li[1])\n",
    "    pro=pro+(n1*n2)\n",
    "if(pro>=10):\n",
    "    while(pro!=0):\n",
    "        s=s+(pro%10)\n",
    "        pro=pro//10\n",
    "    print(s)\n",
    "else:\n",
    "    print(pro)"
   ]
  },
  {
   "cell_type": "code",
   "execution_count": null,
   "metadata": {},
   "outputs": [],
   "source": []
  },
  {
   "cell_type": "code",
   "execution_count": 16,
   "metadata": {},
   "outputs": [
    {
     "name": "stdout",
     "output_type": "stream",
     "text": [
      "3\n",
      "3\n",
      "2 1\n",
      "1 2\n",
      "2 9\n",
      "4\n",
      "1\n",
      "8 1\n",
      "8\n",
      "3\n",
      "2 5\n",
      "1 4\n",
      "1 5\n",
      "1\n"
     ]
    }
   ],
   "source": [
    "# Recursive Sums\n",
    "\n",
    "def singleDigit(n):\n",
    "    sum = 0\n",
    "    while(n!=0):\n",
    "        sum = sum+(n%10)\n",
    "        n = n // 10\n",
    "    return sum\n",
    "        \n",
    "t = int(input())\n",
    "pro=0\n",
    "s=0\n",
    "for i in range(t):\n",
    "    m = int(input())\n",
    "    for j in range(1, m+1):\n",
    "        li = input().split()\n",
    "        n1 = int(li[0])\n",
    "        n2 = int(li[1])\n",
    "        pro=pro+(n1*n2)\n",
    "    if(pro>=10):\n",
    "        while(pro!=0):\n",
    "            s=s+(pro%10)\n",
    "            pro=pro//10\n",
    "        if s==10:\n",
    "            print(singleDigit(s))\n",
    "            s=0\n",
    "        else:\n",
    "            print(s)\n",
    "            s=0\n",
    "    else:\n",
    "        print(pro)\n",
    "        pro =0"
   ]
  },
  {
   "cell_type": "code",
   "execution_count": null,
   "metadata": {},
   "outputs": [],
   "source": []
  }
 ],
 "metadata": {
  "kernelspec": {
   "display_name": "Python 3",
   "language": "python",
   "name": "python3"
  },
  "language_info": {
   "codemirror_mode": {
    "name": "ipython",
    "version": 3
   },
   "file_extension": ".py",
   "mimetype": "text/x-python",
   "name": "python",
   "nbconvert_exporter": "python",
   "pygments_lexer": "ipython3",
   "version": "3.7.3"
  }
 },
 "nbformat": 4,
 "nbformat_minor": 2
}
